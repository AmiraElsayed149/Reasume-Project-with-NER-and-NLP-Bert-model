{
  "cells": [
    {
      "cell_type": "markdown",
      "metadata": {
        "id": "1o4KEg53e0oo"
      },
      "source": [
        "Loading DataSet"
      ]
    },
    {
      "cell_type": "code",
      "execution_count": 1,
      "metadata": {
        "colab": {
          "base_uri": "https://localhost:8080/",
          "height": 363
        },
        "id": "Kb7eT4UXe1t-",
        "outputId": "ed73b4a0-5d9f-4a3a-a185-af4fe1767855"
      },
      "outputs": [
        {
          "output_type": "execute_result",
          "data": {
            "text/plain": [
              "        Unnamed: 0     sentence_id      word      tag\n",
              "318405      318405  sentence_31840    window        O\n",
              "318406      318406  sentence_31840         8        O\n",
              "318407      318407  sentence_31840    window        O\n",
              "318408      318408  sentence_31840        10        O\n",
              "318409      318409  sentence_31840      role        O\n",
              "318410      318410  sentence_31841  software  B-SKILL\n",
              "318411      318411  sentence_31841   testing  B-SKILL\n",
              "318412      318412  sentence_31841  duration        O\n",
              "318413      318413  sentence_31841         6        O\n",
              "318414      318414  sentence_31841     month        O"
            ],
            "text/html": [
              "\n",
              "  <div id=\"df-f66afd53-7c9d-435b-a5d7-a1655108b305\">\n",
              "    <div class=\"colab-df-container\">\n",
              "      <div>\n",
              "<style scoped>\n",
              "    .dataframe tbody tr th:only-of-type {\n",
              "        vertical-align: middle;\n",
              "    }\n",
              "\n",
              "    .dataframe tbody tr th {\n",
              "        vertical-align: top;\n",
              "    }\n",
              "\n",
              "    .dataframe thead th {\n",
              "        text-align: right;\n",
              "    }\n",
              "</style>\n",
              "<table border=\"1\" class=\"dataframe\">\n",
              "  <thead>\n",
              "    <tr style=\"text-align: right;\">\n",
              "      <th></th>\n",
              "      <th>Unnamed: 0</th>\n",
              "      <th>sentence_id</th>\n",
              "      <th>word</th>\n",
              "      <th>tag</th>\n",
              "    </tr>\n",
              "  </thead>\n",
              "  <tbody>\n",
              "    <tr>\n",
              "      <th>318405</th>\n",
              "      <td>318405</td>\n",
              "      <td>sentence_31840</td>\n",
              "      <td>window</td>\n",
              "      <td>O</td>\n",
              "    </tr>\n",
              "    <tr>\n",
              "      <th>318406</th>\n",
              "      <td>318406</td>\n",
              "      <td>sentence_31840</td>\n",
              "      <td>8</td>\n",
              "      <td>O</td>\n",
              "    </tr>\n",
              "    <tr>\n",
              "      <th>318407</th>\n",
              "      <td>318407</td>\n",
              "      <td>sentence_31840</td>\n",
              "      <td>window</td>\n",
              "      <td>O</td>\n",
              "    </tr>\n",
              "    <tr>\n",
              "      <th>318408</th>\n",
              "      <td>318408</td>\n",
              "      <td>sentence_31840</td>\n",
              "      <td>10</td>\n",
              "      <td>O</td>\n",
              "    </tr>\n",
              "    <tr>\n",
              "      <th>318409</th>\n",
              "      <td>318409</td>\n",
              "      <td>sentence_31840</td>\n",
              "      <td>role</td>\n",
              "      <td>O</td>\n",
              "    </tr>\n",
              "    <tr>\n",
              "      <th>318410</th>\n",
              "      <td>318410</td>\n",
              "      <td>sentence_31841</td>\n",
              "      <td>software</td>\n",
              "      <td>B-SKILL</td>\n",
              "    </tr>\n",
              "    <tr>\n",
              "      <th>318411</th>\n",
              "      <td>318411</td>\n",
              "      <td>sentence_31841</td>\n",
              "      <td>testing</td>\n",
              "      <td>B-SKILL</td>\n",
              "    </tr>\n",
              "    <tr>\n",
              "      <th>318412</th>\n",
              "      <td>318412</td>\n",
              "      <td>sentence_31841</td>\n",
              "      <td>duration</td>\n",
              "      <td>O</td>\n",
              "    </tr>\n",
              "    <tr>\n",
              "      <th>318413</th>\n",
              "      <td>318413</td>\n",
              "      <td>sentence_31841</td>\n",
              "      <td>6</td>\n",
              "      <td>O</td>\n",
              "    </tr>\n",
              "    <tr>\n",
              "      <th>318414</th>\n",
              "      <td>318414</td>\n",
              "      <td>sentence_31841</td>\n",
              "      <td>month</td>\n",
              "      <td>O</td>\n",
              "    </tr>\n",
              "  </tbody>\n",
              "</table>\n",
              "</div>\n",
              "      <button class=\"colab-df-convert\" onclick=\"convertToInteractive('df-f66afd53-7c9d-435b-a5d7-a1655108b305')\"\n",
              "              title=\"Convert this dataframe to an interactive table.\"\n",
              "              style=\"display:none;\">\n",
              "        \n",
              "  <svg xmlns=\"http://www.w3.org/2000/svg\" height=\"24px\"viewBox=\"0 0 24 24\"\n",
              "       width=\"24px\">\n",
              "    <path d=\"M0 0h24v24H0V0z\" fill=\"none\"/>\n",
              "    <path d=\"M18.56 5.44l.94 2.06.94-2.06 2.06-.94-2.06-.94-.94-2.06-.94 2.06-2.06.94zm-11 1L8.5 8.5l.94-2.06 2.06-.94-2.06-.94L8.5 2.5l-.94 2.06-2.06.94zm10 10l.94 2.06.94-2.06 2.06-.94-2.06-.94-.94-2.06-.94 2.06-2.06.94z\"/><path d=\"M17.41 7.96l-1.37-1.37c-.4-.4-.92-.59-1.43-.59-.52 0-1.04.2-1.43.59L10.3 9.45l-7.72 7.72c-.78.78-.78 2.05 0 2.83L4 21.41c.39.39.9.59 1.41.59.51 0 1.02-.2 1.41-.59l7.78-7.78 2.81-2.81c.8-.78.8-2.07 0-2.86zM5.41 20L4 18.59l7.72-7.72 1.47 1.35L5.41 20z\"/>\n",
              "  </svg>\n",
              "      </button>\n",
              "      \n",
              "  <style>\n",
              "    .colab-df-container {\n",
              "      display:flex;\n",
              "      flex-wrap:wrap;\n",
              "      gap: 12px;\n",
              "    }\n",
              "\n",
              "    .colab-df-convert {\n",
              "      background-color: #E8F0FE;\n",
              "      border: none;\n",
              "      border-radius: 50%;\n",
              "      cursor: pointer;\n",
              "      display: none;\n",
              "      fill: #1967D2;\n",
              "      height: 32px;\n",
              "      padding: 0 0 0 0;\n",
              "      width: 32px;\n",
              "    }\n",
              "\n",
              "    .colab-df-convert:hover {\n",
              "      background-color: #E2EBFA;\n",
              "      box-shadow: 0px 1px 2px rgba(60, 64, 67, 0.3), 0px 1px 3px 1px rgba(60, 64, 67, 0.15);\n",
              "      fill: #174EA6;\n",
              "    }\n",
              "\n",
              "    [theme=dark] .colab-df-convert {\n",
              "      background-color: #3B4455;\n",
              "      fill: #D2E3FC;\n",
              "    }\n",
              "\n",
              "    [theme=dark] .colab-df-convert:hover {\n",
              "      background-color: #434B5C;\n",
              "      box-shadow: 0px 1px 3px 1px rgba(0, 0, 0, 0.15);\n",
              "      filter: drop-shadow(0px 1px 2px rgba(0, 0, 0, 0.3));\n",
              "      fill: #FFFFFF;\n",
              "    }\n",
              "  </style>\n",
              "\n",
              "      <script>\n",
              "        const buttonEl =\n",
              "          document.querySelector('#df-f66afd53-7c9d-435b-a5d7-a1655108b305 button.colab-df-convert');\n",
              "        buttonEl.style.display =\n",
              "          google.colab.kernel.accessAllowed ? 'block' : 'none';\n",
              "\n",
              "        async function convertToInteractive(key) {\n",
              "          const element = document.querySelector('#df-f66afd53-7c9d-435b-a5d7-a1655108b305');\n",
              "          const dataTable =\n",
              "            await google.colab.kernel.invokeFunction('convertToInteractive',\n",
              "                                                     [key], {});\n",
              "          if (!dataTable) return;\n",
              "\n",
              "          const docLinkHtml = 'Like what you see? Visit the ' +\n",
              "            '<a target=\"_blank\" href=https://colab.research.google.com/notebooks/data_table.ipynb>data table notebook</a>'\n",
              "            + ' to learn more about interactive tables.';\n",
              "          element.innerHTML = '';\n",
              "          dataTable['output_type'] = 'display_data';\n",
              "          await google.colab.output.renderOutput(dataTable, element);\n",
              "          const docLink = document.createElement('div');\n",
              "          docLink.innerHTML = docLinkHtml;\n",
              "          element.appendChild(docLink);\n",
              "        }\n",
              "      </script>\n",
              "    </div>\n",
              "  </div>\n",
              "  "
            ]
          },
          "metadata": {},
          "execution_count": 1
        }
      ],
      "source": [
        "import pandas as pd\n",
        "import numpy as np\n",
        "from tqdm import tqdm, trange\n",
        "\n",
        "data = pd.read_csv(\"/content/CV_SENTANCES_DATA_BIO_Full_UpdatedResumeDataSet.csv\", encoding=\"latin1\").fillna(method=\"ffill\")\n",
        "data.tail(10)\n"
      ]
    },
    {
      "cell_type": "code",
      "source": [
        "data['tag'].value_counts()"
      ],
      "metadata": {
        "colab": {
          "base_uri": "https://localhost:8080/"
        },
        "id": "yULRESeuxEIw",
        "outputId": "bc292a46-4865-493b-ac1c-c670321b7ffc"
      },
      "execution_count": 2,
      "outputs": [
        {
          "output_type": "execute_result",
          "data": {
            "text/plain": [
              "O          291107\n",
              "B-SKILL     24914\n",
              "I-SKILL      2369\n",
              "O-SKILL        25\n",
              "Name: tag, dtype: int64"
            ]
          },
          "metadata": {},
          "execution_count": 2
        }
      ]
    },
    {
      "cell_type": "code",
      "source": [
        "class SentenceGetter(object):\n",
        "\n",
        "    def __init__(self, data):\n",
        "      self.n_sent = 1\n",
        "      self.data = data\n",
        "      self.empty = False\n",
        "      agg_func = lambda s: [(w, t) for w, t in zip(s[\"word\"].values.tolist(),\n",
        "                                                   s[\"tag\"].values.tolist())]\n",
        "      self.grouped = self.data.groupby(\"sentence_id\").apply(agg_func)\n",
        "      self.sentences = [s for s in self.grouped]\n",
        "\n",
        "    def get_next(self):\n",
        "        try:\n",
        "            s = self.grouped[\"Sentence: {}\".format(self.n_sent)]\n",
        "            self.n_sent += 1\n",
        "            return s\n",
        "        except:\n",
        "            return None"
      ],
      "metadata": {
        "id": "DVOsEebMz6Ev"
      },
      "execution_count": 3,
      "outputs": []
    },
    {
      "cell_type": "code",
      "source": [
        "getter = SentenceGetter(data)"
      ],
      "metadata": {
        "id": "APZHBzk1z-eJ"
      },
      "execution_count": 4,
      "outputs": []
    },
    {
      "cell_type": "code",
      "source": [
        "sentences = [[word[0] for word in sentence] for sentence in getter.sentences]\n",
        "sentences[0]"
      ],
      "metadata": {
        "colab": {
          "base_uri": "https://localhost:8080/"
        },
        "id": "fJhQtIh70aeg",
        "outputId": "16c54980-e4c3-4a5b-d830-575ae7b197d6"
      },
      "execution_count": 5,
      "outputs": [
        {
          "output_type": "execute_result",
          "data": {
            "text/plain": [
              "['skill',\n",
              " 'programming',\n",
              " 'language',\n",
              " 'python',\n",
              " 'panda',\n",
              " 'numpy',\n",
              " 'scipy',\n",
              " 'scikit',\n",
              " 'learn',\n",
              " 'matplotlib']"
            ]
          },
          "metadata": {},
          "execution_count": 5
        }
      ]
    },
    {
      "cell_type": "code",
      "source": [
        "labels = [[s[1] for s in sentence] for sentence in getter.sentences]\n",
        "print(labels[0])"
      ],
      "metadata": {
        "colab": {
          "base_uri": "https://localhost:8080/"
        },
        "id": "ofNQjvs50iHI",
        "outputId": "d63336d5-71bc-4e2e-a96f-d3add98a97af"
      },
      "execution_count": 6,
      "outputs": [
        {
          "output_type": "stream",
          "name": "stdout",
          "text": [
            "['O', 'B-SKILL', 'I-SKILL', 'B-SKILL', 'O', 'B-SKILL', 'O', 'B-SKILL', 'I-SKILL', 'O']\n"
          ]
        }
      ]
    },
    {
      "cell_type": "code",
      "execution_count": 7,
      "metadata": {
        "colab": {
          "base_uri": "https://localhost:8080/"
        },
        "id": "PO29plVrj3uv",
        "outputId": "2510aa95-7ea7-444b-cd4f-e5416fb98db6"
      },
      "outputs": [
        {
          "output_type": "execute_result",
          "data": {
            "text/plain": [
              "{'I-SKILL': 0, 'B-SKILL': 1, 'O': 2, 'O-SKILL': 3, 'PAD': 4}"
            ]
          },
          "metadata": {},
          "execution_count": 7
        }
      ],
      "source": [
        "tag_values = list(set(data[\"tag\"].values))\n",
        "tag_values.append(\"PAD\")\n",
        "tag2idx = {t: i for i, t in enumerate(tag_values)}\n",
        "tag2idx "
      ]
    },
    {
      "cell_type": "markdown",
      "source": [
        "Apply Bert and\n",
        "Prepare the sentences and labels"
      ],
      "metadata": {
        "id": "6dULvs_45RPR"
      }
    },
    {
      "cell_type": "code",
      "execution_count": 8,
      "metadata": {
        "id": "SaJnhtfbkQF9",
        "colab": {
          "base_uri": "https://localhost:8080/"
        },
        "outputId": "a309033c-6d7f-41ed-cc53-ca740d915598"
      },
      "outputs": [
        {
          "output_type": "stream",
          "name": "stdout",
          "text": [
            "Looking in indexes: https://pypi.org/simple, https://us-python.pkg.dev/colab-wheels/public/simple/\n",
            "Collecting transformers\n",
            "  Downloading transformers-4.26.1-py3-none-any.whl (6.3 MB)\n",
            "\u001b[2K     \u001b[90m━━━━━━━━━━━━━━━━━━━━━━━━━━━━━━━━━━━━━━━━\u001b[0m \u001b[32m6.3/6.3 MB\u001b[0m \u001b[31m55.7 MB/s\u001b[0m eta \u001b[36m0:00:00\u001b[0m\n",
            "\u001b[?25hCollecting huggingface-hub<1.0,>=0.11.0\n",
            "  Downloading huggingface_hub-0.13.2-py3-none-any.whl (199 kB)\n",
            "\u001b[2K     \u001b[90m━━━━━━━━━━━━━━━━━━━━━━━━━━━━━━━━━━━━━━\u001b[0m \u001b[32m199.2/199.2 KB\u001b[0m \u001b[31m29.1 MB/s\u001b[0m eta \u001b[36m0:00:00\u001b[0m\n",
            "\u001b[?25hRequirement already satisfied: numpy>=1.17 in /usr/local/lib/python3.9/dist-packages (from transformers) (1.22.4)\n",
            "Requirement already satisfied: tqdm>=4.27 in /usr/local/lib/python3.9/dist-packages (from transformers) (4.65.0)\n",
            "Requirement already satisfied: regex!=2019.12.17 in /usr/local/lib/python3.9/dist-packages (from transformers) (2022.6.2)\n",
            "Requirement already satisfied: filelock in /usr/local/lib/python3.9/dist-packages (from transformers) (3.9.0)\n",
            "Requirement already satisfied: pyyaml>=5.1 in /usr/local/lib/python3.9/dist-packages (from transformers) (6.0)\n",
            "Collecting tokenizers!=0.11.3,<0.14,>=0.11.1\n",
            "  Downloading tokenizers-0.13.2-cp39-cp39-manylinux_2_17_x86_64.manylinux2014_x86_64.whl (7.6 MB)\n",
            "\u001b[2K     \u001b[90m━━━━━━━━━━━━━━━━━━━━━━━━━━━━━━━━━━━━━━━━\u001b[0m \u001b[32m7.6/7.6 MB\u001b[0m \u001b[31m95.9 MB/s\u001b[0m eta \u001b[36m0:00:00\u001b[0m\n",
            "\u001b[?25hRequirement already satisfied: requests in /usr/local/lib/python3.9/dist-packages (from transformers) (2.25.1)\n",
            "Requirement already satisfied: packaging>=20.0 in /usr/local/lib/python3.9/dist-packages (from transformers) (23.0)\n",
            "Requirement already satisfied: typing-extensions>=3.7.4.3 in /usr/local/lib/python3.9/dist-packages (from huggingface-hub<1.0,>=0.11.0->transformers) (4.5.0)\n",
            "Requirement already satisfied: urllib3<1.27,>=1.21.1 in /usr/local/lib/python3.9/dist-packages (from requests->transformers) (1.26.15)\n",
            "Requirement already satisfied: idna<3,>=2.5 in /usr/local/lib/python3.9/dist-packages (from requests->transformers) (2.10)\n",
            "Requirement already satisfied: certifi>=2017.4.17 in /usr/local/lib/python3.9/dist-packages (from requests->transformers) (2022.12.7)\n",
            "Requirement already satisfied: chardet<5,>=3.0.2 in /usr/local/lib/python3.9/dist-packages (from requests->transformers) (4.0.0)\n",
            "Installing collected packages: tokenizers, huggingface-hub, transformers\n",
            "Successfully installed huggingface-hub-0.13.2 tokenizers-0.13.2 transformers-4.26.1\n"
          ]
        }
      ],
      "source": [
        "!pip install transformers"
      ]
    },
    {
      "cell_type": "code",
      "execution_count": 9,
      "metadata": {
        "colab": {
          "base_uri": "https://localhost:8080/",
          "height": 35
        },
        "id": "Eqoz4MT6kS2F",
        "outputId": "7b5111d1-c4db-4b25-aa3f-22cdb6a6e16f"
      },
      "outputs": [
        {
          "output_type": "execute_result",
          "data": {
            "text/plain": [
              "'1.13.1+cu116'"
            ],
            "application/vnd.google.colaboratory.intrinsic+json": {
              "type": "string"
            }
          },
          "metadata": {},
          "execution_count": 9
        }
      ],
      "source": [
        "# we have to prepare the data set for the use with pytorch and BERT\n",
        "import torch\n",
        "from torch.utils.data import TensorDataset, DataLoader, RandomSampler, SequentialSampler\n",
        "from transformers import BertTokenizer, BertConfig\n",
        "\n",
        "#from tensorflow.keras.preprocessing.sequence import pad_sequences\n",
        "from keras.utils import pad_sequences\n",
        "from sklearn.model_selection import train_test_split\n",
        "\n",
        "torch.__version__"
      ]
    },
    {
      "cell_type": "code",
      "execution_count": 10,
      "metadata": {
        "id": "1pUTMsXGkW0F"
      },
      "outputs": [],
      "source": [
        "MAX_LEN = 75  # sequence length of tokens\n",
        "bs = 32       # batch size"
      ]
    },
    {
      "cell_type": "code",
      "execution_count": 11,
      "metadata": {
        "id": "KtES6peukZGP"
      },
      "outputs": [],
      "source": [
        "device = torch.device(\"cuda\" if torch.cuda.is_available() else \"cpu\")\n",
        "n_gpu = torch.cuda.device_count()"
      ]
    },
    {
      "cell_type": "code",
      "execution_count": 12,
      "metadata": {
        "id": "Km3IYXewkbil",
        "colab": {
          "base_uri": "https://localhost:8080/",
          "height": 35
        },
        "outputId": "28e15a18-127d-4518-a898-adb6ed7c702f"
      },
      "outputs": [
        {
          "output_type": "execute_result",
          "data": {
            "text/plain": [
              "'Tesla T4'"
            ],
            "application/vnd.google.colaboratory.intrinsic+json": {
              "type": "string"
            }
          },
          "metadata": {},
          "execution_count": 12
        }
      ],
      "source": [
        "torch.cuda.get_device_name(0)"
      ]
    },
    {
      "cell_type": "markdown",
      "source": [
        "Tokenization"
      ],
      "metadata": {
        "id": "Lg_nwWCo6JYz"
      }
    },
    {
      "cell_type": "code",
      "execution_count": 13,
      "metadata": {
        "id": "OQOmOmXMkdsV",
        "colab": {
          "base_uri": "https://localhost:8080/",
          "height": 113,
          "referenced_widgets": [
            "d8eb5ef82cf544eb94002b69337b0a55",
            "8da396ee3a3849c29db0267a419d3b4a",
            "887c7afe75c44e349bcdfa45cd9c5c5b",
            "f92ed7a181c44b28ba8d5a7556696942",
            "81cdad64479345e4825437841bcd3bcf",
            "9db3a67649724c4ba2156a9df459bc2a",
            "65713f1b7a1d45f0860745d975549eda",
            "1b571bcbf9b047968d1cf570f798c76c",
            "4c0405f608f144c1a46f11c045d32a94",
            "d078930bfc124e0da49cf2be21b10349",
            "b12770ac63b74df6b6cf8828c67a87c5",
            "5df4abd533e946dc8f8fd2269ff91e50",
            "e10bbe5c024c461c93e9429a3b016c74",
            "d3e97dddd87f47578970082e917546c2",
            "51db6340289443be950f94d441fd4c06",
            "b5ace92a6fca4bcb9c7037eac33152f4",
            "207788624e9e411e9acf317332d799fa",
            "566b30511e2a4c3d832aa221d589a235",
            "8ed80b1111394c889ef3b6af805aff0c",
            "54cfdbf109b5488c898e83393f51a81b",
            "d549ba78023e4c62bd5c643a1bb8e6e6",
            "c9f0273c0aa24c3c98aa3abfce93e629",
            "07c142b38e1d4921914fc0493a03c4fd",
            "d3fe21747cbd48faab4beb7b851fd870",
            "826913a95314499a82bdcfb8215cfd9d",
            "052724aa241a44d986275f6804bfc581",
            "d7acdab78de148a4972e231281a2b67c",
            "4b42d4d900cc4159977dcaf5ea60211c",
            "e937f07fad4049d094b74f37cead8321",
            "95a29a64757446d3b06c529a3e79ccfd",
            "dcc2e207be6544449dba91c08ab84e7a",
            "173b7f06c5d44501b041c6aee0ee0b51",
            "758c3d7c8fae487abdf8d1b756d6add5"
          ]
        },
        "outputId": "5fb50fdf-47d0-4783-a38f-2db84dc5b8d9"
      },
      "outputs": [
        {
          "output_type": "display_data",
          "data": {
            "text/plain": [
              "Downloading (…)solve/main/vocab.txt:   0%|          | 0.00/213k [00:00<?, ?B/s]"
            ],
            "application/vnd.jupyter.widget-view+json": {
              "version_major": 2,
              "version_minor": 0,
              "model_id": "d8eb5ef82cf544eb94002b69337b0a55"
            }
          },
          "metadata": {}
        },
        {
          "output_type": "display_data",
          "data": {
            "text/plain": [
              "Downloading (…)okenizer_config.json:   0%|          | 0.00/29.0 [00:00<?, ?B/s]"
            ],
            "application/vnd.jupyter.widget-view+json": {
              "version_major": 2,
              "version_minor": 0,
              "model_id": "5df4abd533e946dc8f8fd2269ff91e50"
            }
          },
          "metadata": {}
        },
        {
          "output_type": "display_data",
          "data": {
            "text/plain": [
              "Downloading (…)lve/main/config.json:   0%|          | 0.00/570 [00:00<?, ?B/s]"
            ],
            "application/vnd.jupyter.widget-view+json": {
              "version_major": 2,
              "version_minor": 0,
              "model_id": "07c142b38e1d4921914fc0493a03c4fd"
            }
          },
          "metadata": {}
        }
      ],
      "source": [
        "tokenizer = BertTokenizer.from_pretrained('bert-base-cased', do_lower_case=False)"
      ]
    },
    {
      "cell_type": "code",
      "execution_count": 14,
      "metadata": {
        "id": "MDVWDxqBkh6M"
      },
      "outputs": [],
      "source": [
        "def tokenize_and_preserve_labels(sentence, text_labels):\n",
        "    tokenized_sentence = []\n",
        "    labels = []\n",
        "\n",
        "    for word, label in zip(sentence, text_labels):\n",
        "\n",
        "        # Tokenize the word and count # of subwords the word is broken into\n",
        "        tokenized_word = tokenizer.tokenize(word)\n",
        "        n_subwords = len(tokenized_word)\n",
        "\n",
        "        # Add the tokenized word to the final tokenized word list\n",
        "        tokenized_sentence.extend(tokenized_word)\n",
        "\n",
        "        # Add the same label to the new list of labels `n_subwords` times\n",
        "        labels.extend([label] * n_subwords)\n",
        "\n",
        "    return tokenized_sentence, labels"
      ]
    },
    {
      "cell_type": "code",
      "execution_count": 15,
      "metadata": {
        "id": "ILvInHB2kocV"
      },
      "outputs": [],
      "source": [
        "tokenized_texts_and_labels = [\n",
        "    tokenize_and_preserve_labels(sent, labs)\n",
        "    for sent, labs in zip(sentences, labels)\n",
        "]"
      ]
    },
    {
      "cell_type": "code",
      "execution_count": 16,
      "metadata": {
        "id": "3KO0E1zWkruN"
      },
      "outputs": [],
      "source": [
        "tokenized_texts = [token_label_pair[0] for token_label_pair in tokenized_texts_and_labels]\n",
        "labels = [token_label_pair[1] for token_label_pair in tokenized_texts_and_labels]"
      ]
    },
    {
      "cell_type": "code",
      "source": [
        "labels[0]\n"
      ],
      "metadata": {
        "id": "Mhe86lDIDgHq",
        "colab": {
          "base_uri": "https://localhost:8080/"
        },
        "outputId": "3de51b00-636e-4ed2-b05d-cd93e7e76fcd"
      },
      "execution_count": 17,
      "outputs": [
        {
          "output_type": "execute_result",
          "data": {
            "text/plain": [
              "['O',\n",
              " 'B-SKILL',\n",
              " 'I-SKILL',\n",
              " 'B-SKILL',\n",
              " 'B-SKILL',\n",
              " 'B-SKILL',\n",
              " 'O',\n",
              " 'O',\n",
              " 'B-SKILL',\n",
              " 'B-SKILL',\n",
              " 'B-SKILL',\n",
              " 'O',\n",
              " 'O',\n",
              " 'O',\n",
              " 'B-SKILL',\n",
              " 'B-SKILL',\n",
              " 'B-SKILL',\n",
              " 'B-SKILL',\n",
              " 'I-SKILL',\n",
              " 'O',\n",
              " 'O',\n",
              " 'O',\n",
              " 'O',\n",
              " 'O']"
            ]
          },
          "metadata": {},
          "execution_count": 17
        }
      ]
    },
    {
      "cell_type": "code",
      "execution_count": 18,
      "metadata": {
        "id": "S8MaV31akv07"
      },
      "outputs": [],
      "source": [
        "# we cut and pad the token and label sequences to our desired length\n",
        "input_ids = pad_sequences([tokenizer.convert_tokens_to_ids(txt) for txt in tokenized_texts],\n",
        "                          maxlen=MAX_LEN, dtype=\"long\", value=0.0,\n",
        "                          truncating=\"post\", padding=\"post\")"
      ]
    },
    {
      "cell_type": "code",
      "execution_count": 19,
      "metadata": {
        "id": "AkKyZt67kzz9"
      },
      "outputs": [],
      "source": [
        "tags = pad_sequences([[tag2idx.get(l) for l in lab] for lab in labels],\n",
        "                     maxlen=MAX_LEN, value=tag2idx[\"PAD\"], padding=\"post\",\n",
        "                     dtype=\"long\", truncating=\"post\")"
      ]
    },
    {
      "cell_type": "code",
      "execution_count": 20,
      "metadata": {
        "id": "R-Qns7YMk5j3"
      },
      "outputs": [],
      "source": [
        "# we create the mask to ignore the padded elements in the sequences\n",
        "attention_masks = [[float(i != 0.0) for i in ii] for ii in input_ids]"
      ]
    },
    {
      "cell_type": "code",
      "execution_count": 21,
      "metadata": {
        "id": "mbnV3jVlk7A3"
      },
      "outputs": [],
      "source": [
        "# we split the dataset to use 10% to validate the model\n",
        "tr_inputs, val_inputs, tr_tags, val_tags = train_test_split(input_ids, tags,\n",
        "                                                            random_state=2018, test_size=0.2)\n",
        "tr_masks, val_masks, _, _ = train_test_split(attention_masks, input_ids,\n",
        "                                             random_state=2018, test_size=0.2)"
      ]
    },
    {
      "cell_type": "code",
      "source": [
        "import numpy as np\n",
        "from tensorflow import keras\n",
        "from sklearn.utils.class_weight import compute_class_weight\n",
        "y_integers = np.argmax(tr_tags, axis=1)\n",
        "class_weights = compute_class_weight(class_weight ='balanced', classes = np.unique(y_integers), y = y_integers)\n",
        "d_class_weights = dict(enumerate(class_weights))\n",
        "print(d_class_weights)\n",
        "#history = model.fit(input_final, raw_y_train, batch_size=32, class_weight = d_class_weights, epochs=8,callbacks=[checkpoint,reduceLoss],validation_data =(val_final, raw_y_val), verbose=1)"
      ],
      "metadata": {
        "colab": {
          "base_uri": "https://localhost:8080/"
        },
        "id": "5GuyzAAm2C08",
        "outputId": "51021ef1-34fb-4bf8-d62d-2226e4c160a9"
      },
      "execution_count": 22,
      "outputs": [
        {
          "output_type": "stream",
          "name": "stdout",
          "text": [
            "{0: 849.1, 1: 0.2086240786240786, 2: 0.23507751937984497, 3: 0.22088969823100937, 4: 0.29279310344827586, 5: 0.35887573964497044, 6: 0.4770224719101124, 7: 0.5270639354438237, 8: 0.6976992604765817, 9: 0.7670280036133694, 10: 0.9465997770345597, 11: 1.35856, 12: 1.6204198473282443, 13: 2.3985875706214688, 14: 4.691160220994475, 15: 5.586184210526316, 16: 8.937894736842106, 17: 24.973529411764705, 18: 19.297727272727272, 19: 49.94705882352941, 20: 424.55, 21: 141.51666666666668, 22: 424.55, 23: 849.1, 24: 141.51666666666668, 25: 212.275, 26: 169.82, 27: 212.275, 28: 121.3, 29: 169.82}\n"
          ]
        }
      ]
    },
    {
      "cell_type": "code",
      "execution_count": 23,
      "metadata": {
        "id": "hklCFP_mlAPW"
      },
      "outputs": [],
      "source": [
        "# we’re operating in pytorch, we have to convert the dataset to torch tensors\n",
        "tr_inputs = torch.tensor(tr_inputs)\n",
        "val_inputs = torch.tensor(val_inputs)\n",
        "tr_tags = torch.tensor(tr_tags)\n",
        "val_tags = torch.tensor(val_tags)\n",
        "tr_masks = torch.tensor(tr_masks)\n",
        "val_masks = torch.tensor(val_masks)"
      ]
    },
    {
      "cell_type": "code",
      "execution_count": 24,
      "metadata": {
        "id": "4LiSYp7YlEC_"
      },
      "outputs": [],
      "source": [
        "train_data = TensorDataset(tr_inputs, tr_masks, tr_tags)\n",
        "train_sampler = RandomSampler(train_data)\n",
        "train_dataloader = DataLoader(train_data, sampler=train_sampler, batch_size=bs)\n",
        "\n",
        "valid_data = TensorDataset(val_inputs, val_masks, val_tags)\n",
        "valid_sampler = SequentialSampler(valid_data)\n",
        "valid_dataloader = DataLoader(valid_data, sampler=valid_sampler, batch_size=bs)"
      ]
    },
    {
      "cell_type": "code",
      "execution_count": 25,
      "metadata": {
        "colab": {
          "base_uri": "https://localhost:8080/",
          "height": 35
        },
        "id": "6cFRU-g4lHfl",
        "outputId": "9ba1c52f-c419-411c-b2f7-4b5a32816634"
      },
      "outputs": [
        {
          "output_type": "execute_result",
          "data": {
            "text/plain": [
              "'4.26.1'"
            ],
            "application/vnd.google.colaboratory.intrinsic+json": {
              "type": "string"
            }
          },
          "metadata": {},
          "execution_count": 25
        }
      ],
      "source": [
        "import transformers\n",
        "from transformers import BertForTokenClassification, AdamW\n",
        "transformers.__version__"
      ]
    },
    {
      "cell_type": "code",
      "source": [
        "#!pip install scikit-learn==0.18 --force-reinstall"
      ],
      "metadata": {
        "id": "Ey2ysOmB2wCU"
      },
      "execution_count": 26,
      "outputs": []
    },
    {
      "cell_type": "code",
      "execution_count": 27,
      "metadata": {
        "colab": {
          "base_uri": "https://localhost:8080/",
          "height": 156,
          "referenced_widgets": [
            "2c163c061da84e7fad4eb2bce943974d",
            "c13198a67a694f4daf63a6762b8e24b9",
            "db84ed4e98e942639fb52354e7181381",
            "ff270f4e23ef499e9f0f96b8cc4a59c7",
            "4a5d51c420bd4674bb770e0c006d1550",
            "991651ec8c5c40388d2300ae7f8124d2",
            "16b90fa7ebca4e8cbc7fdf91f41d3b81",
            "31e22e9428e749648780ad3ed7238b0f",
            "7de457b31e164f2b80cf780b84a743e6",
            "b120a3b3f1294241bf73c41e9ea556e1",
            "d6b09e57a9064969b915deec04fcc868"
          ]
        },
        "id": "4SbpTh7TlKLl",
        "outputId": "8362b907-86f8-40ac-82ba-fbd254d2acf0"
      },
      "outputs": [
        {
          "output_type": "display_data",
          "data": {
            "text/plain": [
              "Downloading pytorch_model.bin:   0%|          | 0.00/436M [00:00<?, ?B/s]"
            ],
            "application/vnd.jupyter.widget-view+json": {
              "version_major": 2,
              "version_minor": 0,
              "model_id": "2c163c061da84e7fad4eb2bce943974d"
            }
          },
          "metadata": {}
        },
        {
          "output_type": "stream",
          "name": "stderr",
          "text": [
            "Some weights of the model checkpoint at bert-base-cased were not used when initializing BertForTokenClassification: ['cls.seq_relationship.weight', 'cls.seq_relationship.bias', 'cls.predictions.bias', 'cls.predictions.transform.LayerNorm.bias', 'cls.predictions.decoder.weight', 'cls.predictions.transform.dense.weight', 'cls.predictions.transform.LayerNorm.weight', 'cls.predictions.transform.dense.bias']\n",
            "- This IS expected if you are initializing BertForTokenClassification from the checkpoint of a model trained on another task or with another architecture (e.g. initializing a BertForSequenceClassification model from a BertForPreTraining model).\n",
            "- This IS NOT expected if you are initializing BertForTokenClassification from the checkpoint of a model that you expect to be exactly identical (initializing a BertForSequenceClassification model from a BertForSequenceClassification model).\n",
            "Some weights of BertForTokenClassification were not initialized from the model checkpoint at bert-base-cased and are newly initialized: ['classifier.bias', 'classifier.weight']\n",
            "You should probably TRAIN this model on a down-stream task to be able to use it for predictions and inference.\n"
          ]
        }
      ],
      "source": [
        "model = BertForTokenClassification.from_pretrained(\n",
        "    \"bert-base-cased\",\n",
        "    num_labels=len(tag2idx),\n",
        "    output_attentions = False,\n",
        "    output_hidden_states = False\n",
        ")"
      ]
    },
    {
      "cell_type": "code",
      "execution_count": 28,
      "metadata": {
        "id": "8Dpw_YPPlUQ1"
      },
      "outputs": [],
      "source": [
        "model.cuda();"
      ]
    },
    {
      "cell_type": "code",
      "execution_count": 29,
      "metadata": {
        "id": "g8C4z5mJlVr0",
        "colab": {
          "base_uri": "https://localhost:8080/"
        },
        "outputId": "d9133e36-cb23-4d98-ce91-978c8d6ed22b"
      },
      "outputs": [
        {
          "output_type": "stream",
          "name": "stderr",
          "text": [
            "/usr/local/lib/python3.9/dist-packages/transformers/optimization.py:306: FutureWarning: This implementation of AdamW is deprecated and will be removed in a future version. Use the PyTorch implementation torch.optim.AdamW instead, or set `no_deprecation_warning=True` to disable this warning\n",
            "  warnings.warn(\n"
          ]
        }
      ],
      "source": [
        "FULL_FINETUNING = True\n",
        "if FULL_FINETUNING:\n",
        "    param_optimizer = list(model.named_parameters())\n",
        "    no_decay = ['bias', 'gamma', 'beta']\n",
        "    optimizer_grouped_parameters = [\n",
        "        {'params': [p for n, p in param_optimizer if not any(nd in n for nd in no_decay)],\n",
        "         'weight_decay_rate': 0.01},\n",
        "        {'params': [p for n, p in param_optimizer if any(nd in n for nd in no_decay)],\n",
        "         'weight_decay_rate': 0.0}\n",
        "    ]\n",
        "else:\n",
        "    param_optimizer = list(model.classifier.named_parameters())\n",
        "    optimizer_grouped_parameters = [{\"params\": [p for n, p in param_optimizer]}]\n",
        "\n",
        "optimizer = AdamW(\n",
        "    optimizer_grouped_parameters,\n",
        "    lr=3e-5,\n",
        "    eps=1e-8\n",
        ")"
      ]
    },
    {
      "cell_type": "code",
      "execution_count": 30,
      "metadata": {
        "id": "anbro-6ulZG1"
      },
      "outputs": [],
      "source": [
        "from transformers import get_linear_schedule_with_warmup\n",
        "\n",
        "epochs = 3\n",
        "max_grad_norm = 1.0\n",
        "\n",
        "# Total number of training steps is number of batches * number of epochs.\n",
        "total_steps = len(train_dataloader) * epochs\n",
        "\n",
        "# Create the learning rate scheduler.\n",
        "scheduler = get_linear_schedule_with_warmup(\n",
        "    optimizer,\n",
        "    num_warmup_steps=0,\n",
        "    num_training_steps=total_steps\n",
        ")"
      ]
    },
    {
      "cell_type": "code",
      "execution_count": 31,
      "metadata": {
        "colab": {
          "base_uri": "https://localhost:8080/"
        },
        "id": "rhaMDGn5lcG0",
        "outputId": "61b602f9-6b0d-49a4-dddc-2cebb424edba"
      },
      "outputs": [
        {
          "output_type": "stream",
          "name": "stdout",
          "text": [
            "Looking in indexes: https://pypi.org/simple, https://us-python.pkg.dev/colab-wheels/public/simple/\n",
            "Collecting seqeval\n",
            "  Downloading seqeval-1.2.2.tar.gz (43 kB)\n",
            "\u001b[2K     \u001b[90m━━━━━━━━━━━━━━━━━━━━━━━━━━━━━━━━━━━━━━━━\u001b[0m \u001b[32m43.6/43.6 KB\u001b[0m \u001b[31m2.0 MB/s\u001b[0m eta \u001b[36m0:00:00\u001b[0m\n",
            "\u001b[?25h  Preparing metadata (setup.py) ... \u001b[?25l\u001b[?25hdone\n",
            "Requirement already satisfied: numpy>=1.14.0 in /usr/local/lib/python3.9/dist-packages (from seqeval) (1.22.4)\n",
            "Requirement already satisfied: scikit-learn>=0.21.3 in /usr/local/lib/python3.9/dist-packages (from seqeval) (1.2.2)\n",
            "Requirement already satisfied: threadpoolctl>=2.0.0 in /usr/local/lib/python3.9/dist-packages (from scikit-learn>=0.21.3->seqeval) (3.1.0)\n",
            "Requirement already satisfied: joblib>=1.1.1 in /usr/local/lib/python3.9/dist-packages (from scikit-learn>=0.21.3->seqeval) (1.1.1)\n",
            "Requirement already satisfied: scipy>=1.3.2 in /usr/local/lib/python3.9/dist-packages (from scikit-learn>=0.21.3->seqeval) (1.10.1)\n",
            "Building wheels for collected packages: seqeval\n",
            "  Building wheel for seqeval (setup.py) ... \u001b[?25l\u001b[?25hdone\n",
            "  Created wheel for seqeval: filename=seqeval-1.2.2-py3-none-any.whl size=16179 sha256=55bf614e5a7196d6326469bb26fd95984453229736b609b72e5b74bc695f7ddf\n",
            "  Stored in directory: /root/.cache/pip/wheels/e2/a5/92/2c80d1928733611c2747a9820e1324a6835524d9411510c142\n",
            "Successfully built seqeval\n",
            "Installing collected packages: seqeval\n",
            "Successfully installed seqeval-1.2.2\n"
          ]
        }
      ],
      "source": [
        "!pip install seqeval"
      ]
    },
    {
      "cell_type": "code",
      "execution_count": 32,
      "metadata": {
        "id": "HufhhMABlhKz"
      },
      "outputs": [],
      "source": [
        "from seqeval.metrics import f1_score, accuracy_score"
      ]
    },
    {
      "cell_type": "code",
      "execution_count": 33,
      "metadata": {
        "id": "mSx9cBWLmN4W"
      },
      "outputs": [],
      "source": [
        "from tqdm import tqdm, trange"
      ]
    },
    {
      "cell_type": "code",
      "execution_count": 34,
      "metadata": {
        "colab": {
          "base_uri": "https://localhost:8080/"
        },
        "id": "Sbapc8_fliB9",
        "outputId": "87b192ca-e352-4ddd-d5f7-b42c526f80be"
      },
      "outputs": [
        {
          "output_type": "stream",
          "name": "stderr",
          "text": [
            "\rEpoch:   0%|          | 0/3 [00:00<?, ?it/s]"
          ]
        },
        {
          "output_type": "stream",
          "name": "stdout",
          "text": [
            "Average train loss: 0.025710176363545167\n",
            "Validation loss: 0.0030634693487081675\n",
            "Validation Accuracy: 0.9964188576609248\n"
          ]
        },
        {
          "output_type": "stream",
          "name": "stderr",
          "text": [
            "/usr/local/lib/python3.9/dist-packages/seqeval/metrics/sequence_labeling.py:171: UserWarning: O-SKILL seems not to be NE tag.\n",
            "  warnings.warn('{} seems not to be NE tag.'.format(chunk))\n",
            "\rEpoch:  33%|███▎      | 1/3 [06:18<12:36, 378.01s/it]"
          ]
        },
        {
          "output_type": "stream",
          "name": "stdout",
          "text": [
            "Validation F1-Score: 0.9818591267358939\n",
            "\n",
            "Average train loss: 0.0019868604214211263\n",
            "Validation loss: 0.001109025985892913\n",
            "Validation Accuracy: 0.9986967361740707\n"
          ]
        },
        {
          "output_type": "stream",
          "name": "stderr",
          "text": [
            "\rEpoch:  67%|██████▋   | 2/3 [12:32<06:16, 376.17s/it]"
          ]
        },
        {
          "output_type": "stream",
          "name": "stdout",
          "text": [
            "Validation F1-Score: 0.9934575362950963\n",
            "\n",
            "Average train loss: 0.0007148570027586524\n",
            "Validation loss: 0.0009270971437081244\n",
            "Validation Accuracy: 0.9989573889392566\n"
          ]
        },
        {
          "output_type": "stream",
          "name": "stderr",
          "text": [
            "Epoch: 100%|██████████| 3/3 [18:48<00:00, 376.04s/it]"
          ]
        },
        {
          "output_type": "stream",
          "name": "stdout",
          "text": [
            "Validation F1-Score: 0.9950806401394856\n",
            "\n",
            "CPU times: user 17min 51s, sys: 37.7 s, total: 18min 29s\n",
            "Wall time: 18min 48s\n"
          ]
        },
        {
          "output_type": "stream",
          "name": "stderr",
          "text": [
            "\n"
          ]
        }
      ],
      "source": [
        "\n",
        "%%time\n",
        "## Store the average loss after each epoch so we can plot them.\n",
        "loss_values, validation_loss_values = [], []\n",
        "\n",
        "for _ in trange(epochs, desc=\"Epoch\"):\n",
        "    # ========================================\n",
        "    #               Training\n",
        "    # ========================================\n",
        "    # Perform one full pass over the training set.\n",
        "\n",
        "    # Put the model into training mode.\n",
        "    model.train()\n",
        "    # Reset the total loss for this epoch.\n",
        "    total_loss = 0\n",
        "\n",
        "    # Training loop\n",
        "    for step, batch in enumerate(train_dataloader):\n",
        "        # add batch to gpu\n",
        "        batch = tuple(t.to(device) for t in batch)\n",
        "        b_input_ids, b_input_mask, b_labels = batch\n",
        "        # Always clear any previously calculated gradients before performing a backward pass.\n",
        "        model.zero_grad()\n",
        "        # forward pass\n",
        "        # This will return the loss (rather than the model output)\n",
        "        # because we have provided the `labels`.\n",
        "        outputs = model(b_input_ids, token_type_ids=None,\n",
        "                        attention_mask=b_input_mask, labels=b_labels)\n",
        "        # get the loss\n",
        "        loss = outputs[0]\n",
        "        # Perform a backward pass to calculate the gradients.\n",
        "        loss.backward()\n",
        "        # track train loss\n",
        "        total_loss += loss.item()\n",
        "        # Clip the norm of the gradient\n",
        "        # This is to help prevent the \"exploding gradients\" problem.\n",
        "        torch.nn.utils.clip_grad_norm_(parameters=model.parameters(), max_norm=max_grad_norm)\n",
        "        # update parameters\n",
        "        optimizer.step()\n",
        "        # Update the learning rate.\n",
        "        scheduler.step()\n",
        "    \n",
        "    # Calculate the average loss over the training data.\n",
        "    avg_train_loss = total_loss / len(train_dataloader)\n",
        "\n",
        "    print(\"Average train loss: {}\".format(avg_train_loss))\n",
        "\n",
        "    # Store the loss value for plotting the learning curve.\n",
        "    loss_values.append(avg_train_loss)\n",
        "\n",
        "\n",
        "    # ========================================\n",
        "    #               Validation\n",
        "    # ========================================\n",
        "    # After the completion of each training epoch, measure our performance on\n",
        "    # our validation set.\n",
        "\n",
        "    # Put the model into evaluation mode\n",
        "    model.eval()\n",
        "    # Reset the validation loss for this epoch.\n",
        "    eval_loss, eval_accuracy = 0, 0\n",
        "    nb_eval_steps, nb_eval_examples = 0, 0\n",
        "    predictions , true_labels = [], []\n",
        "    for batch in valid_dataloader:\n",
        "        batch = tuple(t.to(device) for t in batch)\n",
        "        b_input_ids, b_input_mask, b_labels = batch\n",
        "\n",
        "        # Telling the model not to compute or store gradients,\n",
        "        # saving memory and speeding up validation\n",
        "        with torch.no_grad():\n",
        "            # Forward pass, calculate logit predictions.\n",
        "            # This will return the logits rather than the loss because we have not provided labels.\n",
        "            outputs = model(b_input_ids, token_type_ids=None,\n",
        "                            attention_mask=b_input_mask, labels=b_labels)\n",
        "        # Move logits and labels to CPU\n",
        "        logits = outputs[1].detach().cpu().numpy()\n",
        "        label_ids = b_labels.to('cpu').numpy()\n",
        "\n",
        "        # Calculate the accuracy for this batch of test sentences.\n",
        "        eval_loss += outputs[0].mean().item()\n",
        "        predictions.extend([list(p) for p in np.argmax(logits, axis=2)])\n",
        "        true_labels.extend(label_ids)\n",
        "\n",
        "    eval_loss = eval_loss / len(valid_dataloader)\n",
        "    validation_loss_values.append(eval_loss)\n",
        "    print(\"Validation loss: {}\".format(eval_loss))\n",
        "    pred_tags = [tag_values[p_i] for p, l in zip(predictions, true_labels)\n",
        "                                 for p_i, l_i in zip(p, l) if tag_values[l_i] != \"PAD\"]\n",
        "    valid_tags = [tag_values[l_i] for l in true_labels\n",
        "                                  for l_i in l if tag_values[l_i] != \"PAD\"]\n",
        "    print(\"Validation Accuracy: {}\".format(accuracy_score(pred_tags, valid_tags)))\n",
        "    print(\"Validation F1-Score: {}\".format(f1_score([pred_tags], [valid_tags])))\n",
        "    print()\n"
      ]
    },
    {
      "cell_type": "markdown",
      "source": [
        "Visualize the training loss"
      ],
      "metadata": {
        "id": "paRGJFnmWCIP"
      }
    },
    {
      "cell_type": "code",
      "source": [
        "import matplotlib.pyplot as plt\n",
        "%matplotlib inline\n",
        "\n",
        "import seaborn as sns\n",
        "\n",
        "# Use plot styling from seaborn.\n",
        "sns.set(style='darkgrid')\n",
        "\n",
        "# Increase the plot size and font size.\n",
        "sns.set(font_scale=1.5)\n",
        "plt.rcParams[\"figure.figsize\"] = (12,6)\n",
        "\n",
        "# Plot the learning curve.\n",
        "plt.plot(loss_values, 'b-o', label=\"training loss\")\n",
        "plt.plot(validation_loss_values, 'r-o', label=\"validation loss\")\n",
        "\n",
        "# Label the plot.\n",
        "plt.title(\"Learning curve\")\n",
        "plt.xlabel(\"Epoch\")\n",
        "plt.ylabel(\"Loss\")\n",
        "plt.legend()\n",
        "\n",
        "plt.show()\n"
      ],
      "metadata": {
        "colab": {
          "base_uri": "https://localhost:8080/",
          "height": 427
        },
        "id": "mKtl0TE-WBDQ",
        "outputId": "54c45e0e-a46b-4f87-8e1d-a525ede46e0e"
      },
      "execution_count": 35,
      "outputs": [
        {
          "output_type": "display_data",
          "data": {
            "text/plain": [
              "<Figure size 864x432 with 1 Axes>"
            ],
            "image/png": "[encoded data removed]"
          },
          "metadata": {}
        }
      ]
    },
    {
      "cell_type": "code",
      "source": [
        "#test_acc = pd.DataFrame()\n",
        "#test_acc['valid_tags'] = valid_tags\n",
        "#test_acc['pred_tags'] = pred_tags\n",
        "#print(test_acc['valid_tags'].value_counts())\n",
        "#print(test_acc['pred_tags'].value_counts())"
      ],
      "metadata": {
        "id": "DJ57IsE9AGDx"
      },
      "execution_count": 36,
      "outputs": []
    },
    {
      "cell_type": "markdown",
      "source": [
        "## Model for job title classification"
      ],
      "metadata": {
        "id": "rKpo3-qjCzVC"
      }
    },
    {
      "cell_type": "code",
      "source": [
        "df = pd.read_csv(r\"/content/UpdatedResumeDataSet.csv\")\n",
        "df"
      ],
      "metadata": {
        "colab": {
          "base_uri": "https://localhost:8080/",
          "height": 424
        },
        "id": "y53GdZ78Cnzy",
        "outputId": "95bafb17-d49c-44a7-d041-f1d48665c6a1"
      },
      "execution_count": 37,
      "outputs": [
        {
          "output_type": "execute_result",
          "data": {
            "text/plain": [
              "         Category                                             Resume\n",
              "0    Data Science  Skills * Programming Languages: Python (pandas...\n",
              "1    Data Science  Education Details \\r\\nMay 2013 to May 2017 B.E...\n",
              "2    Data Science  Areas of Interest Deep Learning, Control Syste...\n",
              "3    Data Science  Skills â¢ R â¢ Python â¢ SAP HANA â¢ Table...\n",
              "4    Data Science  Education Details \\r\\n MCA   YMCAUST,  Faridab...\n",
              "..            ...                                                ...\n",
              "957       Testing  Computer Skills: â¢ Proficient in MS office (...\n",
              "958       Testing  â Willingness to accept the challenges. â ...\n",
              "959       Testing  PERSONAL SKILLS â¢ Quick learner, â¢ Eagerne...\n",
              "960       Testing  COMPUTER SKILLS & SOFTWARE KNOWLEDGE MS-Power ...\n",
              "961       Testing  Skill Set OS Windows XP/7/8/8.1/10 Database MY...\n",
              "\n",
              "[962 rows x 2 columns]"
            ],
            "text/html": [
              "\n",
              "  <div id=\"df-a12af45c-ca37-4a7a-b26b-8bf0ef36f8a8\">\n",
              "    <div class=\"colab-df-container\">\n",
              "      <div>\n",
              "<style scoped>\n",
              "    .dataframe tbody tr th:only-of-type {\n",
              "        vertical-align: middle;\n",
              "    }\n",
              "\n",
              "    .dataframe tbody tr th {\n",
              "        vertical-align: top;\n",
              "    }\n",
              "\n",
              "    .dataframe thead th {\n",
              "        text-align: right;\n",
              "    }\n",
              "</style>\n",
              "<table border=\"1\" class=\"dataframe\">\n",
              "  <thead>\n",
              "    <tr style=\"text-align: right;\">\n",
              "      <th></th>\n",
              "      <th>Category</th>\n",
              "      <th>Resume</th>\n",
              "    </tr>\n",
              "  </thead>\n",
              "  <tbody>\n",
              "    <tr>\n",
              "      <th>0</th>\n",
              "      <td>Data Science</td>\n",
              "      <td>Skills * Programming Languages: Python (pandas...</td>\n",
              "    </tr>\n",
              "    <tr>\n",
              "      <th>1</th>\n",
              "      <td>Data Science</td>\n",
              "      <td>Education Details \\r\\nMay 2013 to May 2017 B.E...</td>\n",
              "    </tr>\n",
              "    <tr>\n",
              "      <th>2</th>\n",
              "      <td>Data Science</td>\n",
              "      <td>Areas of Interest Deep Learning, Control Syste...</td>\n",
              "    </tr>\n",
              "    <tr>\n",
              "      <th>3</th>\n",
              "      <td>Data Science</td>\n",
              "      <td>Skills â¢ R â¢ Python â¢ SAP HANA â¢ Table...</td>\n",
              "    </tr>\n",
              "    <tr>\n",
              "      <th>4</th>\n",
              "      <td>Data Science</td>\n",
              "      <td>Education Details \\r\\n MCA   YMCAUST,  Faridab...</td>\n",
              "    </tr>\n",
              "    <tr>\n",
              "      <th>...</th>\n",
              "      <td>...</td>\n",
              "      <td>...</td>\n",
              "    </tr>\n",
              "    <tr>\n",
              "      <th>957</th>\n",
              "      <td>Testing</td>\n",
              "      <td>Computer Skills: â¢ Proficient in MS office (...</td>\n",
              "    </tr>\n",
              "    <tr>\n",
              "      <th>958</th>\n",
              "      <td>Testing</td>\n",
              "      <td>â Willingness to accept the challenges. â ...</td>\n",
              "    </tr>\n",
              "    <tr>\n",
              "      <th>959</th>\n",
              "      <td>Testing</td>\n",
              "      <td>PERSONAL SKILLS â¢ Quick learner, â¢ Eagerne...</td>\n",
              "    </tr>\n",
              "    <tr>\n",
              "      <th>960</th>\n",
              "      <td>Testing</td>\n",
              "      <td>COMPUTER SKILLS &amp; SOFTWARE KNOWLEDGE MS-Power ...</td>\n",
              "    </tr>\n",
              "    <tr>\n",
              "      <th>961</th>\n",
              "      <td>Testing</td>\n",
              "      <td>Skill Set OS Windows XP/7/8/8.1/10 Database MY...</td>\n",
              "    </tr>\n",
              "  </tbody>\n",
              "</table>\n",
              "<p>962 rows × 2 columns</p>\n",
              "</div>\n",
              "      <button class=\"colab-df-convert\" onclick=\"convertToInteractive('df-a12af45c-ca37-4a7a-b26b-8bf0ef36f8a8')\"\n",
              "              title=\"Convert this dataframe to an interactive table.\"\n",
              "              style=\"display:none;\">\n",
              "        \n",
              "  <svg xmlns=\"http://www.w3.org/2000/svg\" height=\"24px\"viewBox=\"0 0 24 24\"\n",
              "       width=\"24px\">\n",
              "    <path d=\"M0 0h24v24H0V0z\" fill=\"none\"/>\n",
              "    <path d=\"M18.56 5.44l.94 2.06.94-2.06 2.06-.94-2.06-.94-.94-2.06-.94 2.06-2.06.94zm-11 1L8.5 8.5l.94-2.06 2.06-.94-2.06-.94L8.5 2.5l-.94 2.06-2.06.94zm10 10l.94 2.06.94-2.06 2.06-.94-2.06-.94-.94-2.06-.94 2.06-2.06.94z\"/><path d=\"M17.41 7.96l-1.37-1.37c-.4-.4-.92-.59-1.43-.59-.52 0-1.04.2-1.43.59L10.3 9.45l-7.72 7.72c-.78.78-.78 2.05 0 2.83L4 21.41c.39.39.9.59 1.41.59.51 0 1.02-.2 1.41-.59l7.78-7.78 2.81-2.81c.8-.78.8-2.07 0-2.86zM5.41 20L4 18.59l7.72-7.72 1.47 1.35L5.41 20z\"/>\n",
              "  </svg>\n",
              "      </button>\n",
              "      \n",
              "  <style>\n",
              "    .colab-df-container {\n",
              "      display:flex;\n",
              "      flex-wrap:wrap;\n",
              "      gap: 12px;\n",
              "    }\n",
              "\n",
              "    .colab-df-convert {\n",
              "      background-color: #E8F0FE;\n",
              "      border: none;\n",
              "      border-radius: 50%;\n",
              "      cursor: pointer;\n",
              "      display: none;\n",
              "      fill: #1967D2;\n",
              "      height: 32px;\n",
              "      padding: 0 0 0 0;\n",
              "      width: 32px;\n",
              "    }\n",
              "\n",
              "    .colab-df-convert:hover {\n",
              "      background-color: #E2EBFA;\n",
              "      box-shadow: 0px 1px 2px rgba(60, 64, 67, 0.3), 0px 1px 3px 1px rgba(60, 64, 67, 0.15);\n",
              "      fill: #174EA6;\n",
              "    }\n",
              "\n",
              "    [theme=dark] .colab-df-convert {\n",
              "      background-color: #3B4455;\n",
              "      fill: #D2E3FC;\n",
              "    }\n",
              "\n",
              "    [theme=dark] .colab-df-convert:hover {\n",
              "      background-color: #434B5C;\n",
              "      box-shadow: 0px 1px 3px 1px rgba(0, 0, 0, 0.15);\n",
              "      filter: drop-shadow(0px 1px 2px rgba(0, 0, 0, 0.3));\n",
              "      fill: #FFFFFF;\n",
              "    }\n",
              "  </style>\n",
              "\n",
              "      <script>\n",
              "        const buttonEl =\n",
              "          document.querySelector('#df-a12af45c-ca37-4a7a-b26b-8bf0ef36f8a8 button.colab-df-convert');\n",
              "        buttonEl.style.display =\n",
              "          google.colab.kernel.accessAllowed ? 'block' : 'none';\n",
              "\n",
              "        async function convertToInteractive(key) {\n",
              "          const element = document.querySelector('#df-a12af45c-ca37-4a7a-b26b-8bf0ef36f8a8');\n",
              "          const dataTable =\n",
              "            await google.colab.kernel.invokeFunction('convertToInteractive',\n",
              "                                                     [key], {});\n",
              "          if (!dataTable) return;\n",
              "\n",
              "          const docLinkHtml = 'Like what you see? Visit the ' +\n",
              "            '<a target=\"_blank\" href=https://colab.research.google.com/notebooks/data_table.ipynb>data table notebook</a>'\n",
              "            + ' to learn more about interactive tables.';\n",
              "          element.innerHTML = '';\n",
              "          dataTable['output_type'] = 'display_data';\n",
              "          await google.colab.output.renderOutput(dataTable, element);\n",
              "          const docLink = document.createElement('div');\n",
              "          docLink.innerHTML = docLinkHtml;\n",
              "          element.appendChild(docLink);\n",
              "        }\n",
              "      </script>\n",
              "    </div>\n",
              "  </div>\n",
              "  "
            ]
          },
          "metadata": {},
          "execution_count": 37
        }
      ]
    },
    {
      "cell_type": "code",
      "source": [
        "import nltk\n",
        "nltk.download('omw-1.4')"
      ],
      "metadata": {
        "colab": {
          "base_uri": "https://localhost:8080/"
        },
        "id": "FfAH2pkACx3J",
        "outputId": "ab6c0b3f-bc80-4cc3-9605-827b23aed0cb"
      },
      "execution_count": 38,
      "outputs": [
        {
          "output_type": "stream",
          "name": "stderr",
          "text": [
            "[nltk_data] Downloading package omw-1.4 to /root/nltk_data...\n"
          ]
        },
        {
          "output_type": "execute_result",
          "data": {
            "text/plain": [
              "True"
            ]
          },
          "metadata": {},
          "execution_count": 38
        }
      ]
    },
    {
      "cell_type": "code",
      "source": [
        "import en_core_web_sm\n",
        "nlp = en_core_web_sm.load()\n",
        "skill_pattern_path = r\"/content/jz_skill_patterns.jsonl\"\n",
        "ruler = nlp.add_pipe(\"entity_ruler\")\n",
        "ruler.from_disk(skill_pattern_path)\n",
        "nlp.pipe_names"
      ],
      "metadata": {
        "colab": {
          "base_uri": "https://localhost:8080/"
        },
        "id": "2fvWIx4ADDM8",
        "outputId": "d53f905d-0eeb-4855-d347-18b0b239a963"
      },
      "execution_count": 39,
      "outputs": [
        {
          "output_type": "execute_result",
          "data": {
            "text/plain": [
              "['tok2vec',\n",
              " 'tagger',\n",
              " 'parser',\n",
              " 'attribute_ruler',\n",
              " 'lemmatizer',\n",
              " 'ner',\n",
              " 'entity_ruler']"
            ]
          },
          "metadata": {},
          "execution_count": 39
        }
      ]
    },
    {
      "cell_type": "code",
      "source": [
        "def get_skills(text):\n",
        "    doc = nlp(text)\n",
        "    #print(doc)\n",
        "    myset = []\n",
        "    subset = []\n",
        "    for ent in doc.ents:\n",
        "        #print(\"1\")\n",
        "        if ent.label_ == \"SKILL\":\n",
        "            subset.append(ent.text)\n",
        "    myset.append(subset)\n",
        "    #print(subset)\n",
        "    return subset\n",
        "\n",
        "\n",
        "def unique_skills(x):\n",
        "    return list(set(x))"
      ],
      "metadata": {
        "id": "OHrifQ1ADG2J"
      },
      "execution_count": 40,
      "outputs": []
    },
    {
      "cell_type": "code",
      "source": [
        "import locale\n",
        "def getpreferredencoding(do_setlocale = True):\n",
        "    return \"UTF-8\"\n",
        "locale.getpreferredencoding = getpreferredencoding\n",
        "\n",
        "!pip install pandas\n",
        "!pip install pyLDAvis\n",
        "!pip install spacy download en_core_web_sm"
      ],
      "metadata": {
        "id": "EePvvzO7RLdD"
      },
      "execution_count": null,
      "outputs": []
    },
    {
      "cell_type": "code",
      "source": [
        "#spacy\n",
        "import pandas as pd\n",
        "import spacy\n",
        "from spacy.pipeline import EntityRuler\n",
        "from spacy.lang.en import English\n",
        "from spacy.tokens import Doc\n",
        "\n",
        "#gensim\n",
        "import gensim\n",
        "from gensim import corpora\n",
        "\n",
        "#Visualization\n",
        "from spacy import displacy\n",
        "import pyLDAvis.gensim_models\n",
        "from wordcloud import WordCloud\n",
        "import plotly.express as px\n",
        "import matplotlib.pyplot as plt\n",
        "\n",
        "#Data loading/ Data manipulation\n",
        "import pandas as pd\n",
        "import numpy as np\n",
        "\n",
        "\n",
        "#nltk\n",
        "import re\n",
        "import nltk\n",
        "from nltk.corpus import stopwords\n",
        "from nltk.stem import WordNetLemmatizer\n",
        "nltk.download(['stopwords','wordnet'])\n",
        "\n",
        "#transformers\n",
        "from transformers import *\n",
        "model_name = \"bert-base-uncased\"\n",
        "from transformers import DataCollatorForTokenClassification\n",
        "\n",
        "\n",
        "\n",
        "#warning\n",
        "import warnings \n",
        "warnings.filterwarnings('ignore')"
      ],
      "metadata": {
        "colab": {
          "base_uri": "https://localhost:8080/"
        },
        "id": "DreZV2EsQ2MD",
        "outputId": "c2c7f3e4-f618-4aaa-8dff-2e60484ec4ce"
      },
      "execution_count": 42,
      "outputs": [
        {
          "output_type": "stream",
          "name": "stderr",
          "text": [
            "[nltk_data] Downloading package stopwords to /root/nltk_data...\n",
            "[nltk_data]   Unzipping corpora/stopwords.zip.\n",
            "[nltk_data] Downloading package wordnet to /root/nltk_data...\n",
            "/usr/local/lib/python3.9/dist-packages/transformers/generation_utils.py:24: FutureWarning: Importing `GenerationMixin` from `src/transformers/generation_utils.py` is deprecated and will be removed in Transformers v5. Import as `from transformers import GenerationMixin` instead.\n",
            "  warnings.warn(\n",
            "/usr/local/lib/python3.9/dist-packages/transformers/generation_tf_utils.py:24: FutureWarning: Importing `TFGenerationMixin` from `src/transformers/generation_tf_utils.py` is deprecated and will be removed in Transformers v5. Import as `from transformers import TFGenerationMixin` instead.\n",
            "  warnings.warn(\n"
          ]
        }
      ]
    },
    {
      "cell_type": "code",
      "source": [
        "import re\n",
        "import nltk\n",
        "nltk.download('stopwords')\n",
        "from nltk.corpus import stopwords\n",
        "clean = []\n",
        "stop_words = set(stopwords.words(\"english\"))\n",
        "lemmatizer = WordNetLemmatizer()\n",
        "\n",
        "for review in df[\"Resume\"]:\n",
        "    # Remove special characters, URLs, and Twitter handles\n",
        "    review = re.sub('(@[A-Za-z0-9]+)|([^0-9A-Za-z \\t])|(\\w+:\\/\\/\\S+)|^rt|http.+?\"', \" \", review)\n",
        "    # Convert to lowercase and split into words\n",
        "    review = review.lower().split()\n",
        "    # Lemmatize words and remove stop words\n",
        "    review = [lemmatizer.lemmatize(word) for word in review if word not in stop_words]\n",
        "    # Join the words back into a single string\n",
        "    review = \" \".join(review)\n",
        "    clean.append(review)"
      ],
      "metadata": {
        "id": "26lGornaDLxB",
        "colab": {
          "base_uri": "https://localhost:8080/"
        },
        "outputId": "9d9a66b1-a3d6-43fc-cee4-1eea193280dd"
      },
      "execution_count": 43,
      "outputs": [
        {
          "output_type": "stream",
          "name": "stderr",
          "text": [
            "[nltk_data] Downloading package stopwords to /root/nltk_data...\n",
            "[nltk_data]   Package stopwords is already up-to-date!\n"
          ]
        }
      ]
    },
    {
      "cell_type": "code",
      "source": [
        "df[\"Clean_Resume\"] = clean\n",
        "df[\"skills\"] = df[\"Clean_Resume\"].str.lower().apply(get_skills)\n",
        "df[\"skills\"] = df[\"skills\"].apply(unique_skills)\n",
        "df"
      ],
      "metadata": {
        "colab": {
          "base_uri": "https://localhost:8080/",
          "height": 641
        },
        "id": "C5YEV7HqDOWy",
        "outputId": "fe4ebebe-8571-4b07-9935-5e0a202fc13b"
      },
      "execution_count": 44,
      "outputs": [
        {
          "output_type": "execute_result",
          "data": {
            "text/plain": [
              "         Category                                             Resume  \\\n",
              "0    Data Science  Skills * Programming Languages: Python (pandas...   \n",
              "1    Data Science  Education Details \\r\\nMay 2013 to May 2017 B.E...   \n",
              "2    Data Science  Areas of Interest Deep Learning, Control Syste...   \n",
              "3    Data Science  Skills â¢ R â¢ Python â¢ SAP HANA â¢ Table...   \n",
              "4    Data Science  Education Details \\r\\n MCA   YMCAUST,  Faridab...   \n",
              "..            ...                                                ...   \n",
              "957       Testing  Computer Skills: â¢ Proficient in MS office (...   \n",
              "958       Testing  â Willingness to accept the challenges. â ...   \n",
              "959       Testing  PERSONAL SKILLS â¢ Quick learner, â¢ Eagerne...   \n",
              "960       Testing  COMPUTER SKILLS & SOFTWARE KNOWLEDGE MS-Power ...   \n",
              "961       Testing  Skill Set OS Windows XP/7/8/8.1/10 Database MY...   \n",
              "\n",
              "                                          Clean_Resume  \\\n",
              "0    skill programming language python panda numpy ...   \n",
              "1    education detail may 2013 may 2017 b e uit rgp...   \n",
              "2    area interest deep learning control system des...   \n",
              "3    skill r python sap hana tableau sap hana sql s...   \n",
              "4    education detail mca ymcaust faridabad haryana...   \n",
              "..                                                 ...   \n",
              "957  computer skill proficient m office word basic ...   \n",
              "958  willingness accept challenge positive thinking...   \n",
              "959  personal skill quick learner eagerness learn n...   \n",
              "960  computer skill software knowledge m power poin...   \n",
              "961  skill set o window xp 7 8 8 1 10 database mysq...   \n",
              "\n",
              "                                                skills  \n",
              "0    [data science, hbase, monitoring, dimensionali...  \n",
              "1    [python, time series, machine learning, outlie...  \n",
              "2    [eclipse, linux, data science, segmentation, u...  \n",
              "3    [data science, swift, data processing, segment...  \n",
              "4    [data science, python, data analysis, data str...  \n",
              "..                                                 ...  \n",
              "957  [relay, testing, diagram, electrical engineering]  \n",
              "958  [operating system, documentation, testing, sys...  \n",
              "959  [support, documentation, testing, functional t...  \n",
              "960                                 [software, design]  \n",
              "961  [library, server, android, testing, security, ...  \n",
              "\n",
              "[962 rows x 4 columns]"
            ],
            "text/html": [
              "\n",
              "  <div id=\"df-41fbd2c2-0ee6-446f-8d6a-fdc656c0a1f3\">\n",
              "    <div class=\"colab-df-container\">\n",
              "      <div>\n",
              "<style scoped>\n",
              "    .dataframe tbody tr th:only-of-type {\n",
              "        vertical-align: middle;\n",
              "    }\n",
              "\n",
              "    .dataframe tbody tr th {\n",
              "        vertical-align: top;\n",
              "    }\n",
              "\n",
              "    .dataframe thead th {\n",
              "        text-align: right;\n",
              "    }\n",
              "</style>\n",
              "<table border=\"1\" class=\"dataframe\">\n",
              "  <thead>\n",
              "    <tr style=\"text-align: right;\">\n",
              "      <th></th>\n",
              "      <th>Category</th>\n",
              "      <th>Resume</th>\n",
              "      <th>Clean_Resume</th>\n",
              "      <th>skills</th>\n",
              "    </tr>\n",
              "  </thead>\n",
              "  <tbody>\n",
              "    <tr>\n",
              "      <th>0</th>\n",
              "      <td>Data Science</td>\n",
              "      <td>Skills * Programming Languages: Python (pandas...</td>\n",
              "      <td>skill programming language python panda numpy ...</td>\n",
              "      <td>[data science, hbase, monitoring, dimensionali...</td>\n",
              "    </tr>\n",
              "    <tr>\n",
              "      <th>1</th>\n",
              "      <td>Data Science</td>\n",
              "      <td>Education Details \\r\\nMay 2013 to May 2017 B.E...</td>\n",
              "      <td>education detail may 2013 may 2017 b e uit rgp...</td>\n",
              "      <td>[python, time series, machine learning, outlie...</td>\n",
              "    </tr>\n",
              "    <tr>\n",
              "      <th>2</th>\n",
              "      <td>Data Science</td>\n",
              "      <td>Areas of Interest Deep Learning, Control Syste...</td>\n",
              "      <td>area interest deep learning control system des...</td>\n",
              "      <td>[eclipse, linux, data science, segmentation, u...</td>\n",
              "    </tr>\n",
              "    <tr>\n",
              "      <th>3</th>\n",
              "      <td>Data Science</td>\n",
              "      <td>Skills â¢ R â¢ Python â¢ SAP HANA â¢ Table...</td>\n",
              "      <td>skill r python sap hana tableau sap hana sql s...</td>\n",
              "      <td>[data science, swift, data processing, segment...</td>\n",
              "    </tr>\n",
              "    <tr>\n",
              "      <th>4</th>\n",
              "      <td>Data Science</td>\n",
              "      <td>Education Details \\r\\n MCA   YMCAUST,  Faridab...</td>\n",
              "      <td>education detail mca ymcaust faridabad haryana...</td>\n",
              "      <td>[data science, python, data analysis, data str...</td>\n",
              "    </tr>\n",
              "    <tr>\n",
              "      <th>...</th>\n",
              "      <td>...</td>\n",
              "      <td>...</td>\n",
              "      <td>...</td>\n",
              "      <td>...</td>\n",
              "    </tr>\n",
              "    <tr>\n",
              "      <th>957</th>\n",
              "      <td>Testing</td>\n",
              "      <td>Computer Skills: â¢ Proficient in MS office (...</td>\n",
              "      <td>computer skill proficient m office word basic ...</td>\n",
              "      <td>[relay, testing, diagram, electrical engineering]</td>\n",
              "    </tr>\n",
              "    <tr>\n",
              "      <th>958</th>\n",
              "      <td>Testing</td>\n",
              "      <td>â Willingness to accept the challenges. â ...</td>\n",
              "      <td>willingness accept challenge positive thinking...</td>\n",
              "      <td>[operating system, documentation, testing, sys...</td>\n",
              "    </tr>\n",
              "    <tr>\n",
              "      <th>959</th>\n",
              "      <td>Testing</td>\n",
              "      <td>PERSONAL SKILLS â¢ Quick learner, â¢ Eagerne...</td>\n",
              "      <td>personal skill quick learner eagerness learn n...</td>\n",
              "      <td>[support, documentation, testing, functional t...</td>\n",
              "    </tr>\n",
              "    <tr>\n",
              "      <th>960</th>\n",
              "      <td>Testing</td>\n",
              "      <td>COMPUTER SKILLS &amp; SOFTWARE KNOWLEDGE MS-Power ...</td>\n",
              "      <td>computer skill software knowledge m power poin...</td>\n",
              "      <td>[software, design]</td>\n",
              "    </tr>\n",
              "    <tr>\n",
              "      <th>961</th>\n",
              "      <td>Testing</td>\n",
              "      <td>Skill Set OS Windows XP/7/8/8.1/10 Database MY...</td>\n",
              "      <td>skill set o window xp 7 8 8 1 10 database mysq...</td>\n",
              "      <td>[library, server, android, testing, security, ...</td>\n",
              "    </tr>\n",
              "  </tbody>\n",
              "</table>\n",
              "<p>962 rows × 4 columns</p>\n",
              "</div>\n",
              "      <button class=\"colab-df-convert\" onclick=\"convertToInteractive('df-41fbd2c2-0ee6-446f-8d6a-fdc656c0a1f3')\"\n",
              "              title=\"Convert this dataframe to an interactive table.\"\n",
              "              style=\"display:none;\">\n",
              "        \n",
              "  <svg xmlns=\"http://www.w3.org/2000/svg\" height=\"24px\"viewBox=\"0 0 24 24\"\n",
              "       width=\"24px\">\n",
              "    <path d=\"M0 0h24v24H0V0z\" fill=\"none\"/>\n",
              "    <path d=\"M18.56 5.44l.94 2.06.94-2.06 2.06-.94-2.06-.94-.94-2.06-.94 2.06-2.06.94zm-11 1L8.5 8.5l.94-2.06 2.06-.94-2.06-.94L8.5 2.5l-.94 2.06-2.06.94zm10 10l.94 2.06.94-2.06 2.06-.94-2.06-.94-.94-2.06-.94 2.06-2.06.94z\"/><path d=\"M17.41 7.96l-1.37-1.37c-.4-.4-.92-.59-1.43-.59-.52 0-1.04.2-1.43.59L10.3 9.45l-7.72 7.72c-.78.78-.78 2.05 0 2.83L4 21.41c.39.39.9.59 1.41.59.51 0 1.02-.2 1.41-.59l7.78-7.78 2.81-2.81c.8-.78.8-2.07 0-2.86zM5.41 20L4 18.59l7.72-7.72 1.47 1.35L5.41 20z\"/>\n",
              "  </svg>\n",
              "      </button>\n",
              "      \n",
              "  <style>\n",
              "    .colab-df-container {\n",
              "      display:flex;\n",
              "      flex-wrap:wrap;\n",
              "      gap: 12px;\n",
              "    }\n",
              "\n",
              "    .colab-df-convert {\n",
              "      background-color: #E8F0FE;\n",
              "      border: none;\n",
              "      border-radius: 50%;\n",
              "      cursor: pointer;\n",
              "      display: none;\n",
              "      fill: #1967D2;\n",
              "      height: 32px;\n",
              "      padding: 0 0 0 0;\n",
              "      width: 32px;\n",
              "    }\n",
              "\n",
              "    .colab-df-convert:hover {\n",
              "      background-color: #E2EBFA;\n",
              "      box-shadow: 0px 1px 2px rgba(60, 64, 67, 0.3), 0px 1px 3px 1px rgba(60, 64, 67, 0.15);\n",
              "      fill: #174EA6;\n",
              "    }\n",
              "\n",
              "    [theme=dark] .colab-df-convert {\n",
              "      background-color: #3B4455;\n",
              "      fill: #D2E3FC;\n",
              "    }\n",
              "\n",
              "    [theme=dark] .colab-df-convert:hover {\n",
              "      background-color: #434B5C;\n",
              "      box-shadow: 0px 1px 3px 1px rgba(0, 0, 0, 0.15);\n",
              "      filter: drop-shadow(0px 1px 2px rgba(0, 0, 0, 0.3));\n",
              "      fill: #FFFFFF;\n",
              "    }\n",
              "  </style>\n",
              "\n",
              "      <script>\n",
              "        const buttonEl =\n",
              "          document.querySelector('#df-41fbd2c2-0ee6-446f-8d6a-fdc656c0a1f3 button.colab-df-convert');\n",
              "        buttonEl.style.display =\n",
              "          google.colab.kernel.accessAllowed ? 'block' : 'none';\n",
              "\n",
              "        async function convertToInteractive(key) {\n",
              "          const element = document.querySelector('#df-41fbd2c2-0ee6-446f-8d6a-fdc656c0a1f3');\n",
              "          const dataTable =\n",
              "            await google.colab.kernel.invokeFunction('convertToInteractive',\n",
              "                                                     [key], {});\n",
              "          if (!dataTable) return;\n",
              "\n",
              "          const docLinkHtml = 'Like what you see? Visit the ' +\n",
              "            '<a target=\"_blank\" href=https://colab.research.google.com/notebooks/data_table.ipynb>data table notebook</a>'\n",
              "            + ' to learn more about interactive tables.';\n",
              "          element.innerHTML = '';\n",
              "          dataTable['output_type'] = 'display_data';\n",
              "          await google.colab.output.renderOutput(dataTable, element);\n",
              "          const docLink = document.createElement('div');\n",
              "          docLink.innerHTML = docLinkHtml;\n",
              "          element.appendChild(docLink);\n",
              "        }\n",
              "      </script>\n",
              "    </div>\n",
              "  </div>\n",
              "  "
            ]
          },
          "metadata": {},
          "execution_count": 44
        }
      ]
    },
    {
      "cell_type": "code",
      "source": [
        "for i in range(df.shape[0]):\n",
        "    df['skills'].iloc[i] = ' '.join(df['skills'].iloc[i])\n"
      ],
      "metadata": {
        "id": "oFP3fZYaDRkJ"
      },
      "execution_count": 45,
      "outputs": []
    },
    {
      "cell_type": "code",
      "source": [
        "print (df['Category'].unique())\n",
        "print(\"\")\n",
        "print(\"Number of datapoints in each categories\")\n",
        "print(df['Category'].value_counts())"
      ],
      "metadata": {
        "colab": {
          "base_uri": "https://localhost:8080/"
        },
        "id": "_RWk9HrXDTzJ",
        "outputId": "e666a399-67c8-4133-9b02-a3d5d186dced"
      },
      "execution_count": 47,
      "outputs": [
        {
          "output_type": "stream",
          "name": "stdout",
          "text": [
            "['Data Science' 'HR' 'Advocate' 'Arts' 'Web Designing'\n",
            " 'Mechanical Engineer' 'Sales' 'Health and fitness' 'Civil Engineer'\n",
            " 'Java Developer' 'Business Analyst' 'SAP Developer' 'Automation Testing'\n",
            " 'Electrical Engineering' 'Operations Manager' 'Python Developer'\n",
            " 'DevOps Engineer' 'Network Security Engineer' 'PMO' 'Database' 'Hadoop'\n",
            " 'ETL Developer' 'DotNet Developer' 'Blockchain' 'Testing']\n",
            "\n",
            "Number of datapoints in each categories\n",
            "Java Developer               84\n",
            "Testing                      70\n",
            "DevOps Engineer              55\n",
            "Python Developer             48\n",
            "Web Designing                45\n",
            "HR                           44\n",
            "Hadoop                       42\n",
            "Blockchain                   40\n",
            "ETL Developer                40\n",
            "Operations Manager           40\n",
            "Data Science                 40\n",
            "Sales                        40\n",
            "Mechanical Engineer          40\n",
            "Arts                         36\n",
            "Database                     33\n",
            "Electrical Engineering       30\n",
            "Health and fitness           30\n",
            "PMO                          30\n",
            "Business Analyst             28\n",
            "DotNet Developer             28\n",
            "Automation Testing           26\n",
            "Network Security Engineer    25\n",
            "SAP Developer                24\n",
            "Civil Engineer               24\n",
            "Advocate                     20\n",
            "Name: Category, dtype: int64\n"
          ]
        }
      ]
    },
    {
      "cell_type": "code",
      "source": [
        "#Visualization of various categories\n",
        "df['Category'].value_counts(sort=True).nlargest(25).plot.bar()"
      ],
      "metadata": {
        "colab": {
          "base_uri": "https://localhost:8080/",
          "height": 604
        },
        "id": "AwjpAMXbDXb5",
        "outputId": "ab3e834b-1d42-4fc1-868a-3e555d7014ca"
      },
      "execution_count": 48,
      "outputs": [
        {
          "output_type": "execute_result",
          "data": {
            "text/plain": [
              "<AxesSubplot:>"
            ]
          },
          "metadata": {},
          "execution_count": 48
        },
        {
          "output_type": "display_data",
          "data": {
            "text/plain": [
              "<Figure size 864x432 with 1 Axes>"
            ],
            "image/png": "[encoded data removed]"
          },
          "metadata": {}
        }
      ]
    },
    {
      "cell_type": "code",
      "source": [
        "from sklearn.preprocessing import LabelEncoder\n",
        "\n",
        "labelencoder = LabelEncoder()\n",
        "df[\"Category_N\"] = labelencoder.fit_transform(df[\"Category\"])\n",
        "# print(type(labels))\n",
        "\n",
        "df"
      ],
      "metadata": {
        "colab": {
          "base_uri": "https://localhost:8080/",
          "height": 641
        },
        "id": "VMhEfoVRDaLx",
        "outputId": "c4cbfa5b-a549-41c8-a2b1-589f9ecf5cfe"
      },
      "execution_count": 49,
      "outputs": [
        {
          "output_type": "execute_result",
          "data": {
            "text/plain": [
              "         Category                                             Resume  \\\n",
              "0    Data Science  Skills * Programming Languages: Python (pandas...   \n",
              "1    Data Science  Education Details \\r\\nMay 2013 to May 2017 B.E...   \n",
              "2    Data Science  Areas of Interest Deep Learning, Control Syste...   \n",
              "3    Data Science  Skills â¢ R â¢ Python â¢ SAP HANA â¢ Table...   \n",
              "4    Data Science  Education Details \\r\\n MCA   YMCAUST,  Faridab...   \n",
              "..            ...                                                ...   \n",
              "957       Testing  Computer Skills: â¢ Proficient in MS office (...   \n",
              "958       Testing  â Willingness to accept the challenges. â ...   \n",
              "959       Testing  PERSONAL SKILLS â¢ Quick learner, â¢ Eagerne...   \n",
              "960       Testing  COMPUTER SKILLS & SOFTWARE KNOWLEDGE MS-Power ...   \n",
              "961       Testing  Skill Set OS Windows XP/7/8/8.1/10 Database MY...   \n",
              "\n",
              "                                          Clean_Resume  \\\n",
              "0    skill programming language python panda numpy ...   \n",
              "1    education detail may 2013 may 2017 b e uit rgp...   \n",
              "2    area interest deep learning control system des...   \n",
              "3    skill r python sap hana tableau sap hana sql s...   \n",
              "4    education detail mca ymcaust faridabad haryana...   \n",
              "..                                                 ...   \n",
              "957  computer skill proficient m office word basic ...   \n",
              "958  willingness accept challenge positive thinking...   \n",
              "959  personal skill quick learner eagerness learn n...   \n",
              "960  computer skill software knowledge m power poin...   \n",
              "961  skill set o window xp 7 8 8 1 10 database mysq...   \n",
              "\n",
              "                                                skills  Category_N  \n",
              "0    data science hbase monitoring dimensionality r...           6  \n",
              "1    python time series machine learning outlier bu...           6  \n",
              "2    eclipse linux data science segmentation ubuntu...           6  \n",
              "3    data science swift data processing segmentatio...           6  \n",
              "4    data science python data analysis data structu...           6  \n",
              "..                                                 ...         ...  \n",
              "957       relay testing diagram electrical engineering          23  \n",
              "958  operating system documentation testing system ...          23  \n",
              "959  support documentation testing functional testi...          23  \n",
              "960                                    software design          23  \n",
              "961  library server android testing security mysql ...          23  \n",
              "\n",
              "[962 rows x 5 columns]"
            ],
            "text/html": [
              "\n",
              "  <div id=\"df-db51fd93-fc6f-4b46-8cfe-df818834312d\">\n",
              "    <div class=\"colab-df-container\">\n",
              "      <div>\n",
              "<style scoped>\n",
              "    .dataframe tbody tr th:only-of-type {\n",
              "        vertical-align: middle;\n",
              "    }\n",
              "\n",
              "    .dataframe tbody tr th {\n",
              "        vertical-align: top;\n",
              "    }\n",
              "\n",
              "    .dataframe thead th {\n",
              "        text-align: right;\n",
              "    }\n",
              "</style>\n",
              "<table border=\"1\" class=\"dataframe\">\n",
              "  <thead>\n",
              "    <tr style=\"text-align: right;\">\n",
              "      <th></th>\n",
              "      <th>Category</th>\n",
              "      <th>Resume</th>\n",
              "      <th>Clean_Resume</th>\n",
              "      <th>skills</th>\n",
              "      <th>Category_N</th>\n",
              "    </tr>\n",
              "  </thead>\n",
              "  <tbody>\n",
              "    <tr>\n",
              "      <th>0</th>\n",
              "      <td>Data Science</td>\n",
              "      <td>Skills * Programming Languages: Python (pandas...</td>\n",
              "      <td>skill programming language python panda numpy ...</td>\n",
              "      <td>data science hbase monitoring dimensionality r...</td>\n",
              "      <td>6</td>\n",
              "    </tr>\n",
              "    <tr>\n",
              "      <th>1</th>\n",
              "      <td>Data Science</td>\n",
              "      <td>Education Details \\r\\nMay 2013 to May 2017 B.E...</td>\n",
              "      <td>education detail may 2013 may 2017 b e uit rgp...</td>\n",
              "      <td>python time series machine learning outlier bu...</td>\n",
              "      <td>6</td>\n",
              "    </tr>\n",
              "    <tr>\n",
              "      <th>2</th>\n",
              "      <td>Data Science</td>\n",
              "      <td>Areas of Interest Deep Learning, Control Syste...</td>\n",
              "      <td>area interest deep learning control system des...</td>\n",
              "      <td>eclipse linux data science segmentation ubuntu...</td>\n",
              "      <td>6</td>\n",
              "    </tr>\n",
              "    <tr>\n",
              "      <th>3</th>\n",
              "      <td>Data Science</td>\n",
              "      <td>Skills â¢ R â¢ Python â¢ SAP HANA â¢ Table...</td>\n",
              "      <td>skill r python sap hana tableau sap hana sql s...</td>\n",
              "      <td>data science swift data processing segmentatio...</td>\n",
              "      <td>6</td>\n",
              "    </tr>\n",
              "    <tr>\n",
              "      <th>4</th>\n",
              "      <td>Data Science</td>\n",
              "      <td>Education Details \\r\\n MCA   YMCAUST,  Faridab...</td>\n",
              "      <td>education detail mca ymcaust faridabad haryana...</td>\n",
              "      <td>data science python data analysis data structu...</td>\n",
              "      <td>6</td>\n",
              "    </tr>\n",
              "    <tr>\n",
              "      <th>...</th>\n",
              "      <td>...</td>\n",
              "      <td>...</td>\n",
              "      <td>...</td>\n",
              "      <td>...</td>\n",
              "      <td>...</td>\n",
              "    </tr>\n",
              "    <tr>\n",
              "      <th>957</th>\n",
              "      <td>Testing</td>\n",
              "      <td>Computer Skills: â¢ Proficient in MS office (...</td>\n",
              "      <td>computer skill proficient m office word basic ...</td>\n",
              "      <td>relay testing diagram electrical engineering</td>\n",
              "      <td>23</td>\n",
              "    </tr>\n",
              "    <tr>\n",
              "      <th>958</th>\n",
              "      <td>Testing</td>\n",
              "      <td>â Willingness to accept the challenges. â ...</td>\n",
              "      <td>willingness accept challenge positive thinking...</td>\n",
              "      <td>operating system documentation testing system ...</td>\n",
              "      <td>23</td>\n",
              "    </tr>\n",
              "    <tr>\n",
              "      <th>959</th>\n",
              "      <td>Testing</td>\n",
              "      <td>PERSONAL SKILLS â¢ Quick learner, â¢ Eagerne...</td>\n",
              "      <td>personal skill quick learner eagerness learn n...</td>\n",
              "      <td>support documentation testing functional testi...</td>\n",
              "      <td>23</td>\n",
              "    </tr>\n",
              "    <tr>\n",
              "      <th>960</th>\n",
              "      <td>Testing</td>\n",
              "      <td>COMPUTER SKILLS &amp; SOFTWARE KNOWLEDGE MS-Power ...</td>\n",
              "      <td>computer skill software knowledge m power poin...</td>\n",
              "      <td>software design</td>\n",
              "      <td>23</td>\n",
              "    </tr>\n",
              "    <tr>\n",
              "      <th>961</th>\n",
              "      <td>Testing</td>\n",
              "      <td>Skill Set OS Windows XP/7/8/8.1/10 Database MY...</td>\n",
              "      <td>skill set o window xp 7 8 8 1 10 database mysq...</td>\n",
              "      <td>library server android testing security mysql ...</td>\n",
              "      <td>23</td>\n",
              "    </tr>\n",
              "  </tbody>\n",
              "</table>\n",
              "<p>962 rows × 5 columns</p>\n",
              "</div>\n",
              "      <button class=\"colab-df-convert\" onclick=\"convertToInteractive('df-db51fd93-fc6f-4b46-8cfe-df818834312d')\"\n",
              "              title=\"Convert this dataframe to an interactive table.\"\n",
              "              style=\"display:none;\">\n",
              "        \n",
              "  <svg xmlns=\"http://www.w3.org/2000/svg\" height=\"24px\"viewBox=\"0 0 24 24\"\n",
              "       width=\"24px\">\n",
              "    <path d=\"M0 0h24v24H0V0z\" fill=\"none\"/>\n",
              "    <path d=\"M18.56 5.44l.94 2.06.94-2.06 2.06-.94-2.06-.94-.94-2.06-.94 2.06-2.06.94zm-11 1L8.5 8.5l.94-2.06 2.06-.94-2.06-.94L8.5 2.5l-.94 2.06-2.06.94zm10 10l.94 2.06.94-2.06 2.06-.94-2.06-.94-.94-2.06-.94 2.06-2.06.94z\"/><path d=\"M17.41 7.96l-1.37-1.37c-.4-.4-.92-.59-1.43-.59-.52 0-1.04.2-1.43.59L10.3 9.45l-7.72 7.72c-.78.78-.78 2.05 0 2.83L4 21.41c.39.39.9.59 1.41.59.51 0 1.02-.2 1.41-.59l7.78-7.78 2.81-2.81c.8-.78.8-2.07 0-2.86zM5.41 20L4 18.59l7.72-7.72 1.47 1.35L5.41 20z\"/>\n",
              "  </svg>\n",
              "      </button>\n",
              "      \n",
              "  <style>\n",
              "    .colab-df-container {\n",
              "      display:flex;\n",
              "      flex-wrap:wrap;\n",
              "      gap: 12px;\n",
              "    }\n",
              "\n",
              "    .colab-df-convert {\n",
              "      background-color: #E8F0FE;\n",
              "      border: none;\n",
              "      border-radius: 50%;\n",
              "      cursor: pointer;\n",
              "      display: none;\n",
              "      fill: #1967D2;\n",
              "      height: 32px;\n",
              "      padding: 0 0 0 0;\n",
              "      width: 32px;\n",
              "    }\n",
              "\n",
              "    .colab-df-convert:hover {\n",
              "      background-color: #E2EBFA;\n",
              "      box-shadow: 0px 1px 2px rgba(60, 64, 67, 0.3), 0px 1px 3px 1px rgba(60, 64, 67, 0.15);\n",
              "      fill: #174EA6;\n",
              "    }\n",
              "\n",
              "    [theme=dark] .colab-df-convert {\n",
              "      background-color: #3B4455;\n",
              "      fill: #D2E3FC;\n",
              "    }\n",
              "\n",
              "    [theme=dark] .colab-df-convert:hover {\n",
              "      background-color: #434B5C;\n",
              "      box-shadow: 0px 1px 3px 1px rgba(0, 0, 0, 0.15);\n",
              "      filter: drop-shadow(0px 1px 2px rgba(0, 0, 0, 0.3));\n",
              "      fill: #FFFFFF;\n",
              "    }\n",
              "  </style>\n",
              "\n",
              "      <script>\n",
              "        const buttonEl =\n",
              "          document.querySelector('#df-db51fd93-fc6f-4b46-8cfe-df818834312d button.colab-df-convert');\n",
              "        buttonEl.style.display =\n",
              "          google.colab.kernel.accessAllowed ? 'block' : 'none';\n",
              "\n",
              "        async function convertToInteractive(key) {\n",
              "          const element = document.querySelector('#df-db51fd93-fc6f-4b46-8cfe-df818834312d');\n",
              "          const dataTable =\n",
              "            await google.colab.kernel.invokeFunction('convertToInteractive',\n",
              "                                                     [key], {});\n",
              "          if (!dataTable) return;\n",
              "\n",
              "          const docLinkHtml = 'Like what you see? Visit the ' +\n",
              "            '<a target=\"_blank\" href=https://colab.research.google.com/notebooks/data_table.ipynb>data table notebook</a>'\n",
              "            + ' to learn more about interactive tables.';\n",
              "          element.innerHTML = '';\n",
              "          dataTable['output_type'] = 'display_data';\n",
              "          await google.colab.output.renderOutput(dataTable, element);\n",
              "          const docLink = document.createElement('div');\n",
              "          docLink.innerHTML = docLinkHtml;\n",
              "          element.appendChild(docLink);\n",
              "        }\n",
              "      </script>\n",
              "    </div>\n",
              "  </div>\n",
              "  "
            ]
          },
          "metadata": {},
          "execution_count": 49
        }
      ]
    },
    {
      "cell_type": "code",
      "source": [
        "from sklearn.feature_extraction.text import TfidfVectorizer\n",
        "\n",
        "Text = df['skills'].values\n",
        "op_labels = df['Category_N'].values\n",
        "word_vectorizer = TfidfVectorizer(max_features = 1500)\n",
        "word_vectorizer.fit(Text)\n",
        "features = word_vectorizer.transform(Text)\n",
        "type(Text)\n",
        "Text"
      ],
      "metadata": {
        "colab": {
          "base_uri": "https://localhost:8080/"
        },
        "id": "7FSTsHElDd7x",
        "outputId": "e0f2cb03-d879-4bda-b3e5-e85e5cba85d6"
      },
      "execution_count": 50,
      "outputs": [
        {
          "output_type": "execute_result",
          "data": {
            "text/plain": [
              "array(['data science hbase monitoring dimensionality reduction mysql regular expression predictive coding database visualization analytics time series bootstrap logstash bot computer vision random forest deep learning parse plotly kafka docker tableau machine learning decision tree programming language javascript natural language processing flask numpy git jquery python sentiment analysis accounting file format elasticsearch security cluster analysis cassandra scikit learn',\n",
              "       'python time series machine learning outlier business dimensionality reduction github ml feature selection',\n",
              "       'eclipse linux data science segmentation ubuntu mysql jupyter notebook analytics django deep learning design marketing machine learning business github flask software java operating system python segment debian pycharm data analysis electrical engineering engineering aeronautics',\n",
              "       'data science swift data processing segmentation server database analytics time series deep learning design marketing support tableau object detection machine learning decision tree testing business linear programming data flow diagram visual studio algorithm diagram python documentation data model specification segment finance cluster analysis medium nlp deployment engineering',\n",
              "       'data science python data analysis data structure database java',\n",
              "       'data science python machine learning',\n",
              "       'data science tableau python machine learning ai engineering business computer science data visualization visualization analytics',\n",
              "       'data science linux ubuntu artificial intelligence mysql database analytics google tensorflow framework bot deep learning logistic regression machine learning decision tree programming language algorithm natural language processing software java numpy library operating system linear regression python documentation oracle support vector machine computer science medium nlp engineering',\n",
              "       'data science python machine learning ai data model sentiment analysis deep learning selenium computer science nlp engineering algorithm scikit learn numpy',\n",
              "       'data science data mining database data visualization visualization analytics bot big data hadoop tableau machine learning business business intelligence twitter emotion selenium algorithm python sentiment analysis apache spark data analysis nlp mobile',\n",
              "       'data science hbase monitoring dimensionality reduction mysql regular expression predictive coding database visualization analytics time series bootstrap logstash bot computer vision random forest deep learning parse plotly kafka docker tableau machine learning decision tree programming language javascript natural language processing flask numpy git jquery python sentiment analysis accounting file format elasticsearch security cluster analysis cassandra scikit learn',\n",
              "       'python time series machine learning outlier business dimensionality reduction github ml feature selection',\n",
              "       'eclipse linux data science segmentation ubuntu mysql jupyter notebook analytics django deep learning design marketing machine learning business github flask software java operating system python segment debian pycharm data analysis electrical engineering engineering aeronautics',\n",
              "       'data science swift data processing segmentation server database analytics time series deep learning design marketing support tableau object detection machine learning decision tree testing business linear programming data flow diagram visual studio algorithm diagram python documentation data model specification segment finance cluster analysis medium nlp deployment engineering',\n",
              "       'data science python data analysis data structure database java',\n",
              "       'data science python machine learning',\n",
              "       'data science tableau python machine learning ai engineering business computer science data visualization visualization analytics',\n",
              "       'data science linux ubuntu artificial intelligence mysql database analytics google tensorflow framework bot deep learning logistic regression machine learning decision tree programming language algorithm natural language processing software java numpy library operating system linear regression python documentation oracle support vector machine computer science medium nlp engineering',\n",
              "       'data science python machine learning ai data model sentiment analysis deep learning selenium computer science nlp engineering algorithm scikit learn numpy',\n",
              "       'data science data mining database data visualization visualization analytics bot big data hadoop tableau machine learning business business intelligence twitter emotion selenium algorithm python sentiment analysis apache spark data analysis nlp mobile',\n",
              "       'data science hbase monitoring dimensionality reduction mysql regular expression predictive coding database visualization analytics time series bootstrap logstash bot computer vision random forest deep learning parse plotly kafka docker tableau machine learning decision tree programming language javascript natural language processing flask numpy git jquery python sentiment analysis accounting file format elasticsearch security cluster analysis cassandra scikit learn',\n",
              "       'python time series machine learning outlier business dimensionality reduction github ml feature selection',\n",
              "       'eclipse linux data science segmentation ubuntu mysql jupyter notebook analytics django deep learning design marketing machine learning business github flask software java operating system python segment debian pycharm data analysis electrical engineering engineering aeronautics',\n",
              "       'data science swift data processing segmentation server database analytics time series deep learning design marketing support tableau object detection machine learning decision tree testing business linear programming data flow diagram visual studio algorithm diagram python documentation data model specification segment finance cluster analysis medium nlp deployment engineering',\n",
              "       'data science python data analysis data structure database java',\n",
              "       'data science python machine learning',\n",
              "       'data science tableau python machine learning ai engineering business computer science data visualization visualization analytics',\n",
              "       'data science linux ubuntu artificial intelligence mysql database analytics google tensorflow framework bot deep learning logistic regression machine learning decision tree programming language algorithm natural language processing software java numpy library operating system linear regression python documentation oracle support vector machine computer science medium nlp engineering',\n",
              "       'data science python machine learning ai data model sentiment analysis deep learning selenium computer science nlp engineering algorithm scikit learn numpy',\n",
              "       'data science data mining database data visualization visualization analytics bot big data hadoop tableau machine learning business business intelligence twitter emotion selenium algorithm python sentiment analysis apache spark data analysis nlp mobile',\n",
              "       'data science hbase monitoring dimensionality reduction mysql regular expression predictive coding database visualization analytics time series bootstrap logstash bot computer vision random forest deep learning parse plotly kafka docker tableau machine learning decision tree programming language javascript natural language processing flask numpy git jquery python sentiment analysis accounting file format elasticsearch security cluster analysis cassandra scikit learn',\n",
              "       'python time series machine learning outlier business dimensionality reduction github ml feature selection',\n",
              "       'eclipse linux data science segmentation ubuntu mysql jupyter notebook analytics django deep learning design marketing machine learning business github flask software java operating system python segment debian pycharm data analysis electrical engineering engineering aeronautics',\n",
              "       'data science swift data processing segmentation server database analytics time series deep learning design marketing support tableau object detection machine learning decision tree testing business linear programming data flow diagram visual studio algorithm diagram python documentation data model specification segment finance cluster analysis medium nlp deployment engineering',\n",
              "       'data science python data analysis data structure database java',\n",
              "       'data science python machine learning',\n",
              "       'data science tableau python machine learning ai engineering business computer science data visualization visualization analytics',\n",
              "       'data science linux ubuntu artificial intelligence mysql database analytics google tensorflow framework bot deep learning logistic regression machine learning decision tree programming language algorithm natural language processing software java numpy library operating system linear regression python documentation oracle support vector machine computer science medium nlp engineering',\n",
              "       'data science python machine learning ai data model sentiment analysis deep learning selenium computer science nlp engineering algorithm scikit learn numpy',\n",
              "       'data science data mining database data visualization visualization analytics bot big data hadoop tableau machine learning business business intelligence twitter emotion selenium algorithm python sentiment analysis apache spark data analysis nlp mobile',\n",
              "       'engineering finance', 'software schedule deployment', '', '', '',\n",
              "       '', 'engineering', 'database finance accounting ecommerce',\n",
              "       'certificate', 'software collision',\n",
              "       'database engineering computer science software java',\n",
              "       'engineering finance', 'software schedule deployment', '', '', '',\n",
              "       '', 'engineering', 'database finance accounting ecommerce',\n",
              "       'certificate', 'software collision',\n",
              "       'database engineering computer science software java',\n",
              "       'engineering finance', 'software schedule deployment', '', '', '',\n",
              "       '', 'engineering', 'database finance accounting ecommerce',\n",
              "       'certificate', 'software collision',\n",
              "       'database engineering computer science software java',\n",
              "       'engineering finance', 'software schedule deployment', '', '', '',\n",
              "       '', 'engineering', 'database finance accounting ecommerce',\n",
              "       'certificate', 'software collision',\n",
              "       'database engineering computer science software java', '', '', '',\n",
              "       '', 'software', '', 'natural language', 'release business', '',\n",
              "       'commerce', '', '', '', '', 'software', '', 'natural language',\n",
              "       'release business', '', 'commerce',\n",
              "       'operating system business commerce engineering marketing',\n",
              "       'operating system',\n",
              "       'support publishing schedule business tower advertising medium software marketing leaflet',\n",
              "       'marketing commerce', '', 'commerce',\n",
              "       'operating system business commerce engineering marketing',\n",
              "       'operating system',\n",
              "       'support publishing schedule business tower advertising medium software marketing leaflet',\n",
              "       'marketing commerce', '', 'commerce',\n",
              "       'operating system business commerce engineering marketing',\n",
              "       'operating system',\n",
              "       'support publishing schedule business tower advertising medium software marketing leaflet',\n",
              "       'marketing commerce', '', 'commerce',\n",
              "       'operating system business commerce engineering marketing',\n",
              "       'operating system',\n",
              "       'support publishing schedule business tower advertising medium software marketing leaflet',\n",
              "       'marketing commerce', '', 'commerce',\n",
              "       'operating system business commerce engineering marketing',\n",
              "       'operating system',\n",
              "       'support publishing schedule business tower advertising medium software marketing leaflet',\n",
              "       'marketing commerce', '', 'commerce',\n",
              "       'operating system business commerce engineering marketing',\n",
              "       'operating system',\n",
              "       'support publishing schedule business tower advertising medium software marketing leaflet',\n",
              "       'marketing commerce', '', 'commerce',\n",
              "       'jquery javascript bootstrap engineering mobile visual studio angular visual studio code web app software security',\n",
              "       'operating system jquery codeigniter user interface database javascript bootstrap server framework apache tomcat search engine mysql design software ajax java',\n",
              "       'jquery javascript bootstrap engineering mobile visual studio angular visual studio code web app software security',\n",
              "       'design',\n",
              "       'expert system adobe photoshop database bootstrap text editor design adobe illustrator javascript business advertising software java operating system jquery documentation specification medium engineering sublime text',\n",
              "       'jquery javascript bootstrap engineering mobile visual studio angular visual studio code web app software security',\n",
              "       'operating system jquery codeigniter user interface database javascript bootstrap server framework apache tomcat search engine mysql design software ajax java',\n",
              "       'jquery javascript bootstrap engineering mobile visual studio angular visual studio code web app software security',\n",
              "       'design',\n",
              "       'expert system adobe photoshop database bootstrap text editor design adobe illustrator javascript business advertising software java operating system jquery documentation specification medium engineering sublime text',\n",
              "       'jquery javascript bootstrap engineering mobile visual studio angular visual studio code web app software security',\n",
              "       'operating system jquery codeigniter user interface database javascript bootstrap server framework apache tomcat search engine mysql design software ajax java',\n",
              "       'jquery javascript bootstrap engineering mobile visual studio angular visual studio code web app software security',\n",
              "       'design',\n",
              "       'expert system adobe photoshop database bootstrap text editor design adobe illustrator javascript business advertising software java operating system jquery documentation specification medium engineering sublime text',\n",
              "       'jquery javascript bootstrap engineering mobile visual studio angular visual studio code web app software security',\n",
              "       'operating system jquery codeigniter user interface database javascript bootstrap server framework apache tomcat search engine mysql design software ajax java',\n",
              "       'jquery javascript bootstrap engineering mobile visual studio angular visual studio code web app software security',\n",
              "       'design',\n",
              "       'expert system adobe photoshop database bootstrap text editor design adobe illustrator javascript business advertising software java operating system jquery documentation specification medium engineering sublime text',\n",
              "       'jquery javascript bootstrap engineering mobile visual studio angular visual studio code web app software security',\n",
              "       'operating system jquery codeigniter user interface database javascript bootstrap server framework apache tomcat search engine mysql design software ajax java',\n",
              "       'jquery javascript bootstrap engineering mobile visual studio angular visual studio code web app software security',\n",
              "       'design',\n",
              "       'expert system adobe photoshop database bootstrap text editor design adobe illustrator javascript business advertising software java operating system jquery documentation specification medium engineering sublime text',\n",
              "       'jquery javascript bootstrap engineering mobile visual studio angular visual studio code web app software security',\n",
              "       'operating system jquery codeigniter user interface database javascript bootstrap server framework apache tomcat search engine mysql design software ajax java',\n",
              "       'jquery javascript bootstrap engineering mobile visual studio angular visual studio code web app software security',\n",
              "       'design',\n",
              "       'expert system adobe photoshop database bootstrap text editor design adobe illustrator javascript business advertising software java operating system jquery documentation specification medium engineering sublime text',\n",
              "       'jquery javascript bootstrap engineering mobile visual studio angular visual studio code web app software security',\n",
              "       'operating system jquery codeigniter user interface database javascript bootstrap server framework apache tomcat search engine mysql design software ajax java',\n",
              "       'jquery javascript bootstrap engineering mobile visual studio angular visual studio code web app software security',\n",
              "       'design',\n",
              "       'expert system adobe photoshop database bootstrap text editor design adobe illustrator javascript business advertising software java operating system jquery documentation specification medium engineering sublime text',\n",
              "       'jquery javascript bootstrap engineering mobile visual studio angular visual studio code web app software security',\n",
              "       'operating system jquery codeigniter user interface database javascript bootstrap server framework apache tomcat search engine mysql design software ajax java',\n",
              "       'jquery javascript bootstrap engineering mobile visual studio angular visual studio code web app software security',\n",
              "       'design',\n",
              "       'expert system adobe photoshop database bootstrap text editor design adobe illustrator javascript business advertising software java operating system jquery documentation specification medium engineering sublime text',\n",
              "       'jquery javascript bootstrap engineering mobile visual studio angular visual studio code web app software security',\n",
              "       'operating system jquery codeigniter user interface database javascript bootstrap server framework apache tomcat search engine mysql design software ajax java',\n",
              "       'jquery javascript bootstrap engineering mobile visual studio angular visual studio code web app software security',\n",
              "       'design',\n",
              "       'expert system adobe photoshop database bootstrap text editor design adobe illustrator javascript business advertising software java operating system jquery documentation specification medium engineering sublime text',\n",
              "       'support documentation monitoring mechanical engineering database engineering specification schedule material engineering drawing design software marketing actuator',\n",
              "       'mechanical engineering engineering component design software',\n",
              "       'engineering mechanical engineering',\n",
              "       'mechanical engineering engineering material design software actuator',\n",
              "       'engineering design commerce mechanical engineering',\n",
              "       'support documentation monitoring mechanical engineering database engineering specification schedule material engineering drawing design software marketing actuator',\n",
              "       'mechanical engineering engineering component design software',\n",
              "       'engineering mechanical engineering',\n",
              "       'mechanical engineering engineering material design software actuator',\n",
              "       'engineering design commerce mechanical engineering',\n",
              "       'support documentation monitoring mechanical engineering database engineering specification schedule material engineering drawing design software marketing actuator',\n",
              "       'mechanical engineering engineering component design software',\n",
              "       'engineering mechanical engineering',\n",
              "       'mechanical engineering engineering material design software actuator',\n",
              "       'engineering design commerce mechanical engineering',\n",
              "       'support documentation monitoring mechanical engineering database engineering specification schedule material engineering drawing design software marketing actuator',\n",
              "       'mechanical engineering engineering component design software',\n",
              "       'engineering mechanical engineering',\n",
              "       'mechanical engineering engineering material design software actuator',\n",
              "       'engineering design commerce mechanical engineering',\n",
              "       'support documentation monitoring mechanical engineering database engineering specification schedule material engineering drawing design software marketing actuator',\n",
              "       'mechanical engineering engineering component design software',\n",
              "       'engineering mechanical engineering',\n",
              "       'mechanical engineering engineering material design software actuator',\n",
              "       'engineering design commerce mechanical engineering',\n",
              "       'support documentation monitoring mechanical engineering database engineering specification schedule material engineering drawing design software marketing actuator',\n",
              "       'mechanical engineering engineering component design software',\n",
              "       'engineering mechanical engineering',\n",
              "       'mechanical engineering engineering material design software actuator',\n",
              "       'engineering design commerce mechanical engineering',\n",
              "       'support documentation monitoring mechanical engineering database engineering specification schedule material engineering drawing design software marketing actuator',\n",
              "       'mechanical engineering engineering component design software',\n",
              "       'engineering mechanical engineering',\n",
              "       'mechanical engineering engineering material design software actuator',\n",
              "       'engineering design commerce mechanical engineering',\n",
              "       'support documentation monitoring mechanical engineering database engineering specification schedule material engineering drawing design software marketing actuator',\n",
              "       'mechanical engineering engineering component design software',\n",
              "       'engineering mechanical engineering',\n",
              "       'mechanical engineering engineering material design software actuator',\n",
              "       'engineering design commerce mechanical engineering', 'commerce',\n",
              "       'marketing finance',\n",
              "       'support schedule business certificate marketing',\n",
              "       'specification server', 'marketing business', 'commerce',\n",
              "       'marketing finance',\n",
              "       'support schedule business certificate marketing',\n",
              "       'specification server', 'marketing business', 'commerce',\n",
              "       'marketing finance',\n",
              "       'support schedule business certificate marketing',\n",
              "       'specification server', 'marketing business', 'commerce',\n",
              "       'marketing finance',\n",
              "       'support schedule business certificate marketing',\n",
              "       'specification server', 'marketing business', 'commerce',\n",
              "       'marketing finance',\n",
              "       'support schedule business certificate marketing',\n",
              "       'specification server', 'marketing business', 'commerce',\n",
              "       'marketing finance',\n",
              "       'support schedule business certificate marketing',\n",
              "       'specification server', 'marketing business', 'commerce',\n",
              "       'marketing finance',\n",
              "       'support schedule business certificate marketing',\n",
              "       'specification server', 'marketing business', 'commerce',\n",
              "       'marketing finance',\n",
              "       'support schedule business certificate marketing',\n",
              "       'specification server', 'marketing business', '', '', '',\n",
              "       'operating system business advertising software marketing mobile',\n",
              "       'certificate commerce',\n",
              "       'business karma design data management customer relationship management marketing',\n",
              "       '', '', '',\n",
              "       'operating system business advertising software marketing mobile',\n",
              "       'certificate commerce',\n",
              "       'business karma design data management customer relationship management marketing',\n",
              "       '', '', '',\n",
              "       'operating system business advertising software marketing mobile',\n",
              "       'certificate commerce',\n",
              "       'business karma design data management customer relationship management marketing',\n",
              "       '', '', '',\n",
              "       'operating system business advertising software marketing mobile',\n",
              "       'certificate commerce',\n",
              "       'business karma design data management customer relationship management marketing',\n",
              "       '', '', '',\n",
              "       'operating system business advertising software marketing mobile',\n",
              "       'certificate commerce',\n",
              "       'business karma design data management customer relationship management marketing',\n",
              "       'support specification testing schedule business tower storm material certificate terminal engineering security civil engineering',\n",
              "       'civil engineering',\n",
              "       'monitoring specification schedule material design software',\n",
              "       'specification material monitoring',\n",
              "       'operating system engineering material design',\n",
              "       'civil engineering',\n",
              "       'support specification testing schedule business tower storm material certificate terminal engineering security civil engineering',\n",
              "       'civil engineering',\n",
              "       'monitoring specification schedule material design software',\n",
              "       'specification material monitoring',\n",
              "       'operating system engineering material design',\n",
              "       'civil engineering',\n",
              "       'support specification testing schedule business tower storm material certificate terminal engineering security civil engineering',\n",
              "       'civil engineering',\n",
              "       'monitoring specification schedule material design software',\n",
              "       'specification material monitoring',\n",
              "       'operating system engineering material design',\n",
              "       'civil engineering',\n",
              "       'support specification testing schedule business tower storm material certificate terminal engineering security civil engineering',\n",
              "       'civil engineering',\n",
              "       'monitoring specification schedule material design software',\n",
              "       'specification material monitoring',\n",
              "       'operating system engineering material design',\n",
              "       'civil engineering', 'java',\n",
              "       'operating system linux hibernate engineering testing framework functional testing software spring business computer science angular postgresql database java',\n",
              "       'operating system eclipse support bootstrap knowledge base workflow middleware web service collaboration deployment software database java postman',\n",
              "       'swift eclipse shell jenkins server mysql database xcode android android studio support testing middleware business software java operating system documentation oracle',\n",
              "       'android database data system oracle security engineering java mobile',\n",
              "       'jquery programming language hibernate ajax java',\n",
              "       'ionic database javascript hibernate oracle framework computer engineering business angular mysql ajax java',\n",
              "       'ionic database javascript hibernate oracle framework computer engineering business angular mysql ajax java',\n",
              "       'operating system oracle hibernate spring network security mysql visual basic software database java security',\n",
              "       'operating system eclipse jquery web server database hibernate apache tomcat spring ajax java',\n",
              "       'eclipse jquery server database hibernate testing spring ajax design mysql software java maven scripting language',\n",
              "       'eclipse hibernate mysql database atom bootstrap spring ajax javascript programming language certificate software java operating system jquery angularjs angular medium sublime text',\n",
              "       'javascript programming language hibernate spring java',\n",
              "       'operating system linux eclipse centos oracle engineering sonarqube design software database java',\n",
              "       'java',\n",
              "       'operating system linux hibernate engineering testing framework functional testing software spring business computer science angular postgresql database java',\n",
              "       'operating system eclipse support bootstrap knowledge base workflow middleware web service collaboration deployment software database java postman',\n",
              "       'swift eclipse shell jenkins server mysql database xcode android android studio support testing middleware business software java operating system documentation oracle',\n",
              "       'android database data system oracle security engineering java mobile',\n",
              "       'jquery programming language hibernate ajax java',\n",
              "       'ionic database javascript hibernate oracle framework computer engineering business angular mysql ajax java',\n",
              "       'ionic database javascript hibernate oracle framework computer engineering business angular mysql ajax java',\n",
              "       'operating system oracle hibernate spring network security mysql visual basic software database java security',\n",
              "       'operating system eclipse jquery web server database hibernate apache tomcat spring ajax java',\n",
              "       'eclipse jquery server database hibernate testing spring ajax design mysql software java maven scripting language',\n",
              "       'eclipse hibernate mysql database atom bootstrap spring ajax javascript programming language certificate software java operating system jquery angularjs angular medium sublime text',\n",
              "       'javascript programming language hibernate spring java',\n",
              "       'operating system linux eclipse centos oracle engineering sonarqube design software database java',\n",
              "       'java',\n",
              "       'operating system linux hibernate engineering testing framework functional testing software spring business computer science angular postgresql database java',\n",
              "       'operating system eclipse support bootstrap knowledge base workflow middleware web service collaboration deployment software database java postman',\n",
              "       'swift eclipse shell jenkins server mysql database xcode android android studio support testing middleware business software java operating system documentation oracle',\n",
              "       'android database data system oracle security engineering java mobile',\n",
              "       'jquery programming language hibernate ajax java',\n",
              "       'ionic database javascript hibernate oracle framework computer engineering business angular mysql ajax java',\n",
              "       'ionic database javascript hibernate oracle framework computer engineering business angular mysql ajax java',\n",
              "       'operating system oracle hibernate spring network security mysql visual basic software database java security',\n",
              "       'operating system eclipse jquery web server database hibernate apache tomcat spring ajax java',\n",
              "       'eclipse jquery server database hibernate testing spring ajax design mysql software java maven scripting language',\n",
              "       'eclipse hibernate mysql database atom bootstrap spring ajax javascript programming language certificate software java operating system jquery angularjs angular medium sublime text',\n",
              "       'javascript programming language hibernate spring java',\n",
              "       'operating system linux eclipse centos oracle engineering sonarqube design software database java',\n",
              "       'java',\n",
              "       'operating system linux hibernate engineering testing framework functional testing software spring business computer science angular postgresql database java',\n",
              "       'operating system eclipse support bootstrap knowledge base workflow middleware web service collaboration deployment software database java postman',\n",
              "       'swift eclipse shell jenkins server mysql database xcode android android studio support testing middleware business software java operating system documentation oracle',\n",
              "       'android database data system oracle security engineering java mobile',\n",
              "       'jquery programming language hibernate ajax java',\n",
              "       'ionic database javascript hibernate oracle framework computer engineering business angular mysql ajax java',\n",
              "       'ionic database javascript hibernate oracle framework computer engineering business angular mysql ajax java',\n",
              "       'operating system oracle hibernate spring network security mysql visual basic software database java security',\n",
              "       'operating system eclipse jquery web server database hibernate apache tomcat spring ajax java',\n",
              "       'eclipse jquery server database hibernate testing spring ajax design mysql software java maven scripting language',\n",
              "       'eclipse hibernate mysql database atom bootstrap spring ajax javascript programming language certificate software java operating system jquery angularjs angular medium sublime text',\n",
              "       'javascript programming language hibernate spring java',\n",
              "       'operating system linux eclipse centos oracle engineering sonarqube design software database java',\n",
              "       'java',\n",
              "       'operating system linux hibernate engineering testing framework functional testing software spring business computer science angular postgresql database java',\n",
              "       'operating system eclipse support bootstrap knowledge base workflow middleware web service collaboration deployment software database java postman',\n",
              "       'swift eclipse shell jenkins server mysql database xcode android android studio support testing middleware business software java operating system documentation oracle',\n",
              "       'android database data system oracle security engineering java mobile',\n",
              "       'jquery programming language hibernate ajax java',\n",
              "       'ionic database javascript hibernate oracle framework computer engineering business angular mysql ajax java',\n",
              "       'ionic database javascript hibernate oracle framework computer engineering business angular mysql ajax java',\n",
              "       'operating system oracle hibernate spring network security mysql visual basic software database java security',\n",
              "       'operating system eclipse jquery web server database hibernate apache tomcat spring ajax java',\n",
              "       'eclipse jquery server database hibernate testing spring ajax design mysql software java maven scripting language',\n",
              "       'eclipse hibernate mysql database atom bootstrap spring ajax javascript programming language certificate software java operating system jquery angularjs angular medium sublime text',\n",
              "       'javascript programming language hibernate spring java',\n",
              "       'operating system linux eclipse centos oracle engineering sonarqube design software database java',\n",
              "       'java',\n",
              "       'operating system linux hibernate engineering testing framework functional testing software spring business computer science angular postgresql database java',\n",
              "       'operating system eclipse support bootstrap knowledge base workflow middleware web service collaboration deployment software database java postman',\n",
              "       'swift eclipse shell jenkins server mysql database xcode android android studio support testing middleware business software java operating system documentation oracle',\n",
              "       'android database data system oracle security engineering java mobile',\n",
              "       'jquery programming language hibernate ajax java',\n",
              "       'ionic database javascript hibernate oracle framework computer engineering business angular mysql ajax java',\n",
              "       'ionic database javascript hibernate oracle framework computer engineering business angular mysql ajax java',\n",
              "       'operating system oracle hibernate spring network security mysql visual basic software database java security',\n",
              "       'operating system eclipse jquery web server database hibernate apache tomcat spring ajax java',\n",
              "       'eclipse jquery server database hibernate testing spring ajax design mysql software java maven scripting language',\n",
              "       'eclipse hibernate mysql database atom bootstrap spring ajax javascript programming language certificate software java operating system jquery angularjs angular medium sublime text',\n",
              "       'javascript programming language hibernate spring java',\n",
              "       'operating system linux eclipse centos oracle engineering sonarqube design software database java',\n",
              "       'support specification testing functional testing business computer science design database',\n",
              "       'crystal support documentation oracle engineering specification testing accounting business software database application server',\n",
              "       'operating system linux business process documentation monitoring ubuntu specification testing workflow functional testing business material design medium software java interaction',\n",
              "       'monitoring computer engineering material business process database android bot design data management support testing business system integration certificate software diagram documentation specification engineering mobile',\n",
              "       'business process java specification business', 'business',\n",
              "       'operating system linux business process documentation monitoring ubuntu specification testing workflow functional testing business material design medium software java interaction',\n",
              "       'monitoring computer engineering material business process database android bot design data management support testing business system integration certificate software diagram documentation specification engineering mobile',\n",
              "       'business process java specification business', 'business',\n",
              "       'operating system linux business process documentation monitoring ubuntu specification testing workflow functional testing business material design medium software java interaction',\n",
              "       'monitoring computer engineering material business process database android bot design data management support testing business system integration certificate software diagram documentation specification engineering mobile',\n",
              "       'business process java specification business', 'business',\n",
              "       'support specification testing functional testing business computer science design database',\n",
              "       'crystal support documentation oracle engineering specification testing accounting business software database application server',\n",
              "       'operating system linux business process documentation monitoring ubuntu specification testing workflow functional testing business material design medium software java interaction',\n",
              "       'monitoring computer engineering material business process database android bot design data management support testing business system integration certificate software diagram documentation specification engineering mobile',\n",
              "       'business process java specification business', 'business',\n",
              "       'operating system linux business process documentation monitoring ubuntu specification testing workflow functional testing business material design medium software java interaction',\n",
              "       'monitoring computer engineering material business process database android bot design data management support testing business system integration certificate software diagram documentation specification engineering mobile',\n",
              "       'business process java specification business', 'business',\n",
              "       'operating system linux business process documentation monitoring ubuntu specification testing workflow functional testing business material design medium software java interaction',\n",
              "       'monitoring computer engineering material business process database android bot design data management support testing business system integration certificate software diagram documentation specification engineering mobile',\n",
              "       'business process java specification business', 'business',\n",
              "       'web server monitoring server computer engineering web app database authentication testing apache tomcat business data warehouse java python oracle data center file format mode engineering metadata mobile',\n",
              "       'support metadata documentation testing analytics handover business business intelligence tower component shared resource design mode visualization security',\n",
              "       'data model specification finance business release computer science design information model security',\n",
              "       'support debugging testing',\n",
              "       'documentation computer engineering component access control design engineering security',\n",
              "       'support specification business component design business process analytics project management',\n",
              "       'web server monitoring server computer engineering web app database authentication testing apache tomcat business data warehouse java python oracle data center file format mode engineering metadata mobile',\n",
              "       'support metadata documentation testing analytics handover business business intelligence tower component shared resource design mode visualization security',\n",
              "       'data model specification finance business release computer science design information model security',\n",
              "       'support debugging testing',\n",
              "       'documentation computer engineering component access control design engineering security',\n",
              "       'support specification business component design business process analytics project management',\n",
              "       'web server monitoring server computer engineering web app database authentication testing apache tomcat business data warehouse java python oracle data center file format mode engineering metadata mobile',\n",
              "       'support metadata documentation testing analytics handover business business intelligence tower component shared resource design mode visualization security',\n",
              "       'data model specification finance business release computer science design information model security',\n",
              "       'support debugging testing',\n",
              "       'documentation computer engineering component access control design engineering security',\n",
              "       'support specification business component design business process analytics project management',\n",
              "       'web server monitoring server computer engineering web app database authentication testing apache tomcat business data warehouse java python oracle data center file format mode engineering metadata mobile',\n",
              "       'support metadata documentation testing analytics handover business business intelligence tower component shared resource design mode visualization security',\n",
              "       'data model specification finance business release computer science design information model security',\n",
              "       'support debugging testing',\n",
              "       'documentation computer engineering component access control design engineering security',\n",
              "       'support specification business component design business process analytics project management',\n",
              "       'engineering testing framework release tower selenium design software',\n",
              "       'operating system data acquisition monitoring unity testing relay material software engineering java diagram actuator',\n",
              "       'eclipse jenkins server database maven scripting language continuous integration android framework support machine learning testing functional testing schedule business web service debugging selenium commerce software java operating system object model system testing postman',\n",
              "       'linux shell mysql database embedded system robot framework release design authentication support testing business system integration debugging selenium software scanner python specification computer science engineering security',\n",
              "       'box testing functional testing source code system testing release selenium computer science design software',\n",
              "       'screen sharing support database box framework testing business release selenium time tracking commerce material software engineering mobile tracking system',\n",
              "       'operating system oracle server testing selenium database java',\n",
              "       'linux shell mysql database embedded system robot framework release design authentication support testing business system integration debugging selenium software scanner python specification computer science engineering security',\n",
              "       'box testing functional testing source code system testing release selenium computer science design software',\n",
              "       'linux shell mysql database embedded system robot framework release design authentication support testing business system integration debugging selenium software scanner python specification computer science engineering security',\n",
              "       'box testing functional testing source code system testing release selenium computer science design software',\n",
              "       'linux shell mysql database embedded system robot framework release design authentication support testing business system integration debugging selenium software scanner python specification computer science engineering security',\n",
              "       'box testing functional testing source code system testing release selenium computer science design software',\n",
              "       'engineering testing framework release tower selenium design software',\n",
              "       'operating system data acquisition monitoring unity testing relay material software engineering java diagram actuator',\n",
              "       'eclipse jenkins server database maven scripting language continuous integration android framework support machine learning testing functional testing schedule business web service debugging selenium commerce software java operating system object model system testing postman',\n",
              "       'linux shell mysql database embedded system robot framework release design authentication support testing business system integration debugging selenium software scanner python specification computer science engineering security',\n",
              "       'box testing functional testing source code system testing release selenium computer science design software',\n",
              "       'screen sharing support database box framework testing business release selenium time tracking commerce material software engineering mobile tracking system',\n",
              "       'operating system oracle server testing selenium database java',\n",
              "       'linux shell mysql database embedded system robot framework release design authentication support testing business system integration debugging selenium software scanner python specification computer science engineering security',\n",
              "       'box testing functional testing source code system testing release selenium computer science design software',\n",
              "       'linux shell mysql database embedded system robot framework release design authentication support testing business system integration debugging selenium software scanner python specification computer science engineering security',\n",
              "       'box testing functional testing source code system testing release selenium computer science design software',\n",
              "       'linux shell mysql database embedded system robot framework release design authentication support testing business system integration debugging selenium software scanner python specification computer science engineering security',\n",
              "       'box testing functional testing source code system testing release selenium computer science design software',\n",
              "       'shell specification schedule business material design electrical engineering engineering marketing diagram project management',\n",
              "       'certificate electrical engineering',\n",
              "       'power control documentation monitoring specification testing schedule relay material microprocessor design software engineering diagram actuator',\n",
              "       'engineering business electrical engineering',\n",
              "       'monitoring testing schedule relay component actuator',\n",
              "       'shell specification schedule business material design electrical engineering engineering marketing diagram project management',\n",
              "       'certificate electrical engineering',\n",
              "       'power control documentation monitoring specification testing schedule relay material microprocessor design software engineering diagram actuator',\n",
              "       'engineering business electrical engineering',\n",
              "       'monitoring testing schedule relay component actuator',\n",
              "       'shell specification schedule business material design electrical engineering engineering marketing diagram project management',\n",
              "       'certificate electrical engineering',\n",
              "       'power control documentation monitoring specification testing schedule relay material microprocessor design software engineering diagram actuator',\n",
              "       'engineering business electrical engineering',\n",
              "       'monitoring testing schedule relay component actuator',\n",
              "       'shell specification schedule business material design electrical engineering engineering marketing diagram project management',\n",
              "       'certificate electrical engineering',\n",
              "       'power control documentation monitoring specification testing schedule relay material microprocessor design software engineering diagram actuator',\n",
              "       'engineering business electrical engineering',\n",
              "       'monitoring testing schedule relay component actuator',\n",
              "       'shell specification schedule business material design electrical engineering engineering marketing diagram project management',\n",
              "       'certificate electrical engineering',\n",
              "       'power control documentation monitoring specification testing schedule relay material microprocessor design software engineering diagram actuator',\n",
              "       'engineering business electrical engineering',\n",
              "       'monitoring testing schedule relay component actuator',\n",
              "       'shell specification schedule business material design electrical engineering engineering marketing diagram project management',\n",
              "       'certificate electrical engineering',\n",
              "       'power control documentation monitoring specification testing schedule relay material microprocessor design software engineering diagram actuator',\n",
              "       'engineering business electrical engineering',\n",
              "       'monitoring testing schedule relay component actuator',\n",
              "       'monitoring server knowledge base database business process queue framework rotation release design support testing schedule business documentation ai deployment play help desk project management',\n",
              "       'monitoring business terminal deployment software',\n",
              "       'support documentation monitoring database specification accounting schedule business component material certificate commerce mode software security tracking system',\n",
              "       'support ambiguity documentation monitoring shell database server software engineering framework testing schedule business system testing material design engineering project management',\n",
              "       'monitoring server knowledge base database business process queue framework rotation release design support testing schedule business documentation ai deployment play help desk project management',\n",
              "       'monitoring business terminal deployment software',\n",
              "       'support documentation monitoring database specification accounting schedule business component material certificate commerce mode software security tracking system',\n",
              "       'support ambiguity documentation monitoring shell database server software engineering framework testing schedule business system testing material design engineering project management',\n",
              "       'monitoring server knowledge base database business process queue framework rotation release design support testing schedule business documentation ai deployment play help desk project management',\n",
              "       'monitoring business terminal deployment software',\n",
              "       'support documentation monitoring database specification accounting schedule business component material certificate commerce mode software security tracking system',\n",
              "       'support ambiguity documentation monitoring shell database server software engineering framework testing schedule business system testing material design engineering project management',\n",
              "       'monitoring server knowledge base database business process queue framework rotation release design support testing schedule business documentation ai deployment play help desk project management',\n",
              "       'monitoring business terminal deployment software',\n",
              "       'support documentation monitoring database specification accounting schedule business component material certificate commerce mode software security tracking system',\n",
              "       'support ambiguity documentation monitoring shell database server software engineering framework testing schedule business system testing material design engineering project management',\n",
              "       'monitoring server knowledge base database business process queue framework rotation release design support testing schedule business documentation ai deployment play help desk project management',\n",
              "       'monitoring business terminal deployment software',\n",
              "       'support documentation monitoring database specification accounting schedule business component material certificate commerce mode software security tracking system',\n",
              "       'support ambiguity documentation monitoring shell database server software engineering framework testing schedule business system testing material design engineering project management',\n",
              "       'monitoring server knowledge base database business process queue framework rotation release design support testing schedule business documentation ai deployment play help desk project management',\n",
              "       'monitoring business terminal deployment software',\n",
              "       'support documentation monitoring database specification accounting schedule business component material certificate commerce mode software security tracking system',\n",
              "       'support ambiguity documentation monitoring shell database server software engineering framework testing schedule business system testing material design engineering project management',\n",
              "       'monitoring server knowledge base database business process queue framework rotation release design support testing schedule business documentation ai deployment play help desk project management',\n",
              "       'monitoring business terminal deployment software',\n",
              "       'support documentation monitoring database specification accounting schedule business component material certificate commerce mode software security tracking system',\n",
              "       'support ambiguity documentation monitoring shell database server software engineering framework testing schedule business system testing material design engineering project management',\n",
              "       'monitoring server knowledge base database business process queue framework rotation release design support testing schedule business documentation ai deployment play help desk project management',\n",
              "       'monitoring business terminal deployment software',\n",
              "       'support documentation monitoring database specification accounting schedule business component material certificate commerce mode software security tracking system',\n",
              "       'support ambiguity documentation monitoring shell database server software engineering framework testing schedule business system testing material design engineering project management',\n",
              "       'monitoring server knowledge base database business process queue framework rotation release design support testing schedule business documentation ai deployment play help desk project management',\n",
              "       'monitoring business terminal deployment software',\n",
              "       'support documentation monitoring database specification accounting schedule business component material certificate commerce mode software security tracking system',\n",
              "       'support ambiguity documentation monitoring shell database server software engineering framework testing schedule business system testing material design engineering project management',\n",
              "       'monitoring server knowledge base database business process queue framework rotation release design support testing schedule business documentation ai deployment play help desk project management',\n",
              "       'monitoring business terminal deployment software',\n",
              "       'support documentation monitoring database specification accounting schedule business component material certificate commerce mode software security tracking system',\n",
              "       'support ambiguity documentation monitoring shell database server software engineering framework testing schedule business system testing material design engineering project management',\n",
              "       'data science server mysql database cloud foundry django support testing web service debugging flask software java interaction numpy git python angular computer science postgresql mongodb',\n",
              "       'software engineering python computer science',\n",
              "       'tensorflow python ubuntu computer engineering mysql database numpy',\n",
              "       'monitoring server mysql database sqlite framework django rest api design support testing github web service operating system git python oracle front end deployment postman',\n",
              "       'git python database arduino django testing computer vision debugging rest api mysql design algorithm opencv engineering numpy',\n",
              "       'operating system python django sorting business mysql design software java numpy',\n",
              "       'data science server mysql database cloud foundry django support testing web service debugging flask software java interaction numpy git python angular computer science postgresql mongodb',\n",
              "       'software engineering python computer science',\n",
              "       'tensorflow python ubuntu computer engineering mysql database numpy',\n",
              "       'monitoring server mysql database sqlite framework django rest api design support testing github web service operating system git python oracle front end deployment postman',\n",
              "       'git python database arduino django testing computer vision debugging rest api mysql design algorithm opencv engineering numpy',\n",
              "       'operating system python django sorting business mysql design software java numpy',\n",
              "       'data science server mysql database cloud foundry django support testing web service debugging flask software java interaction numpy git python angular computer science postgresql mongodb',\n",
              "       'software engineering python computer science',\n",
              "       'tensorflow python ubuntu computer engineering mysql database numpy',\n",
              "       'monitoring server mysql database sqlite framework django rest api design support testing github web service operating system git python oracle front end deployment postman',\n",
              "       'git python database arduino django testing computer vision debugging rest api mysql design algorithm opencv engineering numpy',\n",
              "       'operating system python django sorting business mysql design software java numpy',\n",
              "       'data science server mysql database cloud foundry django support testing web service debugging flask software java interaction numpy git python angular computer science postgresql mongodb',\n",
              "       'software engineering python computer science',\n",
              "       'tensorflow python ubuntu computer engineering mysql database numpy',\n",
              "       'monitoring server mysql database sqlite framework django rest api design support testing github web service operating system git python oracle front end deployment postman',\n",
              "       'git python database arduino django testing computer vision debugging rest api mysql design algorithm opencv engineering numpy',\n",
              "       'operating system python django sorting business mysql design software java numpy',\n",
              "       'data science server mysql database cloud foundry django support testing web service debugging flask software java interaction numpy git python angular computer science postgresql mongodb',\n",
              "       'software engineering python computer science',\n",
              "       'tensorflow python ubuntu computer engineering mysql database numpy',\n",
              "       'monitoring server mysql database sqlite framework django rest api design support testing github web service operating system git python oracle front end deployment postman',\n",
              "       'git python database arduino django testing computer vision debugging rest api mysql design algorithm opencv engineering numpy',\n",
              "       'operating system python django sorting business mysql design software java numpy',\n",
              "       'data science server mysql database cloud foundry django support testing web service debugging flask software java interaction numpy git python angular computer science postgresql mongodb',\n",
              "       'software engineering python computer science',\n",
              "       'tensorflow python ubuntu computer engineering mysql database numpy',\n",
              "       'monitoring server mysql database sqlite framework django rest api design support testing github web service operating system git python oracle front end deployment postman',\n",
              "       'git python database arduino django testing computer vision debugging rest api mysql design algorithm opencv engineering numpy',\n",
              "       'operating system python django sorting business mysql design software java numpy',\n",
              "       'data science server mysql database cloud foundry django support testing web service debugging flask software java interaction numpy git python angular computer science postgresql mongodb',\n",
              "       'software engineering python computer science',\n",
              "       'tensorflow python ubuntu computer engineering mysql database numpy',\n",
              "       'monitoring server mysql database sqlite framework django rest api design support testing github web service operating system git python oracle front end deployment postman',\n",
              "       'git python database arduino django testing computer vision debugging rest api mysql design algorithm opencv engineering numpy',\n",
              "       'operating system python django sorting business mysql design software java numpy',\n",
              "       'data science server mysql database cloud foundry django support testing web service debugging flask software java interaction numpy git python angular computer science postgresql mongodb',\n",
              "       'software engineering python computer science',\n",
              "       'tensorflow python ubuntu computer engineering mysql database numpy',\n",
              "       'monitoring server mysql database sqlite framework django rest api design support testing github web service operating system git python oracle front end deployment postman',\n",
              "       'git python database arduino django testing computer vision debugging rest api mysql design algorithm opencv engineering numpy',\n",
              "       'operating system python django sorting business mysql design software java numpy',\n",
              "       'linux monitoring shell server mysql database azure release devops support testing debugging software python oracle box deployment medium engineering',\n",
              "       'operating system jquery python cryptography ubuntu robot hibernate sorting spring java mysql algorithm software encryption devops',\n",
              "       'shell jenkins server collaboration maven application server continuous integration ansible release design marketing devops support programming language testing apache tomcat business schedule commerce software java git documentation continuous deployment bitbucket source code component deployment engineering security',\n",
              "       'web server monitoring shell server material analytics azure asp net android software engineering framework design ajax devops multimedia machine learning javascript testing business web service commerce software java library crystal jquery documentation oracle ai virtual reality specification accounting finance performance metric security computer science mobile project management',\n",
              "       'library crystal support python documentation server oracle software engineering testing finance business selenium security visual basic software mobile devops',\n",
              "       'workload mysql database task management framework design ajax devops laravel javascript workflow business java interaction git jquery python documentation bitbucket angularjs angular',\n",
              "       'support jenkins computer engineering engineering framework testing confluence business release cucumber data management selenium deployment devops software maven security project management',\n",
              "       'linux monitoring shell server mysql database azure release devops support testing debugging software python oracle box deployment medium engineering',\n",
              "       'operating system jquery python cryptography ubuntu robot hibernate sorting spring java mysql algorithm software encryption devops',\n",
              "       'shell jenkins server collaboration maven application server continuous integration ansible release design marketing devops support programming language testing apache tomcat business schedule commerce software java git documentation continuous deployment bitbucket source code component deployment engineering security',\n",
              "       'linux monitoring shell server mysql database azure release devops support testing debugging software python oracle box deployment medium engineering',\n",
              "       'operating system jquery python cryptography ubuntu robot hibernate sorting spring java mysql algorithm software encryption devops',\n",
              "       'shell jenkins server collaboration maven application server continuous integration ansible release design marketing devops support programming language testing apache tomcat business schedule commerce software java git documentation continuous deployment bitbucket source code component deployment engineering security',\n",
              "       'linux monitoring shell server mysql database azure release devops support testing debugging software python oracle box deployment medium engineering',\n",
              "       'operating system jquery python cryptography ubuntu robot hibernate sorting spring java mysql algorithm software encryption devops',\n",
              "       'shell jenkins server collaboration maven application server continuous integration ansible release design marketing devops support programming language testing apache tomcat business schedule commerce software java git documentation continuous deployment bitbucket source code component deployment engineering security',\n",
              "       'linux monitoring shell server mysql database azure release devops support testing debugging software python oracle box deployment medium engineering',\n",
              "       'operating system jquery python cryptography ubuntu robot hibernate sorting spring java mysql algorithm software encryption devops',\n",
              "       'shell jenkins server collaboration maven application server continuous integration ansible release design marketing devops support programming language testing apache tomcat business schedule commerce software java git documentation continuous deployment bitbucket source code component deployment engineering security',\n",
              "       'linux monitoring shell server mysql database azure release devops support testing debugging software python oracle box deployment medium engineering',\n",
              "       'operating system jquery python cryptography ubuntu robot hibernate sorting spring java mysql algorithm software encryption devops',\n",
              "       'shell jenkins server collaboration maven application server continuous integration ansible release design marketing devops support programming language testing apache tomcat business schedule commerce software java git documentation continuous deployment bitbucket source code component deployment engineering security',\n",
              "       'linux monitoring shell server mysql database azure release devops support testing debugging software python oracle box deployment medium engineering',\n",
              "       'operating system jquery python cryptography ubuntu robot hibernate sorting spring java mysql algorithm software encryption devops',\n",
              "       'shell jenkins server collaboration maven application server continuous integration ansible release design marketing devops support programming language testing apache tomcat business schedule commerce software java git documentation continuous deployment bitbucket source code component deployment engineering security',\n",
              "       'linux monitoring shell server mysql database azure release devops support testing debugging software python oracle box deployment medium engineering',\n",
              "       'operating system jquery python cryptography ubuntu robot hibernate sorting spring java mysql algorithm software encryption devops',\n",
              "       'shell jenkins server collaboration maven application server continuous integration ansible release design marketing devops support programming language testing apache tomcat business schedule commerce software java git documentation continuous deployment bitbucket source code component deployment engineering security',\n",
              "       'linux monitoring shell server mysql database azure release devops support testing debugging software python oracle box deployment medium engineering',\n",
              "       'operating system jquery python cryptography ubuntu robot hibernate sorting spring java mysql algorithm software encryption devops',\n",
              "       'shell jenkins server collaboration maven application server continuous integration ansible release design marketing devops support programming language testing apache tomcat business schedule commerce software java git documentation continuous deployment bitbucket source code component deployment engineering security',\n",
              "       'linux monitoring shell server mysql database azure release devops support testing debugging software python oracle box deployment medium engineering',\n",
              "       'operating system jquery python cryptography ubuntu robot hibernate sorting spring java mysql algorithm software encryption devops',\n",
              "       'shell jenkins server collaboration maven application server continuous integration ansible release design marketing devops support programming language testing apache tomcat business schedule commerce software java git documentation continuous deployment bitbucket source code component deployment engineering security',\n",
              "       'linux monitoring shell server mysql database azure release devops support testing debugging software python oracle box deployment medium engineering',\n",
              "       'operating system jquery python cryptography ubuntu robot hibernate sorting spring java mysql algorithm software encryption devops',\n",
              "       'shell jenkins server collaboration maven application server continuous integration ansible release design marketing devops support programming language testing apache tomcat business schedule commerce software java git documentation continuous deployment bitbucket source code component deployment engineering security',\n",
              "       'linux monitoring shell server mysql database azure release devops support testing debugging software python oracle box deployment medium engineering',\n",
              "       'operating system jquery python cryptography ubuntu robot hibernate sorting spring java mysql algorithm software encryption devops',\n",
              "       'shell jenkins server collaboration maven application server continuous integration ansible release design marketing devops support programming language testing apache tomcat business schedule commerce software java git documentation continuous deployment bitbucket source code component deployment engineering security',\n",
              "       'linux monitoring shell server mysql database azure release devops support testing debugging software python oracle box deployment medium engineering',\n",
              "       'operating system jquery python cryptography ubuntu robot hibernate sorting spring java mysql algorithm software encryption devops',\n",
              "       'shell jenkins server collaboration maven application server continuous integration ansible release design marketing devops support programming language testing apache tomcat business schedule commerce software java git documentation continuous deployment bitbucket source code component deployment engineering security',\n",
              "       'linux monitoring shell server mysql database azure release devops support testing debugging software python oracle box deployment medium engineering',\n",
              "       'operating system jquery python cryptography ubuntu robot hibernate sorting spring java mysql algorithm software encryption devops',\n",
              "       'shell jenkins server collaboration maven application server continuous integration ansible release design marketing devops support programming language testing apache tomcat business schedule commerce software java git documentation continuous deployment bitbucket source code component deployment engineering security',\n",
              "       'linux monitoring shell server mysql database azure release devops support testing debugging software python oracle box deployment medium engineering',\n",
              "       'operating system jquery python cryptography ubuntu robot hibernate sorting spring java mysql algorithm software encryption devops',\n",
              "       'shell jenkins server collaboration maven application server continuous integration ansible release design marketing devops support programming language testing apache tomcat business schedule commerce software java git documentation continuous deployment bitbucket source code component deployment engineering security',\n",
              "       'linux monitoring shell server mysql database azure release devops support testing debugging software python oracle box deployment medium engineering',\n",
              "       'operating system jquery python cryptography ubuntu robot hibernate sorting spring java mysql algorithm software encryption devops',\n",
              "       'shell jenkins server collaboration maven application server continuous integration ansible release design marketing devops support programming language testing apache tomcat business schedule commerce software java git documentation continuous deployment bitbucket source code component deployment engineering security',\n",
              "       'linux monitoring shell server mysql database azure release devops support testing debugging software python oracle box deployment medium engineering',\n",
              "       'operating system jquery python cryptography ubuntu robot hibernate sorting spring java mysql algorithm software encryption devops',\n",
              "       'shell jenkins server collaboration maven application server continuous integration ansible release design marketing devops support programming language testing apache tomcat business schedule commerce software java git documentation continuous deployment bitbucket source code component deployment engineering security',\n",
              "       'support documentation monitoring data center handover router network security certificate software engineering security',\n",
              "       'support routing protocol core network accounting router access control network security ethernet medium mode deployment security authentication',\n",
              "       'monitoring finance router network security security',\n",
              "       'python data center engineering router network security certificate design deployment software security realm network interface scanner',\n",
              "       'operating system linux application server support monitoring ubuntu server oracle accounting schedule router software security virtualbox',\n",
              "       'support documentation monitoring data center handover router network security certificate software engineering security',\n",
              "       'support routing protocol core network accounting router access control network security ethernet medium mode deployment security authentication',\n",
              "       'monitoring finance router network security security',\n",
              "       'python data center engineering router network security certificate design deployment software security realm network interface scanner',\n",
              "       'operating system linux application server support monitoring ubuntu server oracle accounting schedule router software security virtualbox',\n",
              "       'support documentation monitoring data center handover router network security certificate software engineering security',\n",
              "       'support routing protocol core network accounting router access control network security ethernet medium mode deployment security authentication',\n",
              "       'monitoring finance router network security security',\n",
              "       'python data center engineering router network security certificate design deployment software security realm network interface scanner',\n",
              "       'operating system linux application server support monitoring ubuntu server oracle accounting schedule router software security virtualbox',\n",
              "       'support documentation monitoring data center handover router network security certificate software engineering security',\n",
              "       'support routing protocol core network accounting router access control network security ethernet medium mode deployment security authentication',\n",
              "       'monitoring finance router network security security',\n",
              "       'python data center engineering router network security certificate design deployment software security realm network interface scanner',\n",
              "       'operating system linux application server support monitoring ubuntu server oracle accounting schedule router software security virtualbox',\n",
              "       'support documentation monitoring data center handover router network security certificate software engineering security',\n",
              "       'support routing protocol core network accounting router access control network security ethernet medium mode deployment security authentication',\n",
              "       'monitoring finance router network security security',\n",
              "       'python data center engineering router network security certificate design deployment software security realm network interface scanner',\n",
              "       'operating system linux application server support monitoring ubuntu server oracle accounting schedule router software security virtualbox',\n",
              "       'documentation outlier business collaboration information management software diagram project management',\n",
              "       'library documentation confluence finance business schedule tower design deployment database project management',\n",
              "       'support documentation business administration business design deployment back office business process interaction project management',\n",
              "       'documentation outlier business collaboration information management software diagram project management',\n",
              "       'library documentation confluence finance business schedule tower design deployment database project management',\n",
              "       'support documentation business administration business design deployment back office business process interaction project management',\n",
              "       'documentation outlier business collaboration information management software diagram project management',\n",
              "       'library documentation confluence finance business schedule tower design deployment database project management',\n",
              "       'support documentation business administration business design deployment back office business process interaction project management',\n",
              "       'documentation outlier business collaboration information management software diagram project management',\n",
              "       'library documentation confluence finance business schedule tower design deployment database project management',\n",
              "       'support documentation business administration business design deployment back office business process interaction project management',\n",
              "       'documentation outlier business collaboration information management software diagram project management',\n",
              "       'library documentation confluence finance business schedule tower design deployment database project management',\n",
              "       'support documentation business administration business design deployment back office business process interaction project management',\n",
              "       'documentation outlier business collaboration information management software diagram project management',\n",
              "       'library documentation confluence finance business schedule tower design deployment database project management',\n",
              "       'support documentation business administration business design deployment back office business process interaction project management',\n",
              "       'documentation outlier business collaboration information management software diagram project management',\n",
              "       'library documentation confluence finance business schedule tower design deployment database project management',\n",
              "       'support documentation business administration business design deployment back office business process interaction project management',\n",
              "       'documentation outlier business collaboration information management software diagram project management',\n",
              "       'library documentation confluence finance business schedule tower design deployment database project management',\n",
              "       'support documentation business administration business design deployment back office business process interaction project management',\n",
              "       'documentation outlier business collaboration information management software diagram project management',\n",
              "       'library documentation confluence finance business schedule tower design deployment database project management',\n",
              "       'support documentation business administration business design deployment back office business process interaction project management',\n",
              "       'documentation outlier business collaboration information management software diagram project management',\n",
              "       'library documentation confluence finance business schedule tower design deployment database project management',\n",
              "       'support documentation business administration business design deployment back office business process interaction project management',\n",
              "       'operating system linux support oracle server computer engineering software release certificate postgresql database security high availability authentication',\n",
              "       'operating system web server support linux monitoring shell oracle server testing deadlock schedule computer science database mongodb security high availability',\n",
              "       'operating system support oracle server database data center bot azure storage computer science postgresql deployment data management software java security azure',\n",
              "       'linux support documentation mariadb monitoring oracle server data file software mysql postgresql database mongodb security',\n",
              "       'linux support query optimization monitoring centos server business release mysql database security',\n",
              "       'operating system linux monitoring shell jenkins server oracle data file accounting component software database user profile scripting language',\n",
              "       'operating system support linux monitoring oracle server data center engineering schedule business vmware vsphere computer science database',\n",
              "       'operating system support monitoring database server business data consistency software security high availability',\n",
              "       'performance monitoring web server support shell oracle computer engineering engineering testing middleware apache tomcat business schedule design software database high availability',\n",
              "       'linux support monitoring shell oracle server segment security file system medium software database interaction user profile',\n",
              "       'linux data science python machine learning oracle server analytics business big data database design design database marketing security',\n",
              "       'operating system linux support oracle server computer engineering software release certificate postgresql database security high availability authentication',\n",
              "       'operating system web server support linux monitoring shell oracle server testing deadlock schedule computer science database mongodb security high availability',\n",
              "       'operating system support oracle server database data center bot azure storage computer science postgresql deployment data management software java security azure',\n",
              "       'linux support documentation mariadb monitoring oracle server data file software mysql postgresql database mongodb security',\n",
              "       'linux support query optimization monitoring centos server business release mysql database security',\n",
              "       'operating system linux monitoring shell jenkins server oracle data file accounting component software database user profile scripting language',\n",
              "       'operating system support linux monitoring oracle server data center engineering schedule business vmware vsphere computer science database',\n",
              "       'operating system support monitoring database server business data consistency software security high availability',\n",
              "       'performance monitoring web server support shell oracle computer engineering engineering testing middleware apache tomcat business schedule design software database high availability',\n",
              "       'linux support monitoring shell oracle server segment security file system medium software database interaction user profile',\n",
              "       'linux data science python machine learning oracle server analytics business big data database design design database marketing security',\n",
              "       'operating system linux support oracle server computer engineering software release certificate postgresql database security high availability authentication',\n",
              "       'operating system web server support linux monitoring shell oracle server testing deadlock schedule computer science database mongodb security high availability',\n",
              "       'operating system support oracle server database data center bot azure storage computer science postgresql deployment data management software java security azure',\n",
              "       'linux support documentation mariadb monitoring oracle server data file software mysql postgresql database mongodb security',\n",
              "       'linux support query optimization monitoring centos server business release mysql database security',\n",
              "       'operating system linux monitoring shell jenkins server oracle data file accounting component software database user profile scripting language',\n",
              "       'operating system support linux monitoring oracle server data center engineering schedule business vmware vsphere computer science database',\n",
              "       'operating system support monitoring database server business data consistency software security high availability',\n",
              "       'performance monitoring web server support shell oracle computer engineering engineering testing middleware apache tomcat business schedule design software database high availability',\n",
              "       'linux support monitoring shell oracle server segment security file system medium software database interaction user profile',\n",
              "       'linux data science python machine learning oracle server analytics business big data database design design database marketing security',\n",
              "       'eclipse linux data processing hbase server storm mysql relational database nosql database analytics visualization design hadoop zookeeper testing workflow algorithm java interaction documentation query optimization python oracle specification mode security',\n",
              "       'eclipse operating system linux hbase git shell oracle centos scala github mysql distributed file system algorithm hadoop database java',\n",
              "       'operating system linux tableau monitoring ubuntu database file format data quality algorithm hadoop engineering analytics yarn',\n",
              "       'eclipse hbase monitoring network performance mysql distributed file system nosql database scripting language big data release hadoop devops yarn wireless machine learning programming language testing workflow business data warehouse software java python oracle domain knowledge cassandra data quality deployment scala',\n",
              "       'eclipse support data processing python monitoring shell database programming language testing analytics business component data warehouse data quality hadoop engineering scala impala',\n",
              "       'operating system python javascript programming language oracle engineering data mining big data random forest design algorithm hadoop database java azure scripting language',\n",
              "       'eclipse linux data processing hbase router mysql database analytics framework big data file system design hadoop workflow manager testing workflow business data warehouse data file java intellij idea interaction oracle scala',\n",
              "       'eclipse linux data processing hbase server storm mysql relational database nosql database analytics visualization design hadoop zookeeper testing workflow algorithm java interaction documentation query optimization python oracle specification mode security',\n",
              "       'eclipse operating system linux hbase git shell oracle centos scala github mysql distributed file system algorithm hadoop database java',\n",
              "       'operating system linux tableau monitoring ubuntu database file format data quality algorithm hadoop engineering analytics yarn',\n",
              "       'eclipse hbase monitoring network performance mysql distributed file system nosql database scripting language big data release hadoop devops yarn wireless machine learning programming language testing workflow business data warehouse software java python oracle domain knowledge cassandra data quality deployment scala',\n",
              "       'eclipse support data processing python monitoring shell database programming language testing analytics business component data warehouse data quality hadoop engineering scala impala',\n",
              "       'operating system python javascript programming language oracle engineering data mining big data random forest design algorithm hadoop database java azure scripting language',\n",
              "       'eclipse linux data processing hbase router mysql database analytics framework big data file system design hadoop workflow manager testing workflow business data warehouse data file java intellij idea interaction oracle scala',\n",
              "       'eclipse linux data processing hbase server storm mysql relational database nosql database analytics visualization design hadoop zookeeper testing workflow algorithm java interaction documentation query optimization python oracle specification mode security',\n",
              "       'eclipse operating system linux hbase git shell oracle centos scala github mysql distributed file system algorithm hadoop database java',\n",
              "       'operating system linux tableau monitoring ubuntu database file format data quality algorithm hadoop engineering analytics yarn',\n",
              "       'eclipse hbase monitoring network performance mysql distributed file system nosql database scripting language big data release hadoop devops yarn wireless machine learning programming language testing workflow business data warehouse software java python oracle domain knowledge cassandra data quality deployment scala',\n",
              "       'eclipse support data processing python monitoring shell database programming language testing analytics business component data warehouse data quality hadoop engineering scala impala',\n",
              "       'operating system python javascript programming language oracle engineering data mining big data random forest design algorithm hadoop database java azure scripting language',\n",
              "       'eclipse linux data processing hbase router mysql database analytics framework big data file system design hadoop workflow manager testing workflow business data warehouse data file java intellij idea interaction oracle scala',\n",
              "       'eclipse linux data processing hbase server storm mysql relational database nosql database analytics visualization design hadoop zookeeper testing workflow algorithm java interaction documentation query optimization python oracle specification mode security',\n",
              "       'eclipse operating system linux hbase git shell oracle centos scala github mysql distributed file system algorithm hadoop database java',\n",
              "       'operating system linux tableau monitoring ubuntu database file format data quality algorithm hadoop engineering analytics yarn',\n",
              "       'eclipse hbase monitoring network performance mysql distributed file system nosql database scripting language big data release hadoop devops yarn wireless machine learning programming language testing workflow business data warehouse software java python oracle domain knowledge cassandra data quality deployment scala',\n",
              "       'eclipse support data processing python monitoring shell database programming language testing analytics business component data warehouse data quality hadoop engineering scala impala',\n",
              "       'operating system python javascript programming language oracle engineering data mining big data random forest design algorithm hadoop database java azure scripting language',\n",
              "       'eclipse linux data processing hbase router mysql database analytics framework big data file system design hadoop workflow manager testing workflow business data warehouse data file java intellij idea interaction oracle scala',\n",
              "       'eclipse linux data processing hbase server storm mysql relational database nosql database analytics visualization design hadoop zookeeper testing workflow algorithm java interaction documentation query optimization python oracle specification mode security',\n",
              "       'eclipse operating system linux hbase git shell oracle centos scala github mysql distributed file system algorithm hadoop database java',\n",
              "       'operating system linux tableau monitoring ubuntu database file format data quality algorithm hadoop engineering analytics yarn',\n",
              "       'eclipse hbase monitoring network performance mysql distributed file system nosql database scripting language big data release hadoop devops yarn wireless machine learning programming language testing workflow business data warehouse software java python oracle domain knowledge cassandra data quality deployment scala',\n",
              "       'eclipse support data processing python monitoring shell database programming language testing analytics business component data warehouse data quality hadoop engineering scala impala',\n",
              "       'operating system python javascript programming language oracle engineering data mining big data random forest design algorithm hadoop database java azure scripting language',\n",
              "       'eclipse linux data processing hbase router mysql database analytics framework big data file system design hadoop workflow manager testing workflow business data warehouse data file java intellij idea interaction oracle scala',\n",
              "       'eclipse linux data processing hbase server storm mysql relational database nosql database analytics visualization design hadoop zookeeper testing workflow algorithm java interaction documentation query optimization python oracle specification mode security',\n",
              "       'eclipse operating system linux hbase git shell oracle centos scala github mysql distributed file system algorithm hadoop database java',\n",
              "       'operating system linux tableau monitoring ubuntu database file format data quality algorithm hadoop engineering analytics yarn',\n",
              "       'eclipse hbase monitoring network performance mysql distributed file system nosql database scripting language big data release hadoop devops yarn wireless machine learning programming language testing workflow business data warehouse software java python oracle domain knowledge cassandra data quality deployment scala',\n",
              "       'eclipse support data processing python monitoring shell database programming language testing analytics business component data warehouse data quality hadoop engineering scala impala',\n",
              "       'operating system python javascript programming language oracle engineering data mining big data random forest design algorithm hadoop database java azure scripting language',\n",
              "       'eclipse linux data processing hbase router mysql database analytics framework big data file system design hadoop workflow manager testing workflow business data warehouse data file java intellij idea interaction oracle scala',\n",
              "       'support monitoring shell microsoft sql server server specification debugging data warehouse back office engineering interaction',\n",
              "       'support workflow manager documentation multimedia monitoring oracle data extraction testing segment business business intelligence system integration advertising data warehouse design interaction database security',\n",
              "       'oracle testing workflow business design engineering',\n",
              "       'server data modeling testing framework data integration business schedule big data system testing component data warehouse mysql design database diagram',\n",
              "       'engineering data warehouse',\n",
              "       'support monitoring shell microsoft sql server server specification debugging data warehouse back office engineering interaction',\n",
              "       'support workflow manager documentation multimedia monitoring oracle data extraction testing segment business business intelligence system integration advertising data warehouse design interaction database security',\n",
              "       'oracle testing workflow business design engineering',\n",
              "       'server data modeling testing framework data integration business schedule big data system testing component data warehouse mysql design database diagram',\n",
              "       'engineering data warehouse',\n",
              "       'support monitoring shell microsoft sql server server specification debugging data warehouse back office engineering interaction',\n",
              "       'support workflow manager documentation multimedia monitoring oracle data extraction testing segment business business intelligence system integration advertising data warehouse design interaction database security',\n",
              "       'oracle testing workflow business design engineering',\n",
              "       'server data modeling testing framework data integration business schedule big data system testing component data warehouse mysql design database diagram',\n",
              "       'engineering data warehouse',\n",
              "       'support monitoring shell microsoft sql server server specification debugging data warehouse back office engineering interaction',\n",
              "       'support workflow manager documentation multimedia monitoring oracle data extraction testing segment business business intelligence system integration advertising data warehouse design interaction database security',\n",
              "       'oracle testing workflow business design engineering',\n",
              "       'server data modeling testing framework data integration business schedule big data system testing component data warehouse mysql design database diagram',\n",
              "       'engineering data warehouse',\n",
              "       'support monitoring shell microsoft sql server server specification debugging data warehouse back office engineering interaction',\n",
              "       'support workflow manager documentation multimedia monitoring oracle data extraction testing segment business business intelligence system integration advertising data warehouse design interaction database security',\n",
              "       'oracle testing workflow business design engineering',\n",
              "       'server data modeling testing framework data integration business schedule big data system testing component data warehouse mysql design database diagram',\n",
              "       'engineering data warehouse',\n",
              "       'support monitoring shell microsoft sql server server specification debugging data warehouse back office engineering interaction',\n",
              "       'support workflow manager documentation multimedia monitoring oracle data extraction testing segment business business intelligence system integration advertising data warehouse design interaction database security',\n",
              "       'oracle testing workflow business design engineering',\n",
              "       'server data modeling testing framework data integration business schedule big data system testing component data warehouse mysql design database diagram',\n",
              "       'engineering data warehouse',\n",
              "       'support monitoring shell microsoft sql server server specification debugging data warehouse back office engineering interaction',\n",
              "       'support workflow manager documentation multimedia monitoring oracle data extraction testing segment business business intelligence system integration advertising data warehouse design interaction database security',\n",
              "       'oracle testing workflow business design engineering',\n",
              "       'server data modeling testing framework data integration business schedule big data system testing component data warehouse mysql design database diagram',\n",
              "       'engineering data warehouse',\n",
              "       'support monitoring shell microsoft sql server server specification debugging data warehouse back office engineering interaction',\n",
              "       'support workflow manager documentation multimedia monitoring oracle data extraction testing segment business business intelligence system integration advertising data warehouse design interaction database security',\n",
              "       'oracle testing workflow business design engineering',\n",
              "       'server data modeling testing framework data integration business schedule big data system testing component data warehouse mysql design database diagram',\n",
              "       'engineering data warehouse',\n",
              "       'crystal jquery asp net server javascript bootstrap database',\n",
              "       'computer science asp net server',\n",
              "       'asp net javascript server framework data access business angularjs visual studio',\n",
              "       'software',\n",
              "       'server relational database database content management asp net framework typescript design support javascript testing schedule visual studio visual studio code library git jquery front end component customer relationship management',\n",
              "       'monitoring server database asp net bootstrap framework ajax support javascript testing visual studio software operating system jquery documentation accounting front end kendo ui computer science',\n",
              "       'jquery asp net bootstrap programming language server framework visual studio angularjs ajax angular visual studio code computer science software database security',\n",
              "       'crystal jquery asp net server javascript bootstrap database',\n",
              "       'computer science asp net server',\n",
              "       'asp net javascript server framework data access business angularjs visual studio',\n",
              "       'software',\n",
              "       'server relational database database content management asp net framework typescript design support javascript testing schedule visual studio visual studio code library git jquery front end component customer relationship management',\n",
              "       'monitoring server database asp net bootstrap framework ajax support javascript testing visual studio software operating system jquery documentation accounting front end kendo ui computer science',\n",
              "       'jquery asp net bootstrap programming language server framework visual studio angularjs ajax angular visual studio code computer science software database security',\n",
              "       'crystal jquery asp net server javascript bootstrap database',\n",
              "       'computer science asp net server',\n",
              "       'asp net javascript server framework data access business angularjs visual studio',\n",
              "       'software',\n",
              "       'server relational database database content management asp net framework typescript design support javascript testing schedule visual studio visual studio code library git jquery front end component customer relationship management',\n",
              "       'monitoring server database asp net bootstrap framework ajax support javascript testing visual studio software operating system jquery documentation accounting front end kendo ui computer science',\n",
              "       'jquery asp net bootstrap programming language server framework visual studio angularjs ajax angular visual studio code computer science software database security',\n",
              "       'crystal jquery asp net server javascript bootstrap database',\n",
              "       'computer science asp net server',\n",
              "       'asp net javascript server framework data access business angularjs visual studio',\n",
              "       'software',\n",
              "       'server relational database database content management asp net framework typescript design support javascript testing schedule visual studio visual studio code library git jquery front end component customer relationship management',\n",
              "       'monitoring server database asp net bootstrap framework ajax support javascript testing visual studio software operating system jquery documentation accounting front end kendo ui computer science',\n",
              "       'jquery asp net bootstrap programming language server framework visual studio angularjs ajax angular visual studio code computer science software database security',\n",
              "       'engineering blockchain monitoring',\n",
              "       'passenger computer engineering react ecommerce ethereum mysql database analytics framework docker blockchain commerce software jquery finance angular computer science postgresql mongodb',\n",
              "       'python computer engineering engineering framework django blockchain ethereum mysql raspberry pi database java',\n",
              "       'web server ubuntu server hibernate react router ethereum mysql fabric database content management framework routing protocol javascript blockchain web service certificate software java operating system jquery oracle front end angular postgresql bitcoin',\n",
              "       'data science machine learning server blockchain computer vision business marketing computer science deployment medium mode engineering java analytics',\n",
              "       'engineering blockchain monitoring',\n",
              "       'passenger computer engineering react ecommerce ethereum mysql database analytics framework docker blockchain commerce software jquery finance angular computer science postgresql mongodb',\n",
              "       'python computer engineering engineering framework django blockchain ethereum mysql raspberry pi database java',\n",
              "       'web server ubuntu server hibernate react router ethereum mysql fabric database content management framework routing protocol javascript blockchain web service certificate software java operating system jquery oracle front end angular postgresql bitcoin',\n",
              "       'data science machine learning server blockchain computer vision business marketing computer science deployment medium mode engineering java analytics',\n",
              "       'engineering blockchain monitoring',\n",
              "       'passenger computer engineering react ecommerce ethereum mysql database analytics framework docker blockchain commerce software jquery finance angular computer science postgresql mongodb',\n",
              "       'python computer engineering engineering framework django blockchain ethereum mysql raspberry pi database java',\n",
              "       'web server ubuntu server hibernate react router ethereum mysql fabric database content management framework routing protocol javascript blockchain web service certificate software java operating system jquery oracle front end angular postgresql bitcoin',\n",
              "       'data science machine learning server blockchain computer vision business marketing computer science deployment medium mode engineering java analytics',\n",
              "       'engineering blockchain monitoring',\n",
              "       'passenger computer engineering react ecommerce ethereum mysql database analytics framework docker blockchain commerce software jquery finance angular computer science postgresql mongodb',\n",
              "       'python computer engineering engineering framework django blockchain ethereum mysql raspberry pi database java',\n",
              "       'web server ubuntu server hibernate react router ethereum mysql fabric database content management framework routing protocol javascript blockchain web service certificate software java operating system jquery oracle front end angular postgresql bitcoin',\n",
              "       'data science machine learning server blockchain computer vision business marketing computer science deployment medium mode engineering java analytics',\n",
              "       'engineering blockchain monitoring',\n",
              "       'passenger computer engineering react ecommerce ethereum mysql database analytics framework docker blockchain commerce software jquery finance angular computer science postgresql mongodb',\n",
              "       'python computer engineering engineering framework django blockchain ethereum mysql raspberry pi database java',\n",
              "       'web server ubuntu server hibernate react router ethereum mysql fabric database content management framework routing protocol javascript blockchain web service certificate software java operating system jquery oracle front end angular postgresql bitcoin',\n",
              "       'data science machine learning server blockchain computer vision business marketing computer science deployment medium mode engineering java analytics',\n",
              "       'engineering blockchain monitoring',\n",
              "       'passenger computer engineering react ecommerce ethereum mysql database analytics framework docker blockchain commerce software jquery finance angular computer science postgresql mongodb',\n",
              "       'python computer engineering engineering framework django blockchain ethereum mysql raspberry pi database java',\n",
              "       'web server ubuntu server hibernate react router ethereum mysql fabric database content management framework routing protocol javascript blockchain web service certificate software java operating system jquery oracle front end angular postgresql bitcoin',\n",
              "       'data science machine learning server blockchain computer vision business marketing computer science deployment medium mode engineering java analytics',\n",
              "       'engineering blockchain monitoring',\n",
              "       'passenger computer engineering react ecommerce ethereum mysql database analytics framework docker blockchain commerce software jquery finance angular computer science postgresql mongodb',\n",
              "       'python computer engineering engineering framework django blockchain ethereum mysql raspberry pi database java',\n",
              "       'web server ubuntu server hibernate react router ethereum mysql fabric database content management framework routing protocol javascript blockchain web service certificate software java operating system jquery oracle front end angular postgresql bitcoin',\n",
              "       'data science machine learning server blockchain computer vision business marketing computer science deployment medium mode engineering java analytics',\n",
              "       'engineering blockchain monitoring',\n",
              "       'passenger computer engineering react ecommerce ethereum mysql database analytics framework docker blockchain commerce software jquery finance angular computer science postgresql mongodb',\n",
              "       'python computer engineering engineering framework django blockchain ethereum mysql raspberry pi database java',\n",
              "       'web server ubuntu server hibernate react router ethereum mysql fabric database content management framework routing protocol javascript blockchain web service certificate software java operating system jquery oracle front end angular postgresql bitcoin',\n",
              "       'data science machine learning server blockchain computer vision business marketing computer science deployment medium mode engineering java analytics',\n",
              "       'system testing testing power management',\n",
              "       'linux android testing selenium software database java time constraint',\n",
              "       'relay testing diagram electrical engineering',\n",
              "       'operating system documentation testing system testing debugging engineering correctness',\n",
              "       'support documentation testing functional testing certificate engineering',\n",
              "       'software design',\n",
              "       'library server android testing security mysql software database java mobile tracking system',\n",
              "       'system testing testing power management',\n",
              "       'linux android testing selenium software database java time constraint',\n",
              "       'relay testing diagram electrical engineering',\n",
              "       'operating system documentation testing system testing debugging engineering correctness',\n",
              "       'support documentation testing functional testing certificate engineering',\n",
              "       'software design',\n",
              "       'library server android testing security mysql software database java mobile tracking system',\n",
              "       'system testing testing power management',\n",
              "       'linux android testing selenium software database java time constraint',\n",
              "       'relay testing diagram electrical engineering',\n",
              "       'operating system documentation testing system testing debugging engineering correctness',\n",
              "       'support documentation testing functional testing certificate engineering',\n",
              "       'software design',\n",
              "       'library server android testing security mysql software database java mobile tracking system',\n",
              "       'system testing testing power management',\n",
              "       'linux android testing selenium software database java time constraint',\n",
              "       'relay testing diagram electrical engineering',\n",
              "       'operating system documentation testing system testing debugging engineering correctness',\n",
              "       'support documentation testing functional testing certificate engineering',\n",
              "       'software design',\n",
              "       'library server android testing security mysql software database java mobile tracking system',\n",
              "       'system testing testing power management',\n",
              "       'linux android testing selenium software database java time constraint',\n",
              "       'relay testing diagram electrical engineering',\n",
              "       'operating system documentation testing system testing debugging engineering correctness',\n",
              "       'support documentation testing functional testing certificate engineering',\n",
              "       'software design',\n",
              "       'library server android testing security mysql software database java mobile tracking system',\n",
              "       'system testing testing power management',\n",
              "       'linux android testing selenium software database java time constraint',\n",
              "       'relay testing diagram electrical engineering',\n",
              "       'operating system documentation testing system testing debugging engineering correctness',\n",
              "       'support documentation testing functional testing certificate engineering',\n",
              "       'software design',\n",
              "       'library server android testing security mysql software database java mobile tracking system',\n",
              "       'system testing testing power management',\n",
              "       'linux android testing selenium software database java time constraint',\n",
              "       'relay testing diagram electrical engineering',\n",
              "       'operating system documentation testing system testing debugging engineering correctness',\n",
              "       'support documentation testing functional testing certificate engineering',\n",
              "       'software design',\n",
              "       'library server android testing security mysql software database java mobile tracking system',\n",
              "       'system testing testing power management',\n",
              "       'linux android testing selenium software database java time constraint',\n",
              "       'relay testing diagram electrical engineering',\n",
              "       'operating system documentation testing system testing debugging engineering correctness',\n",
              "       'support documentation testing functional testing certificate engineering',\n",
              "       'software design',\n",
              "       'library server android testing security mysql software database java mobile tracking system',\n",
              "       'system testing testing power management',\n",
              "       'linux android testing selenium software database java time constraint',\n",
              "       'relay testing diagram electrical engineering',\n",
              "       'operating system documentation testing system testing debugging engineering correctness',\n",
              "       'support documentation testing functional testing certificate engineering',\n",
              "       'software design',\n",
              "       'library server android testing security mysql software database java mobile tracking system',\n",
              "       'system testing testing power management',\n",
              "       'linux android testing selenium software database java time constraint',\n",
              "       'relay testing diagram electrical engineering',\n",
              "       'operating system documentation testing system testing debugging engineering correctness',\n",
              "       'support documentation testing functional testing certificate engineering',\n",
              "       'software design',\n",
              "       'library server android testing security mysql software database java mobile tracking system'],\n",
              "      dtype=object)"
            ]
          },
          "metadata": {},
          "execution_count": 50
        }
      ]
    },
    {
      "cell_type": "code",
      "source": [
        "from sklearn.model_selection import train_test_split\n",
        "X_train,X_test,y_train,y_test = train_test_split(features,op_labels,random_state=0, test_size=0.2)\n",
        "print(X_train.shape)\n",
        "print(X_test.shape)\n",
        "# CountVectorizer(max_features = 2500).fit_transform(df['Clean_Resume']).toarray()"
      ],
      "metadata": {
        "colab": {
          "base_uri": "https://localhost:8080/"
        },
        "id": "lF58ljTODhYU",
        "outputId": "d6f612dd-0e81-4acb-bd91-02cc5031de8f"
      },
      "execution_count": 51,
      "outputs": [
        {
          "output_type": "stream",
          "name": "stdout",
          "text": [
            "(769, 302)\n",
            "(193, 302)\n"
          ]
        }
      ]
    },
    {
      "cell_type": "markdown",
      "source": [
        "KNeighborsClassifier model"
      ],
      "metadata": {
        "id": "K78pS7SMDpyB"
      }
    },
    {
      "cell_type": "code",
      "source": [
        "from sklearn.multiclass import OneVsRestClassifier\n",
        "from sklearn.neighbors import KNeighborsClassifier\n",
        "from sklearn import metrics"
      ],
      "metadata": {
        "id": "-gdGTcGXDooR"
      },
      "execution_count": 52,
      "outputs": []
    },
    {
      "cell_type": "code",
      "source": [
        "clf = OneVsRestClassifier(KNeighborsClassifier())\n",
        "clf.fit(X_train, y_train)\n",
        "prediction = clf.predict(X_test)\n",
        "print('Accuracy of KNeighbors Classifier on training set: {:.2f}'.format(clf.score(X_train, y_train)))\n",
        "print('Accuracy of KNeighbors Classifier on test set: {:.2f}'.format(clf.score(X_test, y_test)))"
      ],
      "metadata": {
        "colab": {
          "base_uri": "https://localhost:8080/"
        },
        "id": "lAijEfENDu3y",
        "outputId": "4e33025e-f66f-4a7e-c106-163fc306b8d7"
      },
      "execution_count": 53,
      "outputs": [
        {
          "output_type": "stream",
          "name": "stdout",
          "text": [
            "Accuracy of KNeighbors Classifier on training set: 0.92\n",
            "Accuracy of KNeighbors Classifier on test set: 0.89\n"
          ]
        }
      ]
    },
    {
      "cell_type": "code",
      "source": [
        "print(\"\\n Classification report for classifier %s:\\n%s\\n\" % (clf, metrics.classification_report(y_test, prediction)))"
      ],
      "metadata": {
        "colab": {
          "base_uri": "https://localhost:8080/"
        },
        "id": "nv04ogOEDxcx",
        "outputId": "8444dfd4-1c01-40f0-9d7e-7b1f7b97bb82"
      },
      "execution_count": 54,
      "outputs": [
        {
          "output_type": "stream",
          "name": "stdout",
          "text": [
            "\n",
            " Classification report for classifier OneVsRestClassifier(estimator=KNeighborsClassifier()):\n",
            "              precision    recall  f1-score   support\n",
            "\n",
            "           0       0.00      0.00      0.00         3\n",
            "           1       1.00      0.67      0.80         3\n",
            "           2       1.00      0.80      0.89         5\n",
            "           3       1.00      1.00      1.00         9\n",
            "           4       0.83      0.83      0.83         6\n",
            "           5       1.00      1.00      1.00         5\n",
            "           6       0.71      0.56      0.63         9\n",
            "           7       1.00      0.43      0.60         7\n",
            "           8       1.00      0.91      0.95        11\n",
            "           9       1.00      1.00      1.00         9\n",
            "          10       1.00      1.00      1.00         8\n",
            "          11       1.00      1.00      1.00         9\n",
            "          12       0.22      1.00      0.36         5\n",
            "          13       1.00      1.00      1.00         9\n",
            "          14       0.00      0.00      0.00         7\n",
            "          15       1.00      1.00      1.00        19\n",
            "          16       1.00      1.00      1.00         3\n",
            "          17       1.00      1.00      1.00         4\n",
            "          18       1.00      1.00      1.00         5\n",
            "          19       1.00      1.00      1.00         6\n",
            "          20       1.00      1.00      1.00        11\n",
            "          21       1.00      1.00      1.00         4\n",
            "          22       0.93      1.00      0.96        13\n",
            "          23       1.00      1.00      1.00        15\n",
            "          24       1.00      1.00      1.00         8\n",
            "\n",
            "    accuracy                           0.89       193\n",
            "   macro avg       0.87      0.85      0.84       193\n",
            "weighted avg       0.90      0.89      0.88       193\n",
            "\n",
            "\n"
          ]
        }
      ]
    },
    {
      "cell_type": "markdown",
      "source": [
        "AdaBoost Classifier"
      ],
      "metadata": {
        "id": "vl9hgWQJD0qL"
      }
    },
    {
      "cell_type": "code",
      "source": [
        "!pip install --upgrade scikit-learn"
      ],
      "metadata": {
        "colab": {
          "base_uri": "https://localhost:8080/"
        },
        "id": "3XWX7gbAEbQK",
        "outputId": "cdeb6a43-a7b9-4eb5-e2bc-aa31b25dbdeb"
      },
      "execution_count": 55,
      "outputs": [
        {
          "output_type": "stream",
          "name": "stdout",
          "text": [
            "Looking in indexes: https://pypi.org/simple, https://us-python.pkg.dev/colab-wheels/public/simple/\n",
            "Requirement already satisfied: scikit-learn in /usr/local/lib/python3.9/dist-packages (1.2.2)\n",
            "Requirement already satisfied: joblib>=1.1.1 in /usr/local/lib/python3.9/dist-packages (from scikit-learn) (1.2.0)\n",
            "Requirement already satisfied: scipy>=1.3.2 in /usr/local/lib/python3.9/dist-packages (from scikit-learn) (1.10.1)\n",
            "Requirement already satisfied: numpy>=1.17.3 in /usr/local/lib/python3.9/dist-packages (from scikit-learn) (1.22.4)\n",
            "Requirement already satisfied: threadpoolctl>=2.0.0 in /usr/local/lib/python3.9/dist-packages (from scikit-learn) (3.1.0)\n"
          ]
        }
      ]
    },
    {
      "cell_type": "code",
      "source": [
        "from sklearn.metrics import confusion_matrix\n",
        "def plot_confusion_matrix(cm, classes,\n",
        "                          normalize=False,\n",
        "                          title='Confusion matrix',\n",
        "                              cmap=plt.cm.Greens):\n",
        "    plt.figure(figsize=(50, 20), dpi=130)\n",
        "    plt.imshow(cm, interpolation='nearest', cmap=cmap)\n",
        "    plt.title(title)\n",
        "    plt.colorbar()\n",
        "    tick_marks = np.arange(len(classes))\n",
        "    plt.xticks(tick_marks, classes, rotation=45)\n",
        "    plt.yticks(tick_marks, classes)\n",
        "\n",
        "    if normalize:\n",
        "        cm = cm.astype('float') / cm.sum(axis=1)[:, np.newaxis]\n",
        "\n",
        "    thresh = cm.max() / 2.\n",
        "    for i, j in itertools.product(range(cm.shape[0]), range(cm.shape[1])):\n",
        "        plt.text(j, i, cm[i, j],\n",
        "                 horizontalalignment=\"center\",\n",
        "                 color=\"white\" if cm[i, j] > thresh else \"black\")\n",
        "\n",
        "    plt.tight_layout()\n",
        "    plt.ylabel('True label')\n",
        "    plt.xlabel('Predicted label')"
      ],
      "metadata": {
        "id": "xZcRD6PWD3FB"
      },
      "execution_count": 56,
      "outputs": []
    },
    {
      "cell_type": "code",
      "source": [
        "## Decision tree model\n",
        "from sklearn import tree\n",
        "import itertools \n",
        "import pickle\n",
        "clf = tree.DecisionTreeClassifier()\n",
        "clf = clf.fit(X_train, y_train)\n",
        "yp = clf.predict(X_test)\n",
        "print(yp)\n",
        "acc = accuracy_score(y_test, yp)\n",
        "print(\"accuracy is: \",acc)\n",
        " "
      ],
      "metadata": {
        "colab": {
          "base_uri": "https://localhost:8080/"
        },
        "id": "7EmCEy-TD_UJ",
        "outputId": "97e93b50-ca6a-4a4a-8781-abae6d5cd4d0"
      },
      "execution_count": 57,
      "outputs": [
        {
          "output_type": "stream",
          "name": "stdout",
          "text": [
            "[20 12  6 17 15 12 10 12 15  2  6 23  4 11 13  4 19  8  8  9 12 11 17 22\n",
            " 19 16  5  8  3  8 20 18  1  7 23 23 22 18  7 20 10 20 12  8 15 15  8 11\n",
            "  4 22 12 24 12 15 22 23  8 15  3 17 18  3 12 15 15 15 16 21 13 18 12 23\n",
            " 22 12 13 22  8  7 19  4 24 12  7  1 24 13 12 10  9  8  1  0 23 11  9 23\n",
            " 11 15 23 13  4 17  2  5  6 10  0 19 20 10  1 10 15 10 15 15 22  6 12  6\n",
            "  1  4  5  7  9 13 23  6  0  9 21 11  5  3  9 24 19 13  8  3 13 13 11 20\n",
            " 16 23 21 24  7 21 20 15 22 19 15 23  9 15 15  6  2 20  7 11 23 24  8  3\n",
            " 20  2 10 22 15  2 11 23  1 23  6  3  3 24 24 12  5 23 18 22 20 20  3  6\n",
            " 15]\n",
            "accuracy is:  0.9222797927461139\n"
          ]
        }
      ]
    },
    {
      "cell_type": "code",
      "source": [
        "## RandomForestClassifier\n",
        "from sklearn.ensemble import RandomForestClassifier\n",
        "\n",
        "#Create a Gaussian Classifier\n",
        "clf=RandomForestClassifier(n_estimators=100)\n",
        "\n",
        "#Train the model using the training sets y_pred=clf.predict(X_test)\n",
        "clf.fit(X_train,y_train)\n",
        "RandomForestClassifier()\n",
        "RandomForestClassifier(bootstrap=True, class_weight=None, criterion='gini',\n",
        "            max_depth=None, max_features='auto', max_leaf_nodes=None,\n",
        "            min_impurity_decrease=0.0,\n",
        "            min_samples_leaf=1, min_samples_split=2,\n",
        "            min_weight_fraction_leaf=0.0, n_estimators=100, n_jobs=1,\n",
        "            oob_score=False, random_state=None, verbose=0,\n",
        "            warm_start=False)\n",
        "RandomForestClassifier(n_jobs=1)"
      ],
      "metadata": {
        "colab": {
          "base_uri": "https://localhost:8080/",
          "height": 75
        },
        "id": "q8GzC3xsFIEq",
        "outputId": "8cd7e97e-5074-4ae4-c29d-b15e9b893f91"
      },
      "execution_count": 58,
      "outputs": [
        {
          "output_type": "execute_result",
          "data": {
            "text/plain": [
              "RandomForestClassifier(n_jobs=1)"
            ],
            "text/html": [
              "<style>#sk-container-id-1 {color: black;background-color: white;}#sk-container-id-1 pre{padding: 0;}#sk-container-id-1 div.sk-toggleable {background-color: white;}#sk-container-id-1 label.sk-toggleable__label {cursor: pointer;display: block;width: 100%;margin-bottom: 0;padding: 0.3em;box-sizing: border-box;text-align: center;}#sk-container-id-1 label.sk-toggleable__label-arrow:before {content: \"▸\";float: left;margin-right: 0.25em;color: #696969;}#sk-container-id-1 label.sk-toggleable__label-arrow:hover:before {color: black;}#sk-container-id-1 div.sk-estimator:hover label.sk-toggleable__label-arrow:before {color: black;}#sk-container-id-1 div.sk-toggleable__content {max-height: 0;max-width: 0;overflow: hidden;text-align: left;background-color: #f0f8ff;}#sk-container-id-1 div.sk-toggleable__content pre {margin: 0.2em;color: black;border-radius: 0.25em;background-color: #f0f8ff;}#sk-container-id-1 input.sk-toggleable__control:checked~div.sk-toggleable__content {max-height: 200px;max-width: 100%;overflow: auto;}#sk-container-id-1 input.sk-toggleable__control:checked~label.sk-toggleable__label-arrow:before {content: \"▾\";}#sk-container-id-1 div.sk-estimator input.sk-toggleable__control:checked~label.sk-toggleable__label {background-color: #d4ebff;}#sk-container-id-1 div.sk-label input.sk-toggleable__control:checked~label.sk-toggleable__label {background-color: #d4ebff;}#sk-container-id-1 input.sk-hidden--visually {border: 0;clip: rect(1px 1px 1px 1px);clip: rect(1px, 1px, 1px, 1px);height: 1px;margin: -1px;overflow: hidden;padding: 0;position: absolute;width: 1px;}#sk-container-id-1 div.sk-estimator {font-family: monospace;background-color: #f0f8ff;border: 1px dotted black;border-radius: 0.25em;box-sizing: border-box;margin-bottom: 0.5em;}#sk-container-id-1 div.sk-estimator:hover {background-color: #d4ebff;}#sk-container-id-1 div.sk-parallel-item::after {content: \"\";width: 100%;border-bottom: 1px solid gray;flex-grow: 1;}#sk-container-id-1 div.sk-label:hover label.sk-toggleable__label {background-color: #d4ebff;}#sk-container-id-1 div.sk-serial::before {content: \"\";position: absolute;border-left: 1px solid gray;box-sizing: border-box;top: 0;bottom: 0;left: 50%;z-index: 0;}#sk-container-id-1 div.sk-serial {display: flex;flex-direction: column;align-items: center;background-color: white;padding-right: 0.2em;padding-left: 0.2em;position: relative;}#sk-container-id-1 div.sk-item {position: relative;z-index: 1;}#sk-container-id-1 div.sk-parallel {display: flex;align-items: stretch;justify-content: center;background-color: white;position: relative;}#sk-container-id-1 div.sk-item::before, #sk-container-id-1 div.sk-parallel-item::before {content: \"\";position: absolute;border-left: 1px solid gray;box-sizing: border-box;top: 0;bottom: 0;left: 50%;z-index: -1;}#sk-container-id-1 div.sk-parallel-item {display: flex;flex-direction: column;z-index: 1;position: relative;background-color: white;}#sk-container-id-1 div.sk-parallel-item:first-child::after {align-self: flex-end;width: 50%;}#sk-container-id-1 div.sk-parallel-item:last-child::after {align-self: flex-start;width: 50%;}#sk-container-id-1 div.sk-parallel-item:only-child::after {width: 0;}#sk-container-id-1 div.sk-dashed-wrapped {border: 1px dashed gray;margin: 0 0.4em 0.5em 0.4em;box-sizing: border-box;padding-bottom: 0.4em;background-color: white;}#sk-container-id-1 div.sk-label label {font-family: monospace;font-weight: bold;display: inline-block;line-height: 1.2em;}#sk-container-id-1 div.sk-label-container {text-align: center;}#sk-container-id-1 div.sk-container {/* jupyter's `normalize.less` sets `[hidden] { display: none; }` but bootstrap.min.css set `[hidden] { display: none !important; }` so we also need the `!important` here to be able to override the default hidden behavior on the sphinx rendered scikit-learn.org. See: https://github.com/scikit-learn/scikit-learn/issues/21755 */display: inline-block !important;position: relative;}#sk-container-id-1 div.sk-text-repr-fallback {display: none;}</style><div id=\"sk-container-id-1\" class=\"sk-top-container\"><div class=\"sk-text-repr-fallback\"><pre>RandomForestClassifier(n_jobs=1)</pre><b>In a Jupyter environment, please rerun this cell to show the HTML representation or trust the notebook. <br />On GitHub, the HTML representation is unable to render, please try loading this page with nbviewer.org.</b></div><div class=\"sk-container\" hidden><div class=\"sk-item\"><div class=\"sk-estimator sk-toggleable\"><input class=\"sk-toggleable__control sk-hidden--visually\" id=\"sk-estimator-id-1\" type=\"checkbox\" checked><label for=\"sk-estimator-id-1\" class=\"sk-toggleable__label sk-toggleable__label-arrow\">RandomForestClassifier</label><div class=\"sk-toggleable__content\"><pre>RandomForestClassifier(n_jobs=1)</pre></div></div></div></div></div>"
            ]
          },
          "metadata": {},
          "execution_count": 58
        }
      ]
    },
    {
      "cell_type": "code",
      "source": [
        "from sklearn.ensemble import RandomForestClassifier\n",
        "\n",
        "#Create a Gaussian Classifier\n",
        "clf=RandomForestClassifier(n_estimators=100)\n",
        "\n",
        "#Train the model using the training sets y_pred=clf.predict(X_test)\n",
        "clf.fit(X_train,y_train)\n",
        "\n",
        "# prediction on test set\n",
        "y_pred=clf.predict(X_test)\n",
        "\n",
        "#Import scikit-learn metrics module for accuracy calculation\n",
        "from sklearn import metrics\n",
        "# Model Accuracy, how often is the classifier correct?\n",
        "print(\"Accuracy:\",metrics.accuracy_score(y_test, y_pred))"
      ],
      "metadata": {
        "colab": {
          "base_uri": "https://localhost:8080/"
        },
        "id": "4eFb7aFTFPma",
        "outputId": "089c2a2f-6106-47c1-8dff-138f6dcf1926"
      },
      "execution_count": 59,
      "outputs": [
        {
          "output_type": "stream",
          "name": "stdout",
          "text": [
            "Accuracy: 0.9222797927461139\n"
          ]
        }
      ]
    },
    {
      "cell_type": "code",
      "source": [
        "clf=RandomForestClassifier(n_estimators=100)\n",
        "clf.fit(X_train, y_train)\n",
        "prediction = clf.predict(X_test)\n",
        "print('Accuracy of Random forest Classifier on training set: {:.2f}'.format(clf.score(X_train, y_train)))\n",
        "print('Accuracy of Random forest Classifier on test set:     {:.2f}'.format(clf.score(X_test, y_test)))"
      ],
      "metadata": {
        "colab": {
          "base_uri": "https://localhost:8080/"
        },
        "id": "sqvotNwpFSNa",
        "outputId": "16695250-c950-43db-c4e7-014e52b9ec7e"
      },
      "execution_count": 60,
      "outputs": [
        {
          "output_type": "stream",
          "name": "stdout",
          "text": [
            "Accuracy of Random forest Classifier on training set: 0.96\n",
            "Accuracy of Random forest Classifier on test set:     0.93\n"
          ]
        }
      ]
    },
    {
      "cell_type": "code",
      "source": [
        "print(clf,metrics.classification_report(y_test,prediction))"
      ],
      "metadata": {
        "colab": {
          "base_uri": "https://localhost:8080/"
        },
        "id": "vC57cQKnFVYJ",
        "outputId": "978d3885-e9ce-41da-8603-f7bccd71f35c"
      },
      "execution_count": 61,
      "outputs": [
        {
          "output_type": "stream",
          "name": "stdout",
          "text": [
            "RandomForestClassifier()               precision    recall  f1-score   support\n",
            "\n",
            "           0       1.00      0.33      0.50         3\n",
            "           1       0.33      0.67      0.44         3\n",
            "           2       1.00      1.00      1.00         5\n",
            "           3       1.00      1.00      1.00         9\n",
            "           4       1.00      1.00      1.00         6\n",
            "           5       1.00      1.00      1.00         5\n",
            "           6       1.00      1.00      1.00         9\n",
            "           7       1.00      1.00      1.00         7\n",
            "           8       1.00      1.00      1.00        11\n",
            "           9       1.00      1.00      1.00         9\n",
            "          10       1.00      1.00      1.00         8\n",
            "          11       1.00      1.00      1.00         9\n",
            "          12       0.36      1.00      0.53         5\n",
            "          13       1.00      1.00      1.00         9\n",
            "          14       0.00      0.00      0.00         7\n",
            "          15       1.00      1.00      1.00        19\n",
            "          16       1.00      1.00      1.00         3\n",
            "          17       1.00      1.00      1.00         4\n",
            "          18       1.00      1.00      1.00         5\n",
            "          19       1.00      1.00      1.00         6\n",
            "          20       1.00      1.00      1.00        11\n",
            "          21       1.00      1.00      1.00         4\n",
            "          22       1.00      0.77      0.87        13\n",
            "          23       1.00      1.00      1.00        15\n",
            "          24       1.00      1.00      1.00         8\n",
            "\n",
            "    accuracy                           0.93       193\n",
            "   macro avg       0.91      0.91      0.89       193\n",
            "weighted avg       0.94      0.93      0.93       193\n",
            "\n"
          ]
        }
      ]
    },
    {
      "cell_type": "code",
      "source": [
        "!pip install xgboost"
      ],
      "metadata": {
        "colab": {
          "base_uri": "https://localhost:8080/"
        },
        "id": "K1ch_cloFeup",
        "outputId": "7311f6be-b59b-411f-8b27-22c87dd05917"
      },
      "execution_count": 62,
      "outputs": [
        {
          "output_type": "stream",
          "name": "stdout",
          "text": [
            "Looking in indexes: https://pypi.org/simple, https://us-python.pkg.dev/colab-wheels/public/simple/\n",
            "Requirement already satisfied: xgboost in /usr/local/lib/python3.9/dist-packages (1.7.4)\n",
            "Requirement already satisfied: scipy in /usr/local/lib/python3.9/dist-packages (from xgboost) (1.10.1)\n",
            "Requirement already satisfied: numpy in /usr/local/lib/python3.9/dist-packages (from xgboost) (1.22.4)\n"
          ]
        }
      ]
    },
    {
      "cell_type": "code",
      "source": [
        "## xgboost\n",
        "from xgboost  import XGBClassifier,plot_importance\n",
        "from sklearn.metrics import accuracy_score"
      ],
      "metadata": {
        "id": "M8gJVziiFhLB"
      },
      "execution_count": 63,
      "outputs": []
    },
    {
      "cell_type": "code",
      "source": [
        "xgb = XGBClassifier()  \n",
        "xgb.fit(X_train, y_train)\n",
        "XGBClassifier(base_score=0.5, booster='gbtree', colsample_bylevel=1,\n",
        "              colsample_bynode=1, colsample_bytree=1, gamma=0,\n",
        "              learning_rate=0.3, max_delta_step=0, max_depth=10,\n",
        "              min_child_weight=1, missing=None, n_estimators=100, n_jobs=1,\n",
        "              nthread=None, objective='multi:softprob', random_state=0,\n",
        "              reg_alpha=0, reg_lambda=1, scale_pos_weight=1, seed=None,\n",
        "              silent=None, subsample=1, verbosity=1)\n",
        "print(type(X_test))\n",
        "print(X_test.shape)\n",
        "y_pred = xgb.predict(X_test)\n",
        "print(y_pred)\n",
        "# predictions = [round(value) for value in y_pred]\n",
        "accuracy = accuracy_score(y_test, y_pred)\n",
        "print(\"Accuracy: %.2f%%\" % (accuracy * 100.0))"
      ],
      "metadata": {
        "colab": {
          "base_uri": "https://localhost:8080/"
        },
        "id": "8iNiwKHnFkPa",
        "outputId": "25509570-02fe-4b3b-d7fa-36fdb2ded067"
      },
      "execution_count": 64,
      "outputs": [
        {
          "output_type": "stream",
          "name": "stdout",
          "text": [
            "<class 'scipy.sparse._csr.csr_matrix'>\n",
            "(193, 302)\n",
            "[20 12  6 17 15 12 10 12 15  2  6 23  4 11 13  4 19  8  8  9 12 11 17 22\n",
            " 19 16  5  8  3  8 20 18  1  7 23 23 22 18  7 20 10 20 12  8 15 15  8 11\n",
            "  4 22 12 24 12 15 22 23  8 15  3 17 18  3 12 15 15 15 16 21 13 18 12 23\n",
            " 22 12 13 22  8  7 19  4 24 12  7  1 24 13 12 10  9  8  1  9 23 11  9 23\n",
            " 11 15 23 13  4 17  2  5  6 10  0 19 20 10  1 10 15 10 15 15 22  6 12  6\n",
            "  1  4  5  7  9 13 23  6  9  9 21 11  5  3  9 24 19 13  8  3 13 13 11 20\n",
            " 16 23 21 24  7 21 20 15 22 19 15 23  9 15 15  6  2 20  7 11 23 24  8  3\n",
            " 20  2 10 22 15  2 11 23  1 23  6  3  3 24 24 12  5 23 18 22 20 20  3  6\n",
            " 15]\n",
            "Accuracy: 93.26%\n"
          ]
        }
      ]
    },
    {
      "cell_type": "markdown",
      "source": [
        "Apply the two models on my CV"
      ],
      "metadata": {
        "id": "jQu7vOEiSmtP"
      }
    },
    {
      "cell_type": "code",
      "source": [
        "!pip install PyPDF2"
      ],
      "metadata": {
        "colab": {
          "base_uri": "https://localhost:8080/"
        },
        "id": "-A5f9sjtVwq3",
        "outputId": "8a54b1aa-2d0f-4743-d79a-edb4e467c0ec"
      },
      "execution_count": 65,
      "outputs": [
        {
          "output_type": "stream",
          "name": "stdout",
          "text": [
            "Looking in indexes: https://pypi.org/simple, https://us-python.pkg.dev/colab-wheels/public/simple/\n",
            "Collecting PyPDF2\n",
            "  Downloading pypdf2-3.0.1-py3-none-any.whl (232 kB)\n",
            "\u001b[2K     \u001b[90m━━━━━━━━━━━━━━━━━━━━━━━━━━━━━━━━━━━━━━━\u001b[0m \u001b[32m232.6/232.6 KB\u001b[0m \u001b[31m4.9 MB/s\u001b[0m eta \u001b[36m0:00:00\u001b[0m\n",
            "\u001b[?25hRequirement already satisfied: typing_extensions>=3.10.0.0 in /usr/local/lib/python3.9/dist-packages (from PyPDF2) (4.5.0)\n",
            "Installing collected packages: PyPDF2\n",
            "Successfully installed PyPDF2-3.0.1\n"
          ]
        }
      ]
    },
    {
      "cell_type": "code",
      "source": [
        "\n",
        "# importing required modules\n",
        "from PyPDF2 import PdfReader\n",
        " \n",
        "# creating a pdf reader object\n",
        "reader = PdfReader('/content/AmiraElsayed_CV.pdf')\n",
        " \n",
        "# printing number of pages in pdf file\n",
        "#print(len(reader.pages))\n",
        "text = ''\n",
        "\n",
        "for i in range(len(reader.pages)):\n",
        "  # getting a specific page from the pdf file\n",
        "  page = reader.pages[i]\n",
        " \n",
        "  # extracting text from page\n",
        "  text = text + page.extract_text()\n",
        "\n",
        "print(len(text))\n"
      ],
      "metadata": {
        "id": "BiDZl4kvQ_gY",
        "colab": {
          "base_uri": "https://localhost:8080/"
        },
        "outputId": "4294ede8-59fe-47cb-992d-3fc643145e65"
      },
      "execution_count": 68,
      "outputs": [
        {
          "output_type": "stream",
          "name": "stdout",
          "text": [
            "2689\n"
          ]
        }
      ]
    },
    {
      "cell_type": "code",
      "source": [
        "text"
      ],
      "metadata": {
        "colab": {
          "base_uri": "https://localhost:8080/",
          "height": 435
        },
        "id": "C-y1YX5UShX9",
        "outputId": "a8aee83e-390a-4038-bed1-a753f1e64780"
      },
      "execution_count": 69,
      "outputs": [
        {
          "output_type": "execute_result",
          "data": {
            "text/plain": [
              "'Exploring new\\n \\nmachine learning\\n \\ntechniques and\\n \\nalgorithms\\n\\uf004\\nParticipating in\\n \\nmachine learning\\n \\ncompetitions\\n\\uf004\\nContributing to open-\\nsource machine\\n \\nlearning projects\\n\\uf004\\nInterests\\nProgramming Skills\\nPython\\nC++ & C\\nHTML &  CSS\\nPHP\\nIDEs\\nGoogle Colab\\nJupyter\\nVisual Studio\\nEclipse\\n MATLAB\\nLanguages\\nArabic\\nEnglish\\nSkills\\nGiza, Egypt\\n\\uf015\\n+201002892794\\n\\uf095\\namirasyd1998@gmail.com\\n\\uf0e0\\nContact\\nAMIRA\\nELSAYED\\nMACHINE LEARNING ON CLOUD ENGINEER\\nAn innovative and experienced Machine Learning on Cloud\\n \\nEngineer with expertise in designing and deploying large-scale,\\n \\ndistributed systems for data processing and analysis. Proficient\\n \\nin AWS cloud computing platforms. Skilled in developing and\\n \\ndeploying machine learning models using tools such as\\n \\nTensorFlow, PyTorch, and Scikit-Learn.\\nProfile\\nEngineering Office for Integrated Projects\\n \\n(EOIP)\\nSoftware Engineer\\nFront & back end developer\\nFor 5 months\\nExperience\\nHITS Solutions\\nMachine Learning Engineer\\nName Entity Recognition project with NLP\\n \\nmodel to recognize skills from resume and\\n \\nbuild classification model for classify job title\\n \\nof the resume\\n  \\nFor 1 month\\nTraining\\nElectronics and Communication department ,\\n \\nFaculty of Engineering\\nCairo University\\nGraduation project :\\n“Diacritics Restoration using BERT For Arabic\\n \\nlanguage”\\n2016\\n - \\n2021\\nFour months scholarship of Digital Egypt\\n \\nYouth Initiative in NTI\\nTrack : Machine Learning On cloud\\nFor 4 months\\nAWS Academy Data Center Technician\\n•\\nAWS Academy Cloud Foundation\\n•\\nCISCO Networking Academy\\n•\\nAWS Academy Machine Learning\\n \\nFoundations\\n•\\nAWS Academy Machine Learning for Natural\\n \\nLanguage Processing\\n•\\nEducationAGILE METHODOLOGY COURSE IN EDRAAK\\nOct 2022\\nINTRODUCTION COURSE IN RPA\\nOct 2021\\nMACHINE LEARNING AT COURSERA\\nJun 2020\\nIOT IN MAHARA TECH\\nAug 2019\\nVHDL\\nFeb 2019\\nEMBEDDED SYSTEM DIPLOMA IN 3LEMNY ACADEMY\\nAug 2019\\nLEARNING HOW TO LEARN COURSE AT COURSERA\\nAug 2018\\nCourse\\nNAME ENTITY RECOGNITION BY NLP MODEL TO RECOGNIZE SKILLS FROM\\n \\nRESUME\\n \\nDIACRITICS RESTORATION USING BERT FOR ARABIC LANGUAGE\\nRESEARCH PROJECT OF MATHEMATICAL COURSE FOR UNDER GRADUATED\\n \\nSTUDENTS CALLED FACE RECOGNITION\\nUSING : OPEN CV, PYTHON , DATABASE\\nAN ATTENDANCE SYSTEM USING : PCB , MICRO CONTROLLER , KEYBAD , LCD.\\nIQ-TEST APPLICATION BY BUILDING A 16-BIT GENERAL PURPOSE INTEGER\\n \\nPROCESSOR USING : ALTUIM (PCB\\nDESGIN) , XILINX ISE (VHDL CODING)\\nGLASSES FOR THE BLIND USING : ARDUINO AND SOME OF ELECTRONICS DEVICE\\nSUPER-HETERODYNE RECEIVER USING : MATLAB PROGRAMMING SPECIFICALLY,\\n \\nAN AM MODULATOR AND\\nRADIO-STATION GENERATED SIGNALS\\nIMAGE AND SOUND PROCESSING USING : MATLAB\\nFILE ANALYSIS AND SMALL SEARCH ENGINE USING : INORDER LINKED LIST BY\\n \\nC++ IN ECLIPSE\\nProjects'"
            ],
            "application/vnd.google.colaboratory.intrinsic+json": {
              "type": "string"
            }
          },
          "metadata": {},
          "execution_count": 69
        }
      ]
    },
    {
      "cell_type": "code",
      "source": [
        "## we need to clean and generate centances from my cv\n",
        "\n",
        "# for clean:\n",
        "import re\n",
        "#print(text)\n",
        "stop_words = set(stopwords.words(\"english\"))\n",
        "lemmatizer = WordNetLemmatizer()\n",
        "# Remove special characters, URLs, and Twitter handles\n",
        "#re.sub(r\"(?![\\d_])\\w\",\"X\",\"dfäg\")\n",
        "review = re.sub('(@[A-Za-z0-9]+)|([^0-9A-Za-z \\t])|(\\w+:\\/\\/\\S+)|^rt|http.+?\"', \" \", (text))\n",
        "# Convert to lowercase and split into words\n",
        "review = review.lower().split()\n",
        "# Lemmatize words and remove stop words\n",
        "review = [lemmatizer.lemmatize(word) for word in review if word not in stop_words]\n",
        "# Join the words back into a single string\n",
        "review = \" \".join(review)\n",
        "print(\"////////////////////\")\n",
        "print(len(review))\n",
        "print(len(text))\n"
      ],
      "metadata": {
        "colab": {
          "base_uri": "https://localhost:8080/"
        },
        "id": "FRuuEhQAW6UA",
        "outputId": "4a23b84b-4a2e-4b54-b6a5-e43a1aee9396"
      },
      "execution_count": 70,
      "outputs": [
        {
          "output_type": "stream",
          "name": "stdout",
          "text": [
            "////////////////////\n",
            "2273\n",
            "2689\n"
          ]
        }
      ]
    },
    {
      "cell_type": "code",
      "source": [
        "print(review)"
      ],
      "metadata": {
        "colab": {
          "base_uri": "https://localhost:8080/"
        },
        "id": "FgUyJvigPBY6",
        "outputId": "ce3dc216-9754-4739-9e4f-f126ce68185b"
      },
      "execution_count": 71,
      "outputs": [
        {
          "output_type": "stream",
          "name": "stdout",
          "text": [
            "exploring new machine learning technique algorithm participating machine learning competition contributing open source machine learning project interest programming skill python c c html cs php ides google colab jupyter visual studio eclipse matlab language arabic english skill giza egypt 201002892794 amirasyd1998 com contact amira elsayed machine learning cloud engineer innovative experienced machine learning cloud engineer expertise designing deploying large scale distributed system data processing analysis proficient aws cloud computing platform skilled developing deploying machine learning model using tool tensorflow pytorch scikit learn profile engineering office integrated project eoip software engineer front back end developer 5 month experience hit solution machine learning engineer name entity recognition project nlp model recognize skill resume build classification model classify job title resume 1 month training electronics communication department faculty engineering cairo university graduation project diacritic restoration using bert arabic language 2016 2021 four month scholarship digital egypt youth initiative nti track machine learning cloud 4 month aws academy data center technician aws academy cloud foundation cisco networking academy aws academy machine learning foundation aws academy machine learning natural language processing educationagile methodology course edraak oct 2022 introduction course rpa oct 2021 machine learning coursera jun 2020 iot mahara tech aug 2019 vhdl feb 2019 embedded system diploma 3lemny academy aug 2019 learning learn course coursera aug 2018 course name entity recognition nlp model recognize skill resume diacritic restoration using bert arabic language research project mathematical course graduated student called face recognition using open cv python database attendance system using pcb micro controller keybad lcd iq test application building 16 bit general purpose integer processor using altuim pcb desgin xilinx ise vhdl coding glass blind using arduino electronics device super heterodyne receiver using matlab programming specifically modulator radio station generated signal image sound processing using matlab file analysis small search engine using inorder linked list c eclipse project\n"
          ]
        }
      ]
    },
    {
      "cell_type": "code",
      "source": [
        "cv = list(review.split(\" \"))\n",
        "len(cv)\n",
        "cv_sentences = [cv[x:x+10] for x in range(0, len(cv), 10)]\n",
        "print(len(cv_sentences))\n",
        "cv_sentences"
      ],
      "metadata": {
        "colab": {
          "base_uri": "https://localhost:8080/"
        },
        "id": "X-OlKDyzOl-6",
        "outputId": "40a3e30a-7db3-4af5-dd32-e07d79c873df"
      },
      "execution_count": 72,
      "outputs": [
        {
          "output_type": "stream",
          "name": "stdout",
          "text": [
            "31\n"
          ]
        },
        {
          "output_type": "execute_result",
          "data": {
            "text/plain": [
              "[['exploring',\n",
              "  'new',\n",
              "  'machine',\n",
              "  'learning',\n",
              "  'technique',\n",
              "  'algorithm',\n",
              "  'participating',\n",
              "  'machine',\n",
              "  'learning',\n",
              "  'competition'],\n",
              " ['contributing',\n",
              "  'open',\n",
              "  'source',\n",
              "  'machine',\n",
              "  'learning',\n",
              "  'project',\n",
              "  'interest',\n",
              "  'programming',\n",
              "  'skill',\n",
              "  'python'],\n",
              " ['c',\n",
              "  'c',\n",
              "  'html',\n",
              "  'cs',\n",
              "  'php',\n",
              "  'ides',\n",
              "  'google',\n",
              "  'colab',\n",
              "  'jupyter',\n",
              "  'visual'],\n",
              " ['studio',\n",
              "  'eclipse',\n",
              "  'matlab',\n",
              "  'language',\n",
              "  'arabic',\n",
              "  'english',\n",
              "  'skill',\n",
              "  'giza',\n",
              "  'egypt',\n",
              "  '201002892794'],\n",
              " ['amirasyd1998',\n",
              "  'com',\n",
              "  'contact',\n",
              "  'amira',\n",
              "  'elsayed',\n",
              "  'machine',\n",
              "  'learning',\n",
              "  'cloud',\n",
              "  'engineer',\n",
              "  'innovative'],\n",
              " ['experienced',\n",
              "  'machine',\n",
              "  'learning',\n",
              "  'cloud',\n",
              "  'engineer',\n",
              "  'expertise',\n",
              "  'designing',\n",
              "  'deploying',\n",
              "  'large',\n",
              "  'scale'],\n",
              " ['distributed',\n",
              "  'system',\n",
              "  'data',\n",
              "  'processing',\n",
              "  'analysis',\n",
              "  'proficient',\n",
              "  'aws',\n",
              "  'cloud',\n",
              "  'computing',\n",
              "  'platform'],\n",
              " ['skilled',\n",
              "  'developing',\n",
              "  'deploying',\n",
              "  'machine',\n",
              "  'learning',\n",
              "  'model',\n",
              "  'using',\n",
              "  'tool',\n",
              "  'tensorflow',\n",
              "  'pytorch'],\n",
              " ['scikit',\n",
              "  'learn',\n",
              "  'profile',\n",
              "  'engineering',\n",
              "  'office',\n",
              "  'integrated',\n",
              "  'project',\n",
              "  'eoip',\n",
              "  'software',\n",
              "  'engineer'],\n",
              " ['front',\n",
              "  'back',\n",
              "  'end',\n",
              "  'developer',\n",
              "  '5',\n",
              "  'month',\n",
              "  'experience',\n",
              "  'hit',\n",
              "  'solution',\n",
              "  'machine'],\n",
              " ['learning',\n",
              "  'engineer',\n",
              "  'name',\n",
              "  'entity',\n",
              "  'recognition',\n",
              "  'project',\n",
              "  'nlp',\n",
              "  'model',\n",
              "  'recognize',\n",
              "  'skill'],\n",
              " ['resume',\n",
              "  'build',\n",
              "  'classification',\n",
              "  'model',\n",
              "  'classify',\n",
              "  'job',\n",
              "  'title',\n",
              "  'resume',\n",
              "  '1',\n",
              "  'month'],\n",
              " ['training',\n",
              "  'electronics',\n",
              "  'communication',\n",
              "  'department',\n",
              "  'faculty',\n",
              "  'engineering',\n",
              "  'cairo',\n",
              "  'university',\n",
              "  'graduation',\n",
              "  'project'],\n",
              " ['diacritic',\n",
              "  'restoration',\n",
              "  'using',\n",
              "  'bert',\n",
              "  'arabic',\n",
              "  'language',\n",
              "  '2016',\n",
              "  '2021',\n",
              "  'four',\n",
              "  'month'],\n",
              " ['scholarship',\n",
              "  'digital',\n",
              "  'egypt',\n",
              "  'youth',\n",
              "  'initiative',\n",
              "  'nti',\n",
              "  'track',\n",
              "  'machine',\n",
              "  'learning',\n",
              "  'cloud'],\n",
              " ['4',\n",
              "  'month',\n",
              "  'aws',\n",
              "  'academy',\n",
              "  'data',\n",
              "  'center',\n",
              "  'technician',\n",
              "  'aws',\n",
              "  'academy',\n",
              "  'cloud'],\n",
              " ['foundation',\n",
              "  'cisco',\n",
              "  'networking',\n",
              "  'academy',\n",
              "  'aws',\n",
              "  'academy',\n",
              "  'machine',\n",
              "  'learning',\n",
              "  'foundation',\n",
              "  'aws'],\n",
              " ['academy',\n",
              "  'machine',\n",
              "  'learning',\n",
              "  'natural',\n",
              "  'language',\n",
              "  'processing',\n",
              "  'educationagile',\n",
              "  'methodology',\n",
              "  'course',\n",
              "  'edraak'],\n",
              " ['oct',\n",
              "  '2022',\n",
              "  'introduction',\n",
              "  'course',\n",
              "  'rpa',\n",
              "  'oct',\n",
              "  '2021',\n",
              "  'machine',\n",
              "  'learning',\n",
              "  'coursera'],\n",
              " ['jun',\n",
              "  '2020',\n",
              "  'iot',\n",
              "  'mahara',\n",
              "  'tech',\n",
              "  'aug',\n",
              "  '2019',\n",
              "  'vhdl',\n",
              "  'feb',\n",
              "  '2019'],\n",
              " ['embedded',\n",
              "  'system',\n",
              "  'diploma',\n",
              "  '3lemny',\n",
              "  'academy',\n",
              "  'aug',\n",
              "  '2019',\n",
              "  'learning',\n",
              "  'learn',\n",
              "  'course'],\n",
              " ['coursera',\n",
              "  'aug',\n",
              "  '2018',\n",
              "  'course',\n",
              "  'name',\n",
              "  'entity',\n",
              "  'recognition',\n",
              "  'nlp',\n",
              "  'model',\n",
              "  'recognize'],\n",
              " ['skill',\n",
              "  'resume',\n",
              "  'diacritic',\n",
              "  'restoration',\n",
              "  'using',\n",
              "  'bert',\n",
              "  'arabic',\n",
              "  'language',\n",
              "  'research',\n",
              "  'project'],\n",
              " ['mathematical',\n",
              "  'course',\n",
              "  'graduated',\n",
              "  'student',\n",
              "  'called',\n",
              "  'face',\n",
              "  'recognition',\n",
              "  'using',\n",
              "  'open',\n",
              "  'cv'],\n",
              " ['python',\n",
              "  'database',\n",
              "  'attendance',\n",
              "  'system',\n",
              "  'using',\n",
              "  'pcb',\n",
              "  'micro',\n",
              "  'controller',\n",
              "  'keybad',\n",
              "  'lcd'],\n",
              " ['iq',\n",
              "  'test',\n",
              "  'application',\n",
              "  'building',\n",
              "  '16',\n",
              "  'bit',\n",
              "  'general',\n",
              "  'purpose',\n",
              "  'integer',\n",
              "  'processor'],\n",
              " ['using',\n",
              "  'altuim',\n",
              "  'pcb',\n",
              "  'desgin',\n",
              "  'xilinx',\n",
              "  'ise',\n",
              "  'vhdl',\n",
              "  'coding',\n",
              "  'glass',\n",
              "  'blind'],\n",
              " ['using',\n",
              "  'arduino',\n",
              "  'electronics',\n",
              "  'device',\n",
              "  'super',\n",
              "  'heterodyne',\n",
              "  'receiver',\n",
              "  'using',\n",
              "  'matlab',\n",
              "  'programming'],\n",
              " ['specifically',\n",
              "  'modulator',\n",
              "  'radio',\n",
              "  'station',\n",
              "  'generated',\n",
              "  'signal',\n",
              "  'image',\n",
              "  'sound',\n",
              "  'processing',\n",
              "  'using'],\n",
              " ['matlab',\n",
              "  'file',\n",
              "  'analysis',\n",
              "  'small',\n",
              "  'search',\n",
              "  'engine',\n",
              "  'using',\n",
              "  'inorder',\n",
              "  'linked',\n",
              "  'list'],\n",
              " ['c', 'eclipse', 'project']]"
            ]
          },
          "metadata": {},
          "execution_count": 72
        }
      ]
    },
    {
      "cell_type": "code",
      "source": [
        "input_ids = []\n",
        "new_tokens, new_labels = [], []\n",
        "for i in range(len(cv_sentences)):\n",
        "  test_sentence = cv_sentences[i]\n",
        "  tokenized_sentence = tokenizer.encode(test_sentence)\n",
        "  input_ids.append(torch.tensor([tokenized_sentence]).cuda())\n",
        "label_indices = []\n",
        "for i in range(len(input_ids)):\n",
        "  with torch.no_grad():\n",
        "    output = model(input_ids[i])\n",
        "  label_indices = np.argmax(output[0].to('cpu').numpy(), axis=2)\n",
        "  tokens = tokenizer.convert_ids_to_tokens(input_ids[i].to('cpu').numpy()[0])\n",
        "  for token, label_idx in zip(tokens, label_indices[0]):\n",
        "    if token.startswith(\"##\"):\n",
        "        new_tokens[-1] = new_tokens[-1] + token[2:]\n",
        "    else:\n",
        "        new_labels.append(tag_values[label_idx])\n",
        "        new_tokens.append(token)\n",
        "  \n"
      ],
      "metadata": {
        "id": "_xg4EnLAb1sR"
      },
      "execution_count": 73,
      "outputs": []
    },
    {
      "cell_type": "code",
      "source": [
        "SKILLS = []\n",
        "for token, label in zip(new_tokens, new_labels):\n",
        "  if label in ['B-SKILL', 'I-SKILL', 'O-SKILL']:\n",
        "    SKILLS.append(token)\n",
        "    print(\"{}\\t{}\".format(label, token))\n",
        "\n",
        "print(SKILLS)\n",
        "df_SKILLS = pd.DataFrame()\n",
        "df_SKILLS['SKILLS'] = SKILLS\n",
        "df_SKILLS.to_csv('CV_SKILLS.csv')"
      ],
      "metadata": {
        "colab": {
          "base_uri": "https://localhost:8080/"
        },
        "id": "iQRmWlmbbYvG",
        "outputId": "a39aab18-7788-48ac-e9a6-8ec5c1185488"
      },
      "execution_count": 75,
      "outputs": [
        {
          "output_type": "stream",
          "name": "stdout",
          "text": [
            "B-SKILL\tmachine\n",
            "I-SKILL\tlearning\n",
            "B-SKILL\talgorithm\n",
            "B-SKILL\tmachine\n",
            "I-SKILL\tlearning\n",
            "B-SKILL\tmachine\n",
            "I-SKILL\tlearning\n",
            "B-SKILL\teclipse\n",
            "B-SKILL\tmachine\n",
            "I-SKILL\tlearning\n",
            "B-SKILL\tmachine\n",
            "I-SKILL\tlearning\n",
            "B-SKILL\tdata\n",
            "I-SKILL\tprocessing\n",
            "B-SKILL\tmachine\n",
            "I-SKILL\tlearning\n",
            "B-SKILL\tengineering\n",
            "B-SKILL\tsoftware\n",
            "B-SKILL\tfront\n",
            "I-SKILL\tend\n",
            "B-SKILL\t[CLS]\n",
            "B-SKILL\tengineering\n",
            "B-SKILL\tmachine\n",
            "I-SKILL\tlearning\n",
            "B-SKILL\tdata\n",
            "I-SKILL\tcenter\n",
            "B-SKILL\tmachine\n",
            "I-SKILL\tlearning\n",
            "B-SKILL\tmachine\n",
            "I-SKILL\tlearning\n",
            "B-SKILL\tnatural\n",
            "I-SKILL\tlanguage\n",
            "I-SKILL\tprocessing\n",
            "B-SKILL\tmachine\n",
            "I-SKILL\tlearning\n",
            "B-SKILL\tembedded\n",
            "I-SKILL\tsystem\n",
            "B-SKILL\tdatabase\n",
            "I-SKILL\tanalysis\n",
            "B-SKILL\tsearch\n",
            "I-SKILL\tengine\n",
            "B-SKILL\teclipse\n",
            "['machine', 'learning', 'algorithm', 'machine', 'learning', 'machine', 'learning', 'eclipse', 'machine', 'learning', 'machine', 'learning', 'data', 'processing', 'machine', 'learning', 'engineering', 'software', 'front', 'end', '[CLS]', 'engineering', 'machine', 'learning', 'data', 'center', 'machine', 'learning', 'machine', 'learning', 'natural', 'language', 'processing', 'machine', 'learning', 'embedded', 'system', 'database', 'analysis', 'search', 'engine', 'eclipse']\n"
          ]
        }
      ]
    },
    {
      "cell_type": "code",
      "source": [
        "skills_list = [' '.join(SKILLS)]\n",
        "skills = np.array(skills_list)\n",
        "skills"
      ],
      "metadata": {
        "colab": {
          "base_uri": "https://localhost:8080/"
        },
        "id": "Y8w05rCXGBxb",
        "outputId": "538d80ff-1ea8-4dd1-c7e5-a28c84cac1fc"
      },
      "execution_count": 76,
      "outputs": [
        {
          "output_type": "execute_result",
          "data": {
            "text/plain": [
              "array(['machine learning algorithm machine learning machine learning eclipse machine learning machine learning data processing machine learning engineering software front end [CLS] engineering machine learning data center machine learning machine learning natural language processing machine learning embedded system database analysis search engine eclipse'],\n",
              "      dtype='<U348')"
            ]
          },
          "metadata": {},
          "execution_count": 76
        }
      ]
    },
    {
      "cell_type": "code",
      "source": [
        "from sklearn.feature_extraction.text import TfidfVectorizer\n",
        "\n",
        "cv_features = word_vectorizer.transform(skills)\n",
        "cv_features.shape"
      ],
      "metadata": {
        "colab": {
          "base_uri": "https://localhost:8080/"
        },
        "id": "hVFmXiM_GFWR",
        "outputId": "5bf9688d-f1ae-47ce-ac36-987a6bc5431e"
      },
      "execution_count": 77,
      "outputs": [
        {
          "output_type": "execute_result",
          "data": {
            "text/plain": [
              "(1, 302)"
            ]
          },
          "metadata": {},
          "execution_count": 77
        }
      ]
    },
    {
      "cell_type": "code",
      "source": [
        "# xgboost\n",
        "y_pred = xgb.predict(cv_features)\n",
        "print(y_pred)\n",
        "prediction= labelencoder.inverse_transform(y_pred)\n",
        "prediction"
      ],
      "metadata": {
        "colab": {
          "base_uri": "https://localhost:8080/"
        },
        "id": "5DiLncDsGIdx",
        "outputId": "7f6714db-e739-482d-ba21-483577448963"
      },
      "execution_count": 78,
      "outputs": [
        {
          "output_type": "stream",
          "name": "stdout",
          "text": [
            "[6]\n"
          ]
        },
        {
          "output_type": "execute_result",
          "data": {
            "text/plain": [
              "array(['Data Science'], dtype=object)"
            ]
          },
          "metadata": {},
          "execution_count": 78
        }
      ]
    },
    {
      "cell_type": "code",
      "source": [
        "# random forest\n",
        "y_pred = clf.predict(cv_features)\n",
        "print(y_pred)\n",
        "prediction= labelencoder.inverse_transform(y_pred)\n",
        "prediction"
      ],
      "metadata": {
        "colab": {
          "base_uri": "https://localhost:8080/"
        },
        "id": "TH0G9UMuGLo5",
        "outputId": "c212c9c1-bb85-4357-f5ae-da1be0c762ce"
      },
      "execution_count": 79,
      "outputs": [
        {
          "output_type": "stream",
          "name": "stdout",
          "text": [
            "[6]\n"
          ]
        },
        {
          "output_type": "execute_result",
          "data": {
            "text/plain": [
              "array(['Data Science'], dtype=object)"
            ]
          },
          "metadata": {},
          "execution_count": 79
        }
      ]
    },
    {
      "cell_type": "code",
      "source": [],
      "metadata": {
        "id": "qovE6CmCGtMC"
      },
      "execution_count": null,
      "outputs": []
    }
  ],
  "metadata": {
    "colab": {
      "provenance": []
    },
    "gpuClass": "standard",
    "kernelspec": {
      "display_name": "Python 3",
      "name": "python3"
    },
    "language_info": {
      "name": "python"
    },
    "widgets": {
      "application/vnd.jupyter.widget-state+json": {
        "d8eb5ef82cf544eb94002b69337b0a55": {
          "model_module": "@jupyter-widgets/controls",
          "model_name": "HBoxModel",
          "model_module_version": "1.5.0",
          "state": {
            "_dom_classes": [],
            "_model_module": "@jupyter-widgets/controls",
            "_model_module_version": "1.5.0",
            "_model_name": "HBoxModel",
            "_view_count": null,
            "_view_module": "@jupyter-widgets/controls",
            "_view_module_version": "1.5.0",
            "_view_name": "HBoxView",
            "box_style": "",
            "children": [
              "IPY_MODEL_8da396ee3a3849c29db0267a419d3b4a",
              "IPY_MODEL_887c7afe75c44e349bcdfa45cd9c5c5b",
              "IPY_MODEL_f92ed7a181c44b28ba8d5a7556696942"
            ],
            "layout": "IPY_MODEL_81cdad64479345e4825437841bcd3bcf"
          }
        },
        "8da396ee3a3849c29db0267a419d3b4a": {
          "model_module": "@jupyter-widgets/controls",
          "model_name": "HTMLModel",
          "model_module_version": "1.5.0",
          "state": {
            "_dom_classes": [],
            "_model_module": "@jupyter-widgets/controls",
            "_model_module_version": "1.5.0",
            "_model_name": "HTMLModel",
            "_view_count": null,
            "_view_module": "@jupyter-widgets/controls",
            "_view_module_version": "1.5.0",
            "_view_name": "HTMLView",
            "description": "",
            "description_tooltip": null,
            "layout": "IPY_MODEL_9db3a67649724c4ba2156a9df459bc2a",
            "placeholder": "​",
            "style": "IPY_MODEL_65713f1b7a1d45f0860745d975549eda",
            "value": "Downloading (…)solve/main/vocab.txt: 100%"
          }
        },
        "887c7afe75c44e349bcdfa45cd9c5c5b": {
          "model_module": "@jupyter-widgets/controls",
          "model_name": "FloatProgressModel",
          "model_module_version": "1.5.0",
          "state": {
            "_dom_classes": [],
            "_model_module": "@jupyter-widgets/controls",
            "_model_module_version": "1.5.0",
            "_model_name": "FloatProgressModel",
            "_view_count": null,
            "_view_module": "@jupyter-widgets/controls",
            "_view_module_version": "1.5.0",
            "_view_name": "ProgressView",
            "bar_style": "success",
            "description": "",
            "description_tooltip": null,
            "layout": "IPY_MODEL_1b571bcbf9b047968d1cf570f798c76c",
            "max": 213450,
            "min": 0,
            "orientation": "horizontal",
            "style": "IPY_MODEL_4c0405f608f144c1a46f11c045d32a94",
            "value": 213450
          }
        },
        "f92ed7a181c44b28ba8d5a7556696942": {
          "model_module": "@jupyter-widgets/controls",
          "model_name": "HTMLModel",
          "model_module_version": "1.5.0",
          "state": {
            "_dom_classes": [],
            "_model_module": "@jupyter-widgets/controls",
            "_model_module_version": "1.5.0",
            "_model_name": "HTMLModel",
            "_view_count": null,
            "_view_module": "@jupyter-widgets/controls",
            "_view_module_version": "1.5.0",
            "_view_name": "HTMLView",
            "description": "",
            "description_tooltip": null,
            "layout": "IPY_MODEL_d078930bfc124e0da49cf2be21b10349",
            "placeholder": "​",
            "style": "IPY_MODEL_b12770ac63b74df6b6cf8828c67a87c5",
            "value": " 213k/213k [00:00&lt;00:00, 1.66MB/s]"
          }
        },
        "81cdad64479345e4825437841bcd3bcf": {
          "model_module": "@jupyter-widgets/base",
          "model_name": "LayoutModel",
          "model_module_version": "1.2.0",
          "state": {
            "_model_module": "@jupyter-widgets/base",
            "_model_module_version": "1.2.0",
            "_model_name": "LayoutModel",
            "_view_count": null,
            "_view_module": "@jupyter-widgets/base",
            "_view_module_version": "1.2.0",
            "_view_name": "LayoutView",
            "align_content": null,
            "align_items": null,
            "align_self": null,
            "border": null,
            "bottom": null,
            "display": null,
            "flex": null,
            "flex_flow": null,
            "grid_area": null,
            "grid_auto_columns": null,
            "grid_auto_flow": null,
            "grid_auto_rows": null,
            "grid_column": null,
            "grid_gap": null,
            "grid_row": null,
            "grid_template_areas": null,
            "grid_template_columns": null,
            "grid_template_rows": null,
            "height": null,
            "justify_content": null,
            "justify_items": null,
            "left": null,
            "margin": null,
            "max_height": null,
            "max_width": null,
            "min_height": null,
            "min_width": null,
            "object_fit": null,
            "object_position": null,
            "order": null,
            "overflow": null,
            "overflow_x": null,
            "overflow_y": null,
            "padding": null,
            "right": null,
            "top": null,
            "visibility": null,
            "width": null
          }
        },
        "9db3a67649724c4ba2156a9df459bc2a": {
          "model_module": "@jupyter-widgets/base",
          "model_name": "LayoutModel",
          "model_module_version": "1.2.0",
          "state": {
            "_model_module": "@jupyter-widgets/base",
            "_model_module_version": "1.2.0",
            "_model_name": "LayoutModel",
            "_view_count": null,
            "_view_module": "@jupyter-widgets/base",
            "_view_module_version": "1.2.0",
            "_view_name": "LayoutView",
            "align_content": null,
            "align_items": null,
            "align_self": null,
            "border": null,
            "bottom": null,
            "display": null,
            "flex": null,
            "flex_flow": null,
            "grid_area": null,
            "grid_auto_columns": null,
            "grid_auto_flow": null,
            "grid_auto_rows": null,
            "grid_column": null,
            "grid_gap": null,
            "grid_row": null,
            "grid_template_areas": null,
            "grid_template_columns": null,
            "grid_template_rows": null,
            "height": null,
            "justify_content": null,
            "justify_items": null,
            "left": null,
            "margin": null,
            "max_height": null,
            "max_width": null,
            "min_height": null,
            "min_width": null,
            "object_fit": null,
            "object_position": null,
            "order": null,
            "overflow": null,
            "overflow_x": null,
            "overflow_y": null,
            "padding": null,
            "right": null,
            "top": null,
            "visibility": null,
            "width": null
          }
        },
        "65713f1b7a1d45f0860745d975549eda": {
          "model_module": "@jupyter-widgets/controls",
          "model_name": "DescriptionStyleModel",
          "model_module_version": "1.5.0",
          "state": {
            "_model_module": "@jupyter-widgets/controls",
            "_model_module_version": "1.5.0",
            "_model_name": "DescriptionStyleModel",
            "_view_count": null,
            "_view_module": "@jupyter-widgets/base",
            "_view_module_version": "1.2.0",
            "_view_name": "StyleView",
            "description_width": ""
          }
        },
        "1b571bcbf9b047968d1cf570f798c76c": {
          "model_module": "@jupyter-widgets/base",
          "model_name": "LayoutModel",
          "model_module_version": "1.2.0",
          "state": {
            "_model_module": "@jupyter-widgets/base",
            "_model_module_version": "1.2.0",
            "_model_name": "LayoutModel",
            "_view_count": null,
            "_view_module": "@jupyter-widgets/base",
            "_view_module_version": "1.2.0",
            "_view_name": "LayoutView",
            "align_content": null,
            "align_items": null,
            "align_self": null,
            "border": null,
            "bottom": null,
            "display": null,
            "flex": null,
            "flex_flow": null,
            "grid_area": null,
            "grid_auto_columns": null,
            "grid_auto_flow": null,
            "grid_auto_rows": null,
            "grid_column": null,
            "grid_gap": null,
            "grid_row": null,
            "grid_template_areas": null,
            "grid_template_columns": null,
            "grid_template_rows": null,
            "height": null,
            "justify_content": null,
            "justify_items": null,
            "left": null,
            "margin": null,
            "max_height": null,
            "max_width": null,
            "min_height": null,
            "min_width": null,
            "object_fit": null,
            "object_position": null,
            "order": null,
            "overflow": null,
            "overflow_x": null,
            "overflow_y": null,
            "padding": null,
            "right": null,
            "top": null,
            "visibility": null,
            "width": null
          }
        },
        "4c0405f608f144c1a46f11c045d32a94": {
          "model_module": "@jupyter-widgets/controls",
          "model_name": "ProgressStyleModel",
          "model_module_version": "1.5.0",
          "state": {
            "_model_module": "@jupyter-widgets/controls",
            "_model_module_version": "1.5.0",
            "_model_name": "ProgressStyleModel",
            "_view_count": null,
            "_view_module": "@jupyter-widgets/base",
            "_view_module_version": "1.2.0",
            "_view_name": "StyleView",
            "bar_color": null,
            "description_width": ""
          }
        },
        "d078930bfc124e0da49cf2be21b10349": {
          "model_module": "@jupyter-widgets/base",
          "model_name": "LayoutModel",
          "model_module_version": "1.2.0",
          "state": {
            "_model_module": "@jupyter-widgets/base",
            "_model_module_version": "1.2.0",
            "_model_name": "LayoutModel",
            "_view_count": null,
            "_view_module": "@jupyter-widgets/base",
            "_view_module_version": "1.2.0",
            "_view_name": "LayoutView",
            "align_content": null,
            "align_items": null,
            "align_self": null,
            "border": null,
            "bottom": null,
            "display": null,
            "flex": null,
            "flex_flow": null,
            "grid_area": null,
            "grid_auto_columns": null,
            "grid_auto_flow": null,
            "grid_auto_rows": null,
            "grid_column": null,
            "grid_gap": null,
            "grid_row": null,
            "grid_template_areas": null,
            "grid_template_columns": null,
            "grid_template_rows": null,
            "height": null,
            "justify_content": null,
            "justify_items": null,
            "left": null,
            "margin": null,
            "max_height": null,
            "max_width": null,
            "min_height": null,
            "min_width": null,
            "object_fit": null,
            "object_position": null,
            "order": null,
            "overflow": null,
            "overflow_x": null,
            "overflow_y": null,
            "padding": null,
            "right": null,
            "top": null,
            "visibility": null,
            "width": null
          }
        },
        "b12770ac63b74df6b6cf8828c67a87c5": {
          "model_module": "@jupyter-widgets/controls",
          "model_name": "DescriptionStyleModel",
          "model_module_version": "1.5.0",
          "state": {
            "_model_module": "@jupyter-widgets/controls",
            "_model_module_version": "1.5.0",
            "_model_name": "DescriptionStyleModel",
            "_view_count": null,
            "_view_module": "@jupyter-widgets/base",
            "_view_module_version": "1.2.0",
            "_view_name": "StyleView",
            "description_width": ""
          }
        },
        "5df4abd533e946dc8f8fd2269ff91e50": {
          "model_module": "@jupyter-widgets/controls",
          "model_name": "HBoxModel",
          "model_module_version": "1.5.0",
          "state": {
            "_dom_classes": [],
            "_model_module": "@jupyter-widgets/controls",
            "_model_module_version": "1.5.0",
            "_model_name": "HBoxModel",
            "_view_count": null,
            "_view_module": "@jupyter-widgets/controls",
            "_view_module_version": "1.5.0",
            "_view_name": "HBoxView",
            "box_style": "",
            "children": [
              "IPY_MODEL_e10bbe5c024c461c93e9429a3b016c74",
              "IPY_MODEL_d3e97dddd87f47578970082e917546c2",
              "IPY_MODEL_51db6340289443be950f94d441fd4c06"
            ],
            "layout": "IPY_MODEL_b5ace92a6fca4bcb9c7037eac33152f4"
          }
        },
        "e10bbe5c024c461c93e9429a3b016c74": {
          "model_module": "@jupyter-widgets/controls",
          "model_name": "HTMLModel",
          "model_module_version": "1.5.0",
          "state": {
            "_dom_classes": [],
            "_model_module": "@jupyter-widgets/controls",
            "_model_module_version": "1.5.0",
            "_model_name": "HTMLModel",
            "_view_count": null,
            "_view_module": "@jupyter-widgets/controls",
            "_view_module_version": "1.5.0",
            "_view_name": "HTMLView",
            "description": "",
            "description_tooltip": null,
            "layout": "IPY_MODEL_207788624e9e411e9acf317332d799fa",
            "placeholder": "​",
            "style": "IPY_MODEL_566b30511e2a4c3d832aa221d589a235",
            "value": "Downloading (…)okenizer_config.json: 100%"
          }
        },
        "d3e97dddd87f47578970082e917546c2": {
          "model_module": "@jupyter-widgets/controls",
          "model_name": "FloatProgressModel",
          "model_module_version": "1.5.0",
          "state": {
            "_dom_classes": [],
            "_model_module": "@jupyter-widgets/controls",
            "_model_module_version": "1.5.0",
            "_model_name": "FloatProgressModel",
            "_view_count": null,
            "_view_module": "@jupyter-widgets/controls",
            "_view_module_version": "1.5.0",
            "_view_name": "ProgressView",
            "bar_style": "success",
            "description": "",
            "description_tooltip": null,
            "layout": "IPY_MODEL_8ed80b1111394c889ef3b6af805aff0c",
            "max": 29,
            "min": 0,
            "orientation": "horizontal",
            "style": "IPY_MODEL_54cfdbf109b5488c898e83393f51a81b",
            "value": 29
          }
        },
        "51db6340289443be950f94d441fd4c06": {
          "model_module": "@jupyter-widgets/controls",
          "model_name": "HTMLModel",
          "model_module_version": "1.5.0",
          "state": {
            "_dom_classes": [],
            "_model_module": "@jupyter-widgets/controls",
            "_model_module_version": "1.5.0",
            "_model_name": "HTMLModel",
            "_view_count": null,
            "_view_module": "@jupyter-widgets/controls",
            "_view_module_version": "1.5.0",
            "_view_name": "HTMLView",
            "description": "",
            "description_tooltip": null,
            "layout": "IPY_MODEL_d549ba78023e4c62bd5c643a1bb8e6e6",
            "placeholder": "​",
            "style": "IPY_MODEL_c9f0273c0aa24c3c98aa3abfce93e629",
            "value": " 29.0/29.0 [00:00&lt;00:00, 332B/s]"
          }
        },
        "b5ace92a6fca4bcb9c7037eac33152f4": {
          "model_module": "@jupyter-widgets/base",
          "model_name": "LayoutModel",
          "model_module_version": "1.2.0",
          "state": {
            "_model_module": "@jupyter-widgets/base",
            "_model_module_version": "1.2.0",
            "_model_name": "LayoutModel",
            "_view_count": null,
            "_view_module": "@jupyter-widgets/base",
            "_view_module_version": "1.2.0",
            "_view_name": "LayoutView",
            "align_content": null,
            "align_items": null,
            "align_self": null,
            "border": null,
            "bottom": null,
            "display": null,
            "flex": null,
            "flex_flow": null,
            "grid_area": null,
            "grid_auto_columns": null,
            "grid_auto_flow": null,
            "grid_auto_rows": null,
            "grid_column": null,
            "grid_gap": null,
            "grid_row": null,
            "grid_template_areas": null,
            "grid_template_columns": null,
            "grid_template_rows": null,
            "height": null,
            "justify_content": null,
            "justify_items": null,
            "left": null,
            "margin": null,
            "max_height": null,
            "max_width": null,
            "min_height": null,
            "min_width": null,
            "object_fit": null,
            "object_position": null,
            "order": null,
            "overflow": null,
            "overflow_x": null,
            "overflow_y": null,
            "padding": null,
            "right": null,
            "top": null,
            "visibility": null,
            "width": null
          }
        },
        "207788624e9e411e9acf317332d799fa": {
          "model_module": "@jupyter-widgets/base",
          "model_name": "LayoutModel",
          "model_module_version": "1.2.0",
          "state": {
            "_model_module": "@jupyter-widgets/base",
            "_model_module_version": "1.2.0",
            "_model_name": "LayoutModel",
            "_view_count": null,
            "_view_module": "@jupyter-widgets/base",
            "_view_module_version": "1.2.0",
            "_view_name": "LayoutView",
            "align_content": null,
            "align_items": null,
            "align_self": null,
            "border": null,
            "bottom": null,
            "display": null,
            "flex": null,
            "flex_flow": null,
            "grid_area": null,
            "grid_auto_columns": null,
            "grid_auto_flow": null,
            "grid_auto_rows": null,
            "grid_column": null,
            "grid_gap": null,
            "grid_row": null,
            "grid_template_areas": null,
            "grid_template_columns": null,
            "grid_template_rows": null,
            "height": null,
            "justify_content": null,
            "justify_items": null,
            "left": null,
            "margin": null,
            "max_height": null,
            "max_width": null,
            "min_height": null,
            "min_width": null,
            "object_fit": null,
            "object_position": null,
            "order": null,
            "overflow": null,
            "overflow_x": null,
            "overflow_y": null,
            "padding": null,
            "right": null,
            "top": null,
            "visibility": null,
            "width": null
          }
        },
        "566b30511e2a4c3d832aa221d589a235": {
          "model_module": "@jupyter-widgets/controls",
          "model_name": "DescriptionStyleModel",
          "model_module_version": "1.5.0",
          "state": {
            "_model_module": "@jupyter-widgets/controls",
            "_model_module_version": "1.5.0",
            "_model_name": "DescriptionStyleModel",
            "_view_count": null,
            "_view_module": "@jupyter-widgets/base",
            "_view_module_version": "1.2.0",
            "_view_name": "StyleView",
            "description_width": ""
          }
        },
        "8ed80b1111394c889ef3b6af805aff0c": {
          "model_module": "@jupyter-widgets/base",
          "model_name": "LayoutModel",
          "model_module_version": "1.2.0",
          "state": {
            "_model_module": "@jupyter-widgets/base",
            "_model_module_version": "1.2.0",
            "_model_name": "LayoutModel",
            "_view_count": null,
            "_view_module": "@jupyter-widgets/base",
            "_view_module_version": "1.2.0",
            "_view_name": "LayoutView",
            "align_content": null,
            "align_items": null,
            "align_self": null,
            "border": null,
            "bottom": null,
            "display": null,
            "flex": null,
            "flex_flow": null,
            "grid_area": null,
            "grid_auto_columns": null,
            "grid_auto_flow": null,
            "grid_auto_rows": null,
            "grid_column": null,
            "grid_gap": null,
            "grid_row": null,
            "grid_template_areas": null,
            "grid_template_columns": null,
            "grid_template_rows": null,
            "height": null,
            "justify_content": null,
            "justify_items": null,
            "left": null,
            "margin": null,
            "max_height": null,
            "max_width": null,
            "min_height": null,
            "min_width": null,
            "object_fit": null,
            "object_position": null,
            "order": null,
            "overflow": null,
            "overflow_x": null,
            "overflow_y": null,
            "padding": null,
            "right": null,
            "top": null,
            "visibility": null,
            "width": null
          }
        },
        "54cfdbf109b5488c898e83393f51a81b": {
          "model_module": "@jupyter-widgets/controls",
          "model_name": "ProgressStyleModel",
          "model_module_version": "1.5.0",
          "state": {
            "_model_module": "@jupyter-widgets/controls",
            "_model_module_version": "1.5.0",
            "_model_name": "ProgressStyleModel",
            "_view_count": null,
            "_view_module": "@jupyter-widgets/base",
            "_view_module_version": "1.2.0",
            "_view_name": "StyleView",
            "bar_color": null,
            "description_width": ""
          }
        },
        "d549ba78023e4c62bd5c643a1bb8e6e6": {
          "model_module": "@jupyter-widgets/base",
          "model_name": "LayoutModel",
          "model_module_version": "1.2.0",
          "state": {
            "_model_module": "@jupyter-widgets/base",
            "_model_module_version": "1.2.0",
            "_model_name": "LayoutModel",
            "_view_count": null,
            "_view_module": "@jupyter-widgets/base",
            "_view_module_version": "1.2.0",
            "_view_name": "LayoutView",
            "align_content": null,
            "align_items": null,
            "align_self": null,
            "border": null,
            "bottom": null,
            "display": null,
            "flex": null,
            "flex_flow": null,
            "grid_area": null,
            "grid_auto_columns": null,
            "grid_auto_flow": null,
            "grid_auto_rows": null,
            "grid_column": null,
            "grid_gap": null,
            "grid_row": null,
            "grid_template_areas": null,
            "grid_template_columns": null,
            "grid_template_rows": null,
            "height": null,
            "justify_content": null,
            "justify_items": null,
            "left": null,
            "margin": null,
            "max_height": null,
            "max_width": null,
            "min_height": null,
            "min_width": null,
            "object_fit": null,
            "object_position": null,
            "order": null,
            "overflow": null,
            "overflow_x": null,
            "overflow_y": null,
            "padding": null,
            "right": null,
            "top": null,
            "visibility": null,
            "width": null
          }
        },
        "c9f0273c0aa24c3c98aa3abfce93e629": {
          "model_module": "@jupyter-widgets/controls",
          "model_name": "DescriptionStyleModel",
          "model_module_version": "1.5.0",
          "state": {
            "_model_module": "@jupyter-widgets/controls",
            "_model_module_version": "1.5.0",
            "_model_name": "DescriptionStyleModel",
            "_view_count": null,
            "_view_module": "@jupyter-widgets/base",
            "_view_module_version": "1.2.0",
            "_view_name": "StyleView",
            "description_width": ""
          }
        },
        "07c142b38e1d4921914fc0493a03c4fd": {
          "model_module": "@jupyter-widgets/controls",
          "model_name": "HBoxModel",
          "model_module_version": "1.5.0",
          "state": {
            "_dom_classes": [],
            "_model_module": "@jupyter-widgets/controls",
            "_model_module_version": "1.5.0",
            "_model_name": "HBoxModel",
            "_view_count": null,
            "_view_module": "@jupyter-widgets/controls",
            "_view_module_version": "1.5.0",
            "_view_name": "HBoxView",
            "box_style": "",
            "children": [
              "IPY_MODEL_d3fe21747cbd48faab4beb7b851fd870",
              "IPY_MODEL_826913a95314499a82bdcfb8215cfd9d",
              "IPY_MODEL_052724aa241a44d986275f6804bfc581"
            ],
            "layout": "IPY_MODEL_d7acdab78de148a4972e231281a2b67c"
          }
        },
        "d3fe21747cbd48faab4beb7b851fd870": {
          "model_module": "@jupyter-widgets/controls",
          "model_name": "HTMLModel",
          "model_module_version": "1.5.0",
          "state": {
            "_dom_classes": [],
            "_model_module": "@jupyter-widgets/controls",
            "_model_module_version": "1.5.0",
            "_model_name": "HTMLModel",
            "_view_count": null,
            "_view_module": "@jupyter-widgets/controls",
            "_view_module_version": "1.5.0",
            "_view_name": "HTMLView",
            "description": "",
            "description_tooltip": null,
            "layout": "IPY_MODEL_4b42d4d900cc4159977dcaf5ea60211c",
            "placeholder": "​",
            "style": "IPY_MODEL_e937f07fad4049d094b74f37cead8321",
            "value": "Downloading (…)lve/main/config.json: 100%"
          }
        },
        "826913a95314499a82bdcfb8215cfd9d": {
          "model_module": "@jupyter-widgets/controls",
          "model_name": "FloatProgressModel",
          "model_module_version": "1.5.0",
          "state": {
            "_dom_classes": [],
            "_model_module": "@jupyter-widgets/controls",
            "_model_module_version": "1.5.0",
            "_model_name": "FloatProgressModel",
            "_view_count": null,
            "_view_module": "@jupyter-widgets/controls",
            "_view_module_version": "1.5.0",
            "_view_name": "ProgressView",
            "bar_style": "success",
            "description": "",
            "description_tooltip": null,
            "layout": "IPY_MODEL_95a29a64757446d3b06c529a3e79ccfd",
            "max": 570,
            "min": 0,
            "orientation": "horizontal",
            "style": "IPY_MODEL_dcc2e207be6544449dba91c08ab84e7a",
            "value": 570
          }
        },
        "052724aa241a44d986275f6804bfc581": {
          "model_module": "@jupyter-widgets/controls",
          "model_name": "HTMLModel",
          "model_module_version": "1.5.0",
          "state": {
            "_dom_classes": [],
            "_model_module": "@jupyter-widgets/controls",
            "_model_module_version": "1.5.0",
            "_model_name": "HTMLModel",
            "_view_count": null,
            "_view_module": "@jupyter-widgets/controls",
            "_view_module_version": "1.5.0",
            "_view_name": "HTMLView",
            "description": "",
            "description_tooltip": null,
            "layout": "IPY_MODEL_173b7f06c5d44501b041c6aee0ee0b51",
            "placeholder": "​",
            "style": "IPY_MODEL_758c3d7c8fae487abdf8d1b756d6add5",
            "value": " 570/570 [00:00&lt;00:00, 7.73kB/s]"
          }
        },
        "d7acdab78de148a4972e231281a2b67c": {
          "model_module": "@jupyter-widgets/base",
          "model_name": "LayoutModel",
          "model_module_version": "1.2.0",
          "state": {
            "_model_module": "@jupyter-widgets/base",
            "_model_module_version": "1.2.0",
            "_model_name": "LayoutModel",
            "_view_count": null,
            "_view_module": "@jupyter-widgets/base",
            "_view_module_version": "1.2.0",
            "_view_name": "LayoutView",
            "align_content": null,
            "align_items": null,
            "align_self": null,
            "border": null,
            "bottom": null,
            "display": null,
            "flex": null,
            "flex_flow": null,
            "grid_area": null,
            "grid_auto_columns": null,
            "grid_auto_flow": null,
            "grid_auto_rows": null,
            "grid_column": null,
            "grid_gap": null,
            "grid_row": null,
            "grid_template_areas": null,
            "grid_template_columns": null,
            "grid_template_rows": null,
            "height": null,
            "justify_content": null,
            "justify_items": null,
            "left": null,
            "margin": null,
            "max_height": null,
            "max_width": null,
            "min_height": null,
            "min_width": null,
            "object_fit": null,
            "object_position": null,
            "order": null,
            "overflow": null,
            "overflow_x": null,
            "overflow_y": null,
            "padding": null,
            "right": null,
            "top": null,
            "visibility": null,
            "width": null
          }
        },
        "4b42d4d900cc4159977dcaf5ea60211c": {
          "model_module": "@jupyter-widgets/base",
          "model_name": "LayoutModel",
          "model_module_version": "1.2.0",
          "state": {
            "_model_module": "@jupyter-widgets/base",
            "_model_module_version": "1.2.0",
            "_model_name": "LayoutModel",
            "_view_count": null,
            "_view_module": "@jupyter-widgets/base",
            "_view_module_version": "1.2.0",
            "_view_name": "LayoutView",
            "align_content": null,
            "align_items": null,
            "align_self": null,
            "border": null,
            "bottom": null,
            "display": null,
            "flex": null,
            "flex_flow": null,
            "grid_area": null,
            "grid_auto_columns": null,
            "grid_auto_flow": null,
            "grid_auto_rows": null,
            "grid_column": null,
            "grid_gap": null,
            "grid_row": null,
            "grid_template_areas": null,
            "grid_template_columns": null,
            "grid_template_rows": null,
            "height": null,
            "justify_content": null,
            "justify_items": null,
            "left": null,
            "margin": null,
            "max_height": null,
            "max_width": null,
            "min_height": null,
            "min_width": null,
            "object_fit": null,
            "object_position": null,
            "order": null,
            "overflow": null,
            "overflow_x": null,
            "overflow_y": null,
            "padding": null,
            "right": null,
            "top": null,
            "visibility": null,
            "width": null
          }
        },
        "e937f07fad4049d094b74f37cead8321": {
          "model_module": "@jupyter-widgets/controls",
          "model_name": "DescriptionStyleModel",
          "model_module_version": "1.5.0",
          "state": {
            "_model_module": "@jupyter-widgets/controls",
            "_model_module_version": "1.5.0",
            "_model_name": "DescriptionStyleModel",
            "_view_count": null,
            "_view_module": "@jupyter-widgets/base",
            "_view_module_version": "1.2.0",
            "_view_name": "StyleView",
            "description_width": ""
          }
        },
        "95a29a64757446d3b06c529a3e79ccfd": {
          "model_module": "@jupyter-widgets/base",
          "model_name": "LayoutModel",
          "model_module_version": "1.2.0",
          "state": {
            "_model_module": "@jupyter-widgets/base",
            "_model_module_version": "1.2.0",
            "_model_name": "LayoutModel",
            "_view_count": null,
            "_view_module": "@jupyter-widgets/base",
            "_view_module_version": "1.2.0",
            "_view_name": "LayoutView",
            "align_content": null,
            "align_items": null,
            "align_self": null,
            "border": null,
            "bottom": null,
            "display": null,
            "flex": null,
            "flex_flow": null,
            "grid_area": null,
            "grid_auto_columns": null,
            "grid_auto_flow": null,
            "grid_auto_rows": null,
            "grid_column": null,
            "grid_gap": null,
            "grid_row": null,
            "grid_template_areas": null,
            "grid_template_columns": null,
            "grid_template_rows": null,
            "height": null,
            "justify_content": null,
            "justify_items": null,
            "left": null,
            "margin": null,
            "max_height": null,
            "max_width": null,
            "min_height": null,
            "min_width": null,
            "object_fit": null,
            "object_position": null,
            "order": null,
            "overflow": null,
            "overflow_x": null,
            "overflow_y": null,
            "padding": null,
            "right": null,
            "top": null,
            "visibility": null,
            "width": null
          }
        },
        "dcc2e207be6544449dba91c08ab84e7a": {
          "model_module": "@jupyter-widgets/controls",
          "model_name": "ProgressStyleModel",
          "model_module_version": "1.5.0",
          "state": {
            "_model_module": "@jupyter-widgets/controls",
            "_model_module_version": "1.5.0",
            "_model_name": "ProgressStyleModel",
            "_view_count": null,
            "_view_module": "@jupyter-widgets/base",
            "_view_module_version": "1.2.0",
            "_view_name": "StyleView",
            "bar_color": null,
            "description_width": ""
          }
        },
        "173b7f06c5d44501b041c6aee0ee0b51": {
          "model_module": "@jupyter-widgets/base",
          "model_name": "LayoutModel",
          "model_module_version": "1.2.0",
          "state": {
            "_model_module": "@jupyter-widgets/base",
            "_model_module_version": "1.2.0",
            "_model_name": "LayoutModel",
            "_view_count": null,
            "_view_module": "@jupyter-widgets/base",
            "_view_module_version": "1.2.0",
            "_view_name": "LayoutView",
            "align_content": null,
            "align_items": null,
            "align_self": null,
            "border": null,
            "bottom": null,
            "display": null,
            "flex": null,
            "flex_flow": null,
            "grid_area": null,
            "grid_auto_columns": null,
            "grid_auto_flow": null,
            "grid_auto_rows": null,
            "grid_column": null,
            "grid_gap": null,
            "grid_row": null,
            "grid_template_areas": null,
            "grid_template_columns": null,
            "grid_template_rows": null,
            "height": null,
            "justify_content": null,
            "justify_items": null,
            "left": null,
            "margin": null,
            "max_height": null,
            "max_width": null,
            "min_height": null,
            "min_width": null,
            "object_fit": null,
            "object_position": null,
            "order": null,
            "overflow": null,
            "overflow_x": null,
            "overflow_y": null,
            "padding": null,
            "right": null,
            "top": null,
            "visibility": null,
            "width": null
          }
        },
        "758c3d7c8fae487abdf8d1b756d6add5": {
          "model_module": "@jupyter-widgets/controls",
          "model_name": "DescriptionStyleModel",
          "model_module_version": "1.5.0",
          "state": {
            "_model_module": "@jupyter-widgets/controls",
            "_model_module_version": "1.5.0",
            "_model_name": "DescriptionStyleModel",
            "_view_count": null,
            "_view_module": "@jupyter-widgets/base",
            "_view_module_version": "1.2.0",
            "_view_name": "StyleView",
            "description_width": ""
          }
        },
        "2c163c061da84e7fad4eb2bce943974d": {
          "model_module": "@jupyter-widgets/controls",
          "model_name": "HBoxModel",
          "model_module_version": "1.5.0",
          "state": {
            "_dom_classes": [],
            "_model_module": "@jupyter-widgets/controls",
            "_model_module_version": "1.5.0",
            "_model_name": "HBoxModel",
            "_view_count": null,
            "_view_module": "@jupyter-widgets/controls",
            "_view_module_version": "1.5.0",
            "_view_name": "HBoxView",
            "box_style": "",
            "children": [
              "IPY_MODEL_c13198a67a694f4daf63a6762b8e24b9",
              "IPY_MODEL_db84ed4e98e942639fb52354e7181381",
              "IPY_MODEL_ff270f4e23ef499e9f0f96b8cc4a59c7"
            ],
            "layout": "IPY_MODEL_4a5d51c420bd4674bb770e0c006d1550"
          }
        },
        "c13198a67a694f4daf63a6762b8e24b9": {
          "model_module": "@jupyter-widgets/controls",
          "model_name": "HTMLModel",
          "model_module_version": "1.5.0",
          "state": {
            "_dom_classes": [],
            "_model_module": "@jupyter-widgets/controls",
            "_model_module_version": "1.5.0",
            "_model_name": "HTMLModel",
            "_view_count": null,
            "_view_module": "@jupyter-widgets/controls",
            "_view_module_version": "1.5.0",
            "_view_name": "HTMLView",
            "description": "",
            "description_tooltip": null,
            "layout": "IPY_MODEL_991651ec8c5c40388d2300ae7f8124d2",
            "placeholder": "​",
            "style": "IPY_MODEL_16b90fa7ebca4e8cbc7fdf91f41d3b81",
            "value": "Downloading pytorch_model.bin: 100%"
          }
        },
        "db84ed4e98e942639fb52354e7181381": {
          "model_module": "@jupyter-widgets/controls",
          "model_name": "FloatProgressModel",
          "model_module_version": "1.5.0",
          "state": {
            "_dom_classes": [],
            "_model_module": "@jupyter-widgets/controls",
            "_model_module_version": "1.5.0",
            "_model_name": "FloatProgressModel",
            "_view_count": null,
            "_view_module": "@jupyter-widgets/controls",
            "_view_module_version": "1.5.0",
            "_view_name": "ProgressView",
            "bar_style": "success",
            "description": "",
            "description_tooltip": null,
            "layout": "IPY_MODEL_31e22e9428e749648780ad3ed7238b0f",
            "max": 435779157,
            "min": 0,
            "orientation": "horizontal",
            "style": "IPY_MODEL_7de457b31e164f2b80cf780b84a743e6",
            "value": 435779157
          }
        },
        "ff270f4e23ef499e9f0f96b8cc4a59c7": {
          "model_module": "@jupyter-widgets/controls",
          "model_name": "HTMLModel",
          "model_module_version": "1.5.0",
          "state": {
            "_dom_classes": [],
            "_model_module": "@jupyter-widgets/controls",
            "_model_module_version": "1.5.0",
            "_model_name": "HTMLModel",
            "_view_count": null,
            "_view_module": "@jupyter-widgets/controls",
            "_view_module_version": "1.5.0",
            "_view_name": "HTMLView",
            "description": "",
            "description_tooltip": null,
            "layout": "IPY_MODEL_b120a3b3f1294241bf73c41e9ea556e1",
            "placeholder": "​",
            "style": "IPY_MODEL_d6b09e57a9064969b915deec04fcc868",
            "value": " 436M/436M [00:02&lt;00:00, 194MB/s]"
          }
        },
        "4a5d51c420bd4674bb770e0c006d1550": {
          "model_module": "@jupyter-widgets/base",
          "model_name": "LayoutModel",
          "model_module_version": "1.2.0",
          "state": {
            "_model_module": "@jupyter-widgets/base",
            "_model_module_version": "1.2.0",
            "_model_name": "LayoutModel",
            "_view_count": null,
            "_view_module": "@jupyter-widgets/base",
            "_view_module_version": "1.2.0",
            "_view_name": "LayoutView",
            "align_content": null,
            "align_items": null,
            "align_self": null,
            "border": null,
            "bottom": null,
            "display": null,
            "flex": null,
            "flex_flow": null,
            "grid_area": null,
            "grid_auto_columns": null,
            "grid_auto_flow": null,
            "grid_auto_rows": null,
            "grid_column": null,
            "grid_gap": null,
            "grid_row": null,
            "grid_template_areas": null,
            "grid_template_columns": null,
            "grid_template_rows": null,
            "height": null,
            "justify_content": null,
            "justify_items": null,
            "left": null,
            "margin": null,
            "max_height": null,
            "max_width": null,
            "min_height": null,
            "min_width": null,
            "object_fit": null,
            "object_position": null,
            "order": null,
            "overflow": null,
            "overflow_x": null,
            "overflow_y": null,
            "padding": null,
            "right": null,
            "top": null,
            "visibility": null,
            "width": null
          }
        },
        "991651ec8c5c40388d2300ae7f8124d2": {
          "model_module": "@jupyter-widgets/base",
          "model_name": "LayoutModel",
          "model_module_version": "1.2.0",
          "state": {
            "_model_module": "@jupyter-widgets/base",
            "_model_module_version": "1.2.0",
            "_model_name": "LayoutModel",
            "_view_count": null,
            "_view_module": "@jupyter-widgets/base",
            "_view_module_version": "1.2.0",
            "_view_name": "LayoutView",
            "align_content": null,
            "align_items": null,
            "align_self": null,
            "border": null,
            "bottom": null,
            "display": null,
            "flex": null,
            "flex_flow": null,
            "grid_area": null,
            "grid_auto_columns": null,
            "grid_auto_flow": null,
            "grid_auto_rows": null,
            "grid_column": null,
            "grid_gap": null,
            "grid_row": null,
            "grid_template_areas": null,
            "grid_template_columns": null,
            "grid_template_rows": null,
            "height": null,
            "justify_content": null,
            "justify_items": null,
            "left": null,
            "margin": null,
            "max_height": null,
            "max_width": null,
            "min_height": null,
            "min_width": null,
            "object_fit": null,
            "object_position": null,
            "order": null,
            "overflow": null,
            "overflow_x": null,
            "overflow_y": null,
            "padding": null,
            "right": null,
            "top": null,
            "visibility": null,
            "width": null
          }
        },
        "16b90fa7ebca4e8cbc7fdf91f41d3b81": {
          "model_module": "@jupyter-widgets/controls",
          "model_name": "DescriptionStyleModel",
          "model_module_version": "1.5.0",
          "state": {
            "_model_module": "@jupyter-widgets/controls",
            "_model_module_version": "1.5.0",
            "_model_name": "DescriptionStyleModel",
            "_view_count": null,
            "_view_module": "@jupyter-widgets/base",
            "_view_module_version": "1.2.0",
            "_view_name": "StyleView",
            "description_width": ""
          }
        },
        "31e22e9428e749648780ad3ed7238b0f": {
          "model_module": "@jupyter-widgets/base",
          "model_name": "LayoutModel",
          "model_module_version": "1.2.0",
          "state": {
            "_model_module": "@jupyter-widgets/base",
            "_model_module_version": "1.2.0",
            "_model_name": "LayoutModel",
            "_view_count": null,
            "_view_module": "@jupyter-widgets/base",
            "_view_module_version": "1.2.0",
            "_view_name": "LayoutView",
            "align_content": null,
            "align_items": null,
            "align_self": null,
            "border": null,
            "bottom": null,
            "display": null,
            "flex": null,
            "flex_flow": null,
            "grid_area": null,
            "grid_auto_columns": null,
            "grid_auto_flow": null,
            "grid_auto_rows": null,
            "grid_column": null,
            "grid_gap": null,
            "grid_row": null,
            "grid_template_areas": null,
            "grid_template_columns": null,
            "grid_template_rows": null,
            "height": null,
            "justify_content": null,
            "justify_items": null,
            "left": null,
            "margin": null,
            "max_height": null,
            "max_width": null,
            "min_height": null,
            "min_width": null,
            "object_fit": null,
            "object_position": null,
            "order": null,
            "overflow": null,
            "overflow_x": null,
            "overflow_y": null,
            "padding": null,
            "right": null,
            "top": null,
            "visibility": null,
            "width": null
          }
        },
        "7de457b31e164f2b80cf780b84a743e6": {
          "model_module": "@jupyter-widgets/controls",
          "model_name": "ProgressStyleModel",
          "model_module_version": "1.5.0",
          "state": {
            "_model_module": "@jupyter-widgets/controls",
            "_model_module_version": "1.5.0",
            "_model_name": "ProgressStyleModel",
            "_view_count": null,
            "_view_module": "@jupyter-widgets/base",
            "_view_module_version": "1.2.0",
            "_view_name": "StyleView",
            "bar_color": null,
            "description_width": ""
          }
        },
        "b120a3b3f1294241bf73c41e9ea556e1": {
          "model_module": "@jupyter-widgets/base",
          "model_name": "LayoutModel",
          "model_module_version": "1.2.0",
          "state": {
            "_model_module": "@jupyter-widgets/base",
            "_model_module_version": "1.2.0",
            "_model_name": "LayoutModel",
            "_view_count": null,
            "_view_module": "@jupyter-widgets/base",
            "_view_module_version": "1.2.0",
            "_view_name": "LayoutView",
            "align_content": null,
            "align_items": null,
            "align_self": null,
            "border": null,
            "bottom": null,
            "display": null,
            "flex": null,
            "flex_flow": null,
            "grid_area": null,
            "grid_auto_columns": null,
            "grid_auto_flow": null,
            "grid_auto_rows": null,
            "grid_column": null,
            "grid_gap": null,
            "grid_row": null,
            "grid_template_areas": null,
            "grid_template_columns": null,
            "grid_template_rows": null,
            "height": null,
            "justify_content": null,
            "justify_items": null,
            "left": null,
            "margin": null,
            "max_height": null,
            "max_width": null,
            "min_height": null,
            "min_width": null,
            "object_fit": null,
            "object_position": null,
            "order": null,
            "overflow": null,
            "overflow_x": null,
            "overflow_y": null,
            "padding": null,
            "right": null,
            "top": null,
            "visibility": null,
            "width": null
          }
        },
        "d6b09e57a9064969b915deec04fcc868": {
          "model_module": "@jupyter-widgets/controls",
          "model_name": "DescriptionStyleModel",
          "model_module_version": "1.5.0",
          "state": {
            "_model_module": "@jupyter-widgets/controls",
            "_model_module_version": "1.5.0",
            "_model_name": "DescriptionStyleModel",
            "_view_count": null,
            "_view_module": "@jupyter-widgets/base",
            "_view_module_version": "1.2.0",
            "_view_name": "StyleView",
            "description_width": ""
          }
        }
      }
    },
    "accelerator": "GPU"
  },
  "nbformat": 4,
  "nbformat_minor": 0
}